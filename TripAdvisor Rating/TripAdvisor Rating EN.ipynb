{
 "cells": [
  {
   "cell_type": "markdown",
   "metadata": {},
   "source": [
    "# Import"
   ]
  },
  {
   "cell_type": "code",
   "execution_count": 1,
   "metadata": {},
   "outputs": [],
   "source": [
    "import numpy as np\n",
    "import pandas as pd\n",
    "\n",
    "import requests\n",
    "import bs4\n",
    "from bs4 import BeautifulSoup\n",
    "\n",
    "import matplotlib.pyplot as plt\n",
    "import seaborn as sns \n",
    "%matplotlib inline\n",
    "\n",
    "import datetime\n",
    "import re\n",
    "\n",
    "from sklearn.model_selection import train_test_split  "
   ]
  },
  {
   "cell_type": "markdown",
   "metadata": {},
   "source": [
    "# Functions"
   ]
  },
  {
   "cell_type": "code",
   "execution_count": 2,
   "metadata": {},
   "outputs": [],
   "source": [
    "# Changes the value of 0 and 1\n",
    "def change_value(cell):\n",
    "    if cell == 1:\n",
    "        return 0\n",
    "    else:\n",
    "        return 1\n",
    "    \n",
    "# Search for national cuisine in the column\n",
    "def cuisine_search(column):\n",
    "    for cell in countries:\n",
    "        if cell in column:\n",
    "            return 1\n",
    "        else:\n",
    "            0\n",
    "\n",
    "# When adding a new column (dummy variable) \n",
    "# we put 1 - if there is one, 0 - if there is no one\n",
    "def find_item(cell):\n",
    "    if item in cell:\n",
    "        return 1\n",
    "    return 0\n",
    "\n",
    "# Cuisine count\n",
    "def find_cuisine(cell):\n",
    "    cell = cell.split(',')\n",
    "    return len(cell)\n",
    "\n",
    "# Date search\n",
    "def add_date(x):\n",
    "    if x == []:\n",
    "        return 0\n",
    "    else:\n",
    "        return 1\n",
    "\n",
    "# Search for the number of reviews via dates\n",
    "def find_review_date(cell):\n",
    "    if len(cell) > 10:\n",
    "        return 2\n",
    "    elif len(cell) > 0:\n",
    "        return 1\n",
    "    else:\n",
    "        return 0\n",
    "    \n",
    "# Quality of the review through positive mood in the review  \n",
    "def mood(column):\n",
    "    i = 0\n",
    "    for cell in column:\n",
    "        for mood in words:\n",
    "            if mood == cell:\n",
    "                i += 1\n",
    "    return i\n",
    "\n",
    "# Quality of the review through negative mood in the review\n",
    "def mood_bad(column):\n",
    "    i = 0\n",
    "    for cell in column:\n",
    "        for mood in bad_words:\n",
    "            if mood == cell:\n",
    "                i += 1\n",
    "    return i\n",
    "\n",
    "# Checking for missing values in the column\n",
    "def precent_check(column):\n",
    "    math = 100 - ((df[column].count() * 100) / 40000)\n",
    "    print(\"The\",column,\"column is missing\", '\\033[4m' + str(round(math, 2)),\"percent\" + '\\033[0m',\"of the information.\")\n",
    "    \n",
    "# Output of basic statistics of categorical features\n",
    "def categorical_check(column):\n",
    "    display(pd.DataFrame(df[column].value_counts()))\n",
    "    print(df[column].describe())\n",
    "\n",
    "# Construction of the histogram and the output of the basic statistics of digital signs\n",
    "def numerical_check(column):\n",
    "    display(df[column].hist(bins=100))\n",
    "    print(df[column].describe())"
   ]
  },
  {
   "cell_type": "markdown",
   "metadata": {},
   "source": [
    "# ---------------------------- Data ----------------------------"
   ]
  },
  {
   "cell_type": "markdown",
   "metadata": {},
   "source": [
    "# Information"
   ]
  },
  {
   "cell_type": "markdown",
   "metadata": {},
   "source": [
    "* Restaurant_id: Restaurant ID\n",
    "* City: City \n",
    "* Cuisine Style: Cuisine\n",
    "* Ranking: Restaurant ranking relative to other restaurants in the city\n",
    "* Price Range: Restaurant prices in 3 categories\n",
    "* Number of Reviews: Number of reviews\n",
    "* Reviews: Last 2 reviews and dates of reviews\n",
    "* URL_TA: The restaurant's page on 'www.tripadvisor.com'. \n",
    "* ID_TA: TripAdvisor restaurant ID\n",
    "* Rating: Rating of the restaurant"
   ]
  },
  {
   "cell_type": "code",
   "execution_count": 3,
   "metadata": {},
   "outputs": [],
   "source": [
    "df = pd.read_csv('main_task_new.csv') "
   ]
  },
  {
   "cell_type": "code",
   "execution_count": 4,
   "metadata": {},
   "outputs": [
    {
     "data": {
      "text/html": [
       "<div>\n",
       "<style scoped>\n",
       "    .dataframe tbody tr th:only-of-type {\n",
       "        vertical-align: middle;\n",
       "    }\n",
       "\n",
       "    .dataframe tbody tr th {\n",
       "        vertical-align: top;\n",
       "    }\n",
       "\n",
       "    .dataframe thead th {\n",
       "        text-align: right;\n",
       "    }\n",
       "</style>\n",
       "<table border=\"1\" class=\"dataframe\">\n",
       "  <thead>\n",
       "    <tr style=\"text-align: right;\">\n",
       "      <th></th>\n",
       "      <th>Restaurant_id</th>\n",
       "      <th>City</th>\n",
       "      <th>Cuisine Style</th>\n",
       "      <th>Ranking</th>\n",
       "      <th>Rating</th>\n",
       "      <th>Price Range</th>\n",
       "      <th>Number of Reviews</th>\n",
       "      <th>Reviews</th>\n",
       "      <th>URL_TA</th>\n",
       "      <th>ID_TA</th>\n",
       "    </tr>\n",
       "  </thead>\n",
       "  <tbody>\n",
       "    <tr>\n",
       "      <th>0</th>\n",
       "      <td>id_5569</td>\n",
       "      <td>Paris</td>\n",
       "      <td>['European', 'French', 'International']</td>\n",
       "      <td>5570.0</td>\n",
       "      <td>3.5</td>\n",
       "      <td>$$ - $$$</td>\n",
       "      <td>194.0</td>\n",
       "      <td>[['Good food at your doorstep', 'A good hotel ...</td>\n",
       "      <td>/Restaurant_Review-g187147-d1912643-Reviews-R_...</td>\n",
       "      <td>d1912643</td>\n",
       "    </tr>\n",
       "    <tr>\n",
       "      <th>1</th>\n",
       "      <td>id_1535</td>\n",
       "      <td>Stockholm</td>\n",
       "      <td>NaN</td>\n",
       "      <td>1537.0</td>\n",
       "      <td>4.0</td>\n",
       "      <td>NaN</td>\n",
       "      <td>10.0</td>\n",
       "      <td>[['Unique cuisine', 'Delicious Nepalese food']...</td>\n",
       "      <td>/Restaurant_Review-g189852-d7992032-Reviews-Bu...</td>\n",
       "      <td>d7992032</td>\n",
       "    </tr>\n",
       "    <tr>\n",
       "      <th>2</th>\n",
       "      <td>id_352</td>\n",
       "      <td>London</td>\n",
       "      <td>['Japanese', 'Sushi', 'Asian', 'Grill', 'Veget...</td>\n",
       "      <td>353.0</td>\n",
       "      <td>4.5</td>\n",
       "      <td>$$$$</td>\n",
       "      <td>688.0</td>\n",
       "      <td>[['Catch up with friends', 'Not exceptional'],...</td>\n",
       "      <td>/Restaurant_Review-g186338-d8632781-Reviews-RO...</td>\n",
       "      <td>d8632781</td>\n",
       "    </tr>\n",
       "    <tr>\n",
       "      <th>3</th>\n",
       "      <td>id_3456</td>\n",
       "      <td>Berlin</td>\n",
       "      <td>NaN</td>\n",
       "      <td>3458.0</td>\n",
       "      <td>5.0</td>\n",
       "      <td>NaN</td>\n",
       "      <td>3.0</td>\n",
       "      <td>[[], []]</td>\n",
       "      <td>/Restaurant_Review-g187323-d1358776-Reviews-Es...</td>\n",
       "      <td>d1358776</td>\n",
       "    </tr>\n",
       "    <tr>\n",
       "      <th>4</th>\n",
       "      <td>id_615</td>\n",
       "      <td>Munich</td>\n",
       "      <td>['German', 'Central European', 'Vegetarian Fri...</td>\n",
       "      <td>621.0</td>\n",
       "      <td>4.0</td>\n",
       "      <td>$$ - $$$</td>\n",
       "      <td>84.0</td>\n",
       "      <td>[['Best place to try a Bavarian food', 'Nice b...</td>\n",
       "      <td>/Restaurant_Review-g187309-d6864963-Reviews-Au...</td>\n",
       "      <td>d6864963</td>\n",
       "    </tr>\n",
       "  </tbody>\n",
       "</table>\n",
       "</div>"
      ],
      "text/plain": [
       "  Restaurant_id       City                                      Cuisine Style  \\\n",
       "0       id_5569      Paris            ['European', 'French', 'International']   \n",
       "1       id_1535  Stockholm                                                NaN   \n",
       "2        id_352     London  ['Japanese', 'Sushi', 'Asian', 'Grill', 'Veget...   \n",
       "3       id_3456     Berlin                                                NaN   \n",
       "4        id_615     Munich  ['German', 'Central European', 'Vegetarian Fri...   \n",
       "\n",
       "   Ranking  Rating Price Range  Number of Reviews  \\\n",
       "0   5570.0     3.5    $$ - $$$              194.0   \n",
       "1   1537.0     4.0         NaN               10.0   \n",
       "2    353.0     4.5        $$$$              688.0   \n",
       "3   3458.0     5.0         NaN                3.0   \n",
       "4    621.0     4.0    $$ - $$$               84.0   \n",
       "\n",
       "                                             Reviews  \\\n",
       "0  [['Good food at your doorstep', 'A good hotel ...   \n",
       "1  [['Unique cuisine', 'Delicious Nepalese food']...   \n",
       "2  [['Catch up with friends', 'Not exceptional'],...   \n",
       "3                                           [[], []]   \n",
       "4  [['Best place to try a Bavarian food', 'Nice b...   \n",
       "\n",
       "                                              URL_TA     ID_TA  \n",
       "0  /Restaurant_Review-g187147-d1912643-Reviews-R_...  d1912643  \n",
       "1  /Restaurant_Review-g189852-d7992032-Reviews-Bu...  d7992032  \n",
       "2  /Restaurant_Review-g186338-d8632781-Reviews-RO...  d8632781  \n",
       "3  /Restaurant_Review-g187323-d1358776-Reviews-Es...  d1358776  \n",
       "4  /Restaurant_Review-g187309-d6864963-Reviews-Au...  d6864963  "
      ]
     },
     "execution_count": 4,
     "metadata": {},
     "output_type": "execute_result"
    }
   ],
   "source": [
    "df.head()"
   ]
  },
  {
   "cell_type": "code",
   "execution_count": 5,
   "metadata": {},
   "outputs": [
    {
     "name": "stdout",
     "output_type": "stream",
     "text": [
      "<class 'pandas.core.frame.DataFrame'>\n",
      "RangeIndex: 40000 entries, 0 to 39999\n",
      "Data columns (total 10 columns):\n",
      " #   Column             Non-Null Count  Dtype  \n",
      "---  ------             --------------  -----  \n",
      " 0   Restaurant_id      40000 non-null  object \n",
      " 1   City               40000 non-null  object \n",
      " 2   Cuisine Style      30717 non-null  object \n",
      " 3   Ranking            40000 non-null  float64\n",
      " 4   Rating             40000 non-null  float64\n",
      " 5   Price Range        26114 non-null  object \n",
      " 6   Number of Reviews  37457 non-null  float64\n",
      " 7   Reviews            40000 non-null  object \n",
      " 8   URL_TA             40000 non-null  object \n",
      " 9   ID_TA              40000 non-null  object \n",
      "dtypes: float64(3), object(7)\n",
      "memory usage: 3.1+ MB\n"
     ]
    }
   ],
   "source": [
    "df.info()"
   ]
  },
  {
   "cell_type": "markdown",
   "metadata": {},
   "source": [
    "Как мы видим, существуют заметные пропуски в:\n",
    "* Cuisine Style\n",
    "* Price Range\n",
    "* Number of Reviews"
   ]
  },
  {
   "cell_type": "markdown",
   "metadata": {},
   "source": [
    "# Preprocessing"
   ]
  },
  {
   "cell_type": "code",
   "execution_count": 6,
   "metadata": {},
   "outputs": [],
   "source": [
    "# For easy viewing we remove \n",
    "# cell view restrictions\n",
    "pd.set_option('display.max_colwidth', None)"
   ]
  },
  {
   "cell_type": "code",
   "execution_count": 7,
   "metadata": {},
   "outputs": [],
   "source": [
    "# Rename the column indexes\n",
    "df.columns = ['restaurant_id','city','cuisine_style','ranking','rating',\n",
    "              'price_range','reviews_number','reviews','url_ta','id_ta']"
   ]
  },
  {
   "cell_type": "code",
   "execution_count": 8,
   "metadata": {},
   "outputs": [
    {
     "name": "stdout",
     "output_type": "stream",
     "text": [
      "The price_range column is missing \u001b[4m34.72 percent\u001b[0m of the information.\n",
      "The cuisine_style column is missing \u001b[4m23.21 percent\u001b[0m of the information.\n",
      "The reviews_number column is missing \u001b[4m6.36 percent\u001b[0m of the information.\n"
     ]
    }
   ],
   "source": [
    "# Check the number of missing values in the columns\n",
    "precent_check('price_range')\n",
    "precent_check('cuisine_style')\n",
    "precent_check('reviews_number')"
   ]
  },
  {
   "cell_type": "code",
   "execution_count": 9,
   "metadata": {},
   "outputs": [],
   "source": [
    "df.ranking.fillna(value = 0, inplace = True)\n",
    "df.rating.fillna(value = 0, inplace = True)\n",
    "df['reviews_number'].fillna(value = 0, inplace = True)"
   ]
  },
  {
   "cell_type": "markdown",
   "metadata": {},
   "source": [
    "# Processing"
   ]
  },
  {
   "cell_type": "markdown",
   "metadata": {},
   "source": [
    "### restaurant_id"
   ]
  },
  {
   "cell_type": "code",
   "execution_count": 10,
   "metadata": {},
   "outputs": [
    {
     "data": {
      "text/html": [
       "<div>\n",
       "<style scoped>\n",
       "    .dataframe tbody tr th:only-of-type {\n",
       "        vertical-align: middle;\n",
       "    }\n",
       "\n",
       "    .dataframe tbody tr th {\n",
       "        vertical-align: top;\n",
       "    }\n",
       "\n",
       "    .dataframe thead th {\n",
       "        text-align: right;\n",
       "    }\n",
       "</style>\n",
       "<table border=\"1\" class=\"dataframe\">\n",
       "  <thead>\n",
       "    <tr style=\"text-align: right;\">\n",
       "      <th></th>\n",
       "      <th>restaurant_id</th>\n",
       "    </tr>\n",
       "  </thead>\n",
       "  <tbody>\n",
       "    <tr>\n",
       "      <th>id_871</th>\n",
       "      <td>18</td>\n",
       "    </tr>\n",
       "    <tr>\n",
       "      <th>id_633</th>\n",
       "      <td>18</td>\n",
       "    </tr>\n",
       "    <tr>\n",
       "      <th>id_436</th>\n",
       "      <td>18</td>\n",
       "    </tr>\n",
       "    <tr>\n",
       "      <th>id_227</th>\n",
       "      <td>18</td>\n",
       "    </tr>\n",
       "    <tr>\n",
       "      <th>id_534</th>\n",
       "      <td>17</td>\n",
       "    </tr>\n",
       "    <tr>\n",
       "      <th>...</th>\n",
       "      <td>...</td>\n",
       "    </tr>\n",
       "    <tr>\n",
       "      <th>id_12243</th>\n",
       "      <td>1</td>\n",
       "    </tr>\n",
       "    <tr>\n",
       "      <th>id_6028</th>\n",
       "      <td>1</td>\n",
       "    </tr>\n",
       "    <tr>\n",
       "      <th>id_6807</th>\n",
       "      <td>1</td>\n",
       "    </tr>\n",
       "    <tr>\n",
       "      <th>id_16315</th>\n",
       "      <td>1</td>\n",
       "    </tr>\n",
       "    <tr>\n",
       "      <th>id_11733</th>\n",
       "      <td>1</td>\n",
       "    </tr>\n",
       "  </tbody>\n",
       "</table>\n",
       "<p>11909 rows × 1 columns</p>\n",
       "</div>"
      ],
      "text/plain": [
       "          restaurant_id\n",
       "id_871               18\n",
       "id_633               18\n",
       "id_436               18\n",
       "id_227               18\n",
       "id_534               17\n",
       "...                 ...\n",
       "id_12243              1\n",
       "id_6028               1\n",
       "id_6807               1\n",
       "id_16315              1\n",
       "id_11733              1\n",
       "\n",
       "[11909 rows x 1 columns]"
      ]
     },
     "metadata": {},
     "output_type": "display_data"
    },
    {
     "name": "stdout",
     "output_type": "stream",
     "text": [
      "count      40000\n",
      "unique     11909\n",
      "top       id_871\n",
      "freq          18\n",
      "Name: restaurant_id, dtype: object\n"
     ]
    }
   ],
   "source": [
    "# Let's check the categorical feature - restaurant_id\n",
    "# As we can see, some restaurants are more common,\n",
    "# which tells us about the restaurant chain\n",
    "\n",
    "categorical_check('restaurant_id')"
   ]
  },
  {
   "cell_type": "markdown",
   "metadata": {},
   "source": [
    "### city"
   ]
  },
  {
   "cell_type": "code",
   "execution_count": 11,
   "metadata": {},
   "outputs": [
    {
     "data": {
      "text/html": [
       "<div>\n",
       "<style scoped>\n",
       "    .dataframe tbody tr th:only-of-type {\n",
       "        vertical-align: middle;\n",
       "    }\n",
       "\n",
       "    .dataframe tbody tr th {\n",
       "        vertical-align: top;\n",
       "    }\n",
       "\n",
       "    .dataframe thead th {\n",
       "        text-align: right;\n",
       "    }\n",
       "</style>\n",
       "<table border=\"1\" class=\"dataframe\">\n",
       "  <thead>\n",
       "    <tr style=\"text-align: right;\">\n",
       "      <th></th>\n",
       "      <th>city</th>\n",
       "    </tr>\n",
       "  </thead>\n",
       "  <tbody>\n",
       "    <tr>\n",
       "      <th>London</th>\n",
       "      <td>5757</td>\n",
       "    </tr>\n",
       "    <tr>\n",
       "      <th>Paris</th>\n",
       "      <td>4897</td>\n",
       "    </tr>\n",
       "    <tr>\n",
       "      <th>Madrid</th>\n",
       "      <td>3108</td>\n",
       "    </tr>\n",
       "    <tr>\n",
       "      <th>Barcelona</th>\n",
       "      <td>2734</td>\n",
       "    </tr>\n",
       "    <tr>\n",
       "      <th>Berlin</th>\n",
       "      <td>2155</td>\n",
       "    </tr>\n",
       "    <tr>\n",
       "      <th>Milan</th>\n",
       "      <td>2133</td>\n",
       "    </tr>\n",
       "    <tr>\n",
       "      <th>Rome</th>\n",
       "      <td>2078</td>\n",
       "    </tr>\n",
       "    <tr>\n",
       "      <th>Prague</th>\n",
       "      <td>1443</td>\n",
       "    </tr>\n",
       "    <tr>\n",
       "      <th>Lisbon</th>\n",
       "      <td>1300</td>\n",
       "    </tr>\n",
       "    <tr>\n",
       "      <th>Vienna</th>\n",
       "      <td>1166</td>\n",
       "    </tr>\n",
       "    <tr>\n",
       "      <th>Amsterdam</th>\n",
       "      <td>1086</td>\n",
       "    </tr>\n",
       "    <tr>\n",
       "      <th>Brussels</th>\n",
       "      <td>1060</td>\n",
       "    </tr>\n",
       "    <tr>\n",
       "      <th>Hamburg</th>\n",
       "      <td>949</td>\n",
       "    </tr>\n",
       "    <tr>\n",
       "      <th>Munich</th>\n",
       "      <td>893</td>\n",
       "    </tr>\n",
       "    <tr>\n",
       "      <th>Lyon</th>\n",
       "      <td>892</td>\n",
       "    </tr>\n",
       "    <tr>\n",
       "      <th>Stockholm</th>\n",
       "      <td>820</td>\n",
       "    </tr>\n",
       "    <tr>\n",
       "      <th>Budapest</th>\n",
       "      <td>816</td>\n",
       "    </tr>\n",
       "    <tr>\n",
       "      <th>Warsaw</th>\n",
       "      <td>727</td>\n",
       "    </tr>\n",
       "    <tr>\n",
       "      <th>Dublin</th>\n",
       "      <td>673</td>\n",
       "    </tr>\n",
       "    <tr>\n",
       "      <th>Copenhagen</th>\n",
       "      <td>659</td>\n",
       "    </tr>\n",
       "    <tr>\n",
       "      <th>Athens</th>\n",
       "      <td>628</td>\n",
       "    </tr>\n",
       "    <tr>\n",
       "      <th>Edinburgh</th>\n",
       "      <td>596</td>\n",
       "    </tr>\n",
       "    <tr>\n",
       "      <th>Zurich</th>\n",
       "      <td>538</td>\n",
       "    </tr>\n",
       "    <tr>\n",
       "      <th>Oporto</th>\n",
       "      <td>513</td>\n",
       "    </tr>\n",
       "    <tr>\n",
       "      <th>Geneva</th>\n",
       "      <td>481</td>\n",
       "    </tr>\n",
       "    <tr>\n",
       "      <th>Krakow</th>\n",
       "      <td>443</td>\n",
       "    </tr>\n",
       "    <tr>\n",
       "      <th>Oslo</th>\n",
       "      <td>385</td>\n",
       "    </tr>\n",
       "    <tr>\n",
       "      <th>Helsinki</th>\n",
       "      <td>376</td>\n",
       "    </tr>\n",
       "    <tr>\n",
       "      <th>Bratislava</th>\n",
       "      <td>301</td>\n",
       "    </tr>\n",
       "    <tr>\n",
       "      <th>Luxembourg</th>\n",
       "      <td>210</td>\n",
       "    </tr>\n",
       "    <tr>\n",
       "      <th>Ljubljana</th>\n",
       "      <td>183</td>\n",
       "    </tr>\n",
       "  </tbody>\n",
       "</table>\n",
       "</div>"
      ],
      "text/plain": [
       "            city\n",
       "London      5757\n",
       "Paris       4897\n",
       "Madrid      3108\n",
       "Barcelona   2734\n",
       "Berlin      2155\n",
       "Milan       2133\n",
       "Rome        2078\n",
       "Prague      1443\n",
       "Lisbon      1300\n",
       "Vienna      1166\n",
       "Amsterdam   1086\n",
       "Brussels    1060\n",
       "Hamburg      949\n",
       "Munich       893\n",
       "Lyon         892\n",
       "Stockholm    820\n",
       "Budapest     816\n",
       "Warsaw       727\n",
       "Dublin       673\n",
       "Copenhagen   659\n",
       "Athens       628\n",
       "Edinburgh    596\n",
       "Zurich       538\n",
       "Oporto       513\n",
       "Geneva       481\n",
       "Krakow       443\n",
       "Oslo         385\n",
       "Helsinki     376\n",
       "Bratislava   301\n",
       "Luxembourg   210\n",
       "Ljubljana    183"
      ]
     },
     "metadata": {},
     "output_type": "display_data"
    },
    {
     "name": "stdout",
     "output_type": "stream",
     "text": [
      "count      40000\n",
      "unique        31\n",
      "top       London\n",
      "freq        5757\n",
      "Name: city, dtype: object\n"
     ]
    }
   ],
   "source": [
    "# Let's check the categorical feature - city\n",
    "# A large number of restaurants are concentrated\n",
    "# in London, the capital of Great Britain\n",
    "\n",
    "categorical_check('city')"
   ]
  },
  {
   "cell_type": "code",
   "execution_count": 12,
   "metadata": {},
   "outputs": [
    {
     "data": {
      "text/plain": [
       "<AxesSubplot:>"
      ]
     },
     "execution_count": 12,
     "metadata": {},
     "output_type": "execute_result"
    },
    {
     "data": {
      "image/png": "[encoded data removed]",
      "text/plain": [
       "<Figure size 432x288 with 1 Axes>"
      ]
     },
     "metadata": {
      "needs_background": "light"
     },
     "output_type": "display_data"
    }
   ],
   "source": [
    "df.city.value_counts(ascending=True).plot(kind='barh')"
   ]
  },
  {
   "cell_type": "code",
   "execution_count": 13,
   "metadata": {},
   "outputs": [
    {
     "data": {
      "image/png": "[encoded data removed]",
      "text/plain": [
       "<Figure size 1296x504 with 1 Axes>"
      ]
     },
     "metadata": {
      "needs_background": "light"
     },
     "output_type": "display_data"
    }
   ],
   "source": [
    "# Let's look at the distribution of rankings by city\n",
    "\n",
    "plt.figure(figsize=(18, 7))\n",
    "sns.boxplot(x='city', y='rating', data=df)\n",
    "plt.xticks(rotation=90);"
   ]
  },
  {
   "cell_type": "markdown",
   "metadata": {},
   "source": [
    "Let's process the cities by rating and add new attributes --> rank_city_min , rank_city_max , rank_normal"
   ]
  },
  {
   "cell_type": "code",
   "execution_count": 14,
   "metadata": {},
   "outputs": [],
   "source": [
    "rank_city_min = df.groupby(['city'])['ranking'].min().to_dict()\n",
    "rank_city_max = df.groupby(['city'])['ranking'].max().to_dict()\n",
    "\n",
    "df['rank_city_min'] = df.city.map(rank_city_min)\n",
    "df['rank_city_max'] = df.city.map(rank_city_max)\n",
    "df['rank_normal'] = df.apply(lambda x: (x['ranking'] - x['rank_city_min'])/(x['rank_city_max'] - x['rank_city_min']), axis=1)"
   ]
  },
  {
   "cell_type": "markdown",
   "metadata": {},
   "source": [
    "Allocate restaurant availability by city \n",
    "and add a new attribute --> rest_in_city"
   ]
  },
  {
   "cell_type": "code",
   "execution_count": 15,
   "metadata": {},
   "outputs": [],
   "source": [
    "df['rest_in_city'] = df['city'].map(df.groupby(['city'])['restaurant_id'].count().to_dict())"
   ]
  },
  {
   "cell_type": "markdown",
   "metadata": {},
   "source": [
    "### cuisine_style"
   ]
  },
  {
   "cell_type": "code",
   "execution_count": 16,
   "metadata": {},
   "outputs": [
    {
     "data": {
      "text/html": [
       "<div>\n",
       "<style scoped>\n",
       "    .dataframe tbody tr th:only-of-type {\n",
       "        vertical-align: middle;\n",
       "    }\n",
       "\n",
       "    .dataframe tbody tr th {\n",
       "        vertical-align: top;\n",
       "    }\n",
       "\n",
       "    .dataframe thead th {\n",
       "        text-align: right;\n",
       "    }\n",
       "</style>\n",
       "<table border=\"1\" class=\"dataframe\">\n",
       "  <thead>\n",
       "    <tr style=\"text-align: right;\">\n",
       "      <th></th>\n",
       "      <th>cuisine_style</th>\n",
       "    </tr>\n",
       "  </thead>\n",
       "  <tbody>\n",
       "    <tr>\n",
       "      <th>['Italian']</th>\n",
       "      <td>1032</td>\n",
       "    </tr>\n",
       "    <tr>\n",
       "      <th>['French']</th>\n",
       "      <td>805</td>\n",
       "    </tr>\n",
       "    <tr>\n",
       "      <th>['Spanish']</th>\n",
       "      <td>695</td>\n",
       "    </tr>\n",
       "    <tr>\n",
       "      <th>['French', 'European']</th>\n",
       "      <td>405</td>\n",
       "    </tr>\n",
       "    <tr>\n",
       "      <th>['Cafe']</th>\n",
       "      <td>403</td>\n",
       "    </tr>\n",
       "    <tr>\n",
       "      <th>...</th>\n",
       "      <td>...</td>\n",
       "    </tr>\n",
       "    <tr>\n",
       "      <th>['European', 'International', 'Contemporary', 'Fusion', 'Vegetarian Friendly', 'Vegan Options', 'Gluten Free Options']</th>\n",
       "      <td>1</td>\n",
       "    </tr>\n",
       "    <tr>\n",
       "      <th>['Steakhouse', 'American', 'British', 'Vegetarian Friendly', 'Halal']</th>\n",
       "      <td>1</td>\n",
       "    </tr>\n",
       "    <tr>\n",
       "      <th>['French', 'Moroccan', 'Mediterranean', 'Soups', 'Vegetarian Friendly']</th>\n",
       "      <td>1</td>\n",
       "    </tr>\n",
       "    <tr>\n",
       "      <th>['Chinese', 'Asian', 'Thai', 'Fast Food']</th>\n",
       "      <td>1</td>\n",
       "    </tr>\n",
       "    <tr>\n",
       "      <th>['Bar', 'International', 'British']</th>\n",
       "      <td>1</td>\n",
       "    </tr>\n",
       "  </tbody>\n",
       "</table>\n",
       "<p>9007 rows × 1 columns</p>\n",
       "</div>"
      ],
      "text/plain": [
       "                                                                                                                        cuisine_style\n",
       "['Italian']                                                                                                                      1032\n",
       "['French']                                                                                                                        805\n",
       "['Spanish']                                                                                                                       695\n",
       "['French', 'European']                                                                                                            405\n",
       "['Cafe']                                                                                                                          403\n",
       "...                                                                                                                               ...\n",
       "['European', 'International', 'Contemporary', 'Fusion', 'Vegetarian Friendly', 'Vegan Options', 'Gluten Free Options']              1\n",
       "['Steakhouse', 'American', 'British', 'Vegetarian Friendly', 'Halal']                                                               1\n",
       "['French', 'Moroccan', 'Mediterranean', 'Soups', 'Vegetarian Friendly']                                                             1\n",
       "['Chinese', 'Asian', 'Thai', 'Fast Food']                                                                                           1\n",
       "['Bar', 'International', 'British']                                                                                                 1\n",
       "\n",
       "[9007 rows x 1 columns]"
      ]
     },
     "metadata": {},
     "output_type": "display_data"
    },
    {
     "name": "stdout",
     "output_type": "stream",
     "text": [
      "count           30717\n",
      "unique           9007\n",
      "top       ['Italian']\n",
      "freq             1032\n",
      "Name: cuisine_style, dtype: object\n"
     ]
    }
   ],
   "source": [
    "# Let's check the categorical feature - cuisine_style\n",
    "# There are a lot of dirty values  \n",
    "# That need to be cleaned up\n",
    "\n",
    "categorical_check('cuisine_style')"
   ]
  },
  {
   "cell_type": "code",
   "execution_count": 17,
   "metadata": {},
   "outputs": [],
   "source": [
    "# Let's add a column that shows the availability of the kitchen at each restaurant\n",
    "df['no_cuisine_style'] = pd.isna(df['cuisine_style']).astype('float64')"
   ]
  },
  {
   "cell_type": "code",
   "execution_count": 18,
   "metadata": {},
   "outputs": [],
   "source": [
    "# Clear the cuisine_style column of unnecessary characters\n",
    "# Apply a function to count the number of kitchens in each restaurant\n",
    "\n",
    "df.cuisine_style = df.cuisine_style.apply(lambda x: str(x).replace(\"\\'\",'').strip('[]'))\n",
    "df.cuisine_style = df.cuisine_style.apply(lambda x: 'Unknown' if x == 'nan' else x)\n",
    "\n",
    "df['cuisine_number'] = df.cuisine_style.apply(find_cuisine)"
   ]
  },
  {
   "cell_type": "code",
   "execution_count": 19,
   "metadata": {},
   "outputs": [],
   "source": [
    "# Create a column that identifies the national cuisine\n",
    "# among the presented cuisines in the restaurant\n",
    "\n",
    "cuisine_style = df.cuisine_style.apply(lambda x: str(x).split(','))"
   ]
  },
  {
   "cell_type": "code",
   "execution_count": 20,
   "metadata": {},
   "outputs": [],
   "source": [
    "cuisine_style = cuisine_style.explode()"
   ]
  },
  {
   "cell_type": "code",
   "execution_count": 21,
   "metadata": {},
   "outputs": [],
   "source": [
    "# Add a list of all countries, which will help us in our search\n",
    "\n",
    "countries = pd.read_csv('countries.csv')"
   ]
  },
  {
   "cell_type": "code",
   "execution_count": 22,
   "metadata": {},
   "outputs": [],
   "source": [
    "countries = countries.Name"
   ]
  },
  {
   "cell_type": "code",
   "execution_count": 23,
   "metadata": {},
   "outputs": [],
   "source": [
    "# Web scraping a list of national cuisines from Wikipedia\n",
    "\n",
    "url = 'https://en.wikipedia.org/wiki/List_of_cuisines'\n",
    "r = requests.get(url)\n",
    "\n",
    "# Retrieve only the values we need from the site\n",
    "\n",
    "soup = bs4.BeautifulSoup(r.text,'html.parser')\n",
    "cuisine = soup.find_all('div',{'class':'div-col'})[0].find_all('a')"
   ]
  },
  {
   "cell_type": "code",
   "execution_count": 24,
   "metadata": {},
   "outputs": [],
   "source": [
    "# Combining a list of countries and national cuisines\n",
    "\n",
    "country = []\n",
    "\n",
    "for item in cuisine:\n",
    "    item = item.get_text()\n",
    "    country.append(item)\n",
    "\n",
    "country = pd.Series(country)\n",
    "countries = countries.append(country)"
   ]
  },
  {
   "cell_type": "code",
   "execution_count": 25,
   "metadata": {},
   "outputs": [],
   "source": [
    "# When web scraping, some values had two cuisines each, \n",
    "# For example: Indian Singaporean cuisine\n",
    "\n",
    "cuisine_words = pd.Series(['Italian','Chinese','Indian',\n",
    "                          'Jewish','Louisiana','Malaysian',\n",
    "                         'Mediterranean','Pennsylvania','Singaporean'])\n",
    "countries = countries.append(cuisine_words)"
   ]
  },
  {
   "cell_type": "code",
   "execution_count": 26,
   "metadata": {},
   "outputs": [],
   "source": [
    "# Apply the function to find the cuisine within the column,\n",
    "# the result of having a national cuisine is 1,\n",
    "# lacking - 0\n",
    "\n",
    "df['cuisine_national'] = df.cuisine_style.apply(cuisine_search)"
   ]
  },
  {
   "cell_type": "code",
   "execution_count": 27,
   "metadata": {},
   "outputs": [],
   "source": [
    "df['cuisine_national'] = df['cuisine_national'].fillna(value = 0)"
   ]
  },
  {
   "cell_type": "code",
   "execution_count": 28,
   "metadata": {},
   "outputs": [
    {
     "data": {
      "text/plain": [
       "1.0    24993\n",
       "0.0    15007\n",
       "Name: cuisine_national, dtype: int64"
      ]
     },
     "execution_count": 28,
     "metadata": {},
     "output_type": "execute_result"
    }
   ],
   "source": [
    "df.cuisine_national.value_counts()"
   ]
  },
  {
   "cell_type": "markdown",
   "metadata": {},
   "source": [
    "### price_range"
   ]
  },
  {
   "cell_type": "code",
   "execution_count": 29,
   "metadata": {},
   "outputs": [
    {
     "name": "stdout",
     "output_type": "stream",
     "text": [
      "['$$ - $$$' nan '$$$$' '$']\n"
     ]
    },
    {
     "data": {
      "text/plain": [
       "$$ - $$$    18412\n",
       "$            6279\n",
       "$$$$         1423\n",
       "Name: price_range, dtype: int64"
      ]
     },
     "execution_count": 29,
     "metadata": {},
     "output_type": "execute_result"
    }
   ],
   "source": [
    "# As we can see price_range has three values and one value is nan\n",
    "\n",
    "print(df.price_range.unique())\n",
    "df.price_range.value_counts()"
   ]
  },
  {
   "cell_type": "code",
   "execution_count": 30,
   "metadata": {},
   "outputs": [],
   "source": [
    "# Replacing nan values with the most common value\n",
    "# Let's add a new column with the presence of price initially\n",
    "# Let's modify the price category column: \n",
    "# 3 - highest price, 2 - average price, 1 - lowest price\n",
    "\n",
    "df['no_price'] = pd.isna(df['price_range']).astype('uint8')"
   ]
  },
  {
   "cell_type": "code",
   "execution_count": 31,
   "metadata": {},
   "outputs": [],
   "source": [
    "df.no_price = df.no_price.apply(change_value)"
   ]
  },
  {
   "cell_type": "code",
   "execution_count": 32,
   "metadata": {},
   "outputs": [],
   "source": [
    "replace_price = {'price_range': {\"$\": 1, \"$$ - $$$\": 2, \"$$$$\": 3, np.NaN: 2}}\n",
    "df.replace(replace_price, inplace=True)"
   ]
  },
  {
   "cell_type": "markdown",
   "metadata": {},
   "source": [
    "### reviews"
   ]
  },
  {
   "cell_type": "code",
   "execution_count": 33,
   "metadata": {},
   "outputs": [
    {
     "data": {
      "text/html": [
       "<div>\n",
       "<style scoped>\n",
       "    .dataframe tbody tr th:only-of-type {\n",
       "        vertical-align: middle;\n",
       "    }\n",
       "\n",
       "    .dataframe tbody tr th {\n",
       "        vertical-align: top;\n",
       "    }\n",
       "\n",
       "    .dataframe thead th {\n",
       "        text-align: right;\n",
       "    }\n",
       "</style>\n",
       "<table border=\"1\" class=\"dataframe\">\n",
       "  <thead>\n",
       "    <tr style=\"text-align: right;\">\n",
       "      <th></th>\n",
       "      <th>reviews</th>\n",
       "    </tr>\n",
       "  </thead>\n",
       "  <tbody>\n",
       "    <tr>\n",
       "      <th>[[], []]</th>\n",
       "      <td>6471</td>\n",
       "    </tr>\n",
       "    <tr>\n",
       "      <th>[['Good Lebanese food', 'Decent place'], ['07/19/2017', '03/17/2017']]</th>\n",
       "      <td>2</td>\n",
       "    </tr>\n",
       "    <tr>\n",
       "      <th>[['Nice restaurant in Madrid', 'Highly reccomended'], ['11/10/2017', '05/21/2017']]</th>\n",
       "      <td>2</td>\n",
       "    </tr>\n",
       "    <tr>\n",
       "      <th>[['Very good all around', 'Our first Madrid restaurant'], ['11/20/2017', '10/11/2017']]</th>\n",
       "      <td>2</td>\n",
       "    </tr>\n",
       "    <tr>\n",
       "      <th>[['Great Food! Wide Variety.', 'Dinner'], ['11/26/2017', '05/23/2017']]</th>\n",
       "      <td>2</td>\n",
       "    </tr>\n",
       "    <tr>\n",
       "      <th>...</th>\n",
       "      <td>...</td>\n",
       "    </tr>\n",
       "    <tr>\n",
       "      <th>[['A Brunch experience not to be repeated', 'Very poor brunch'], ['02/18/2018', '02/18/2018']]</th>\n",
       "      <td>1</td>\n",
       "    </tr>\n",
       "    <tr>\n",
       "      <th>[['Good hotel in central location', 'Israeli/french and very swish restaurant'], ['06/09/2016', '05/25/2016']]</th>\n",
       "      <td>1</td>\n",
       "    </tr>\n",
       "    <tr>\n",
       "      <th>[['Your standard good pizza'], ['06/07/2016']]</th>\n",
       "      <td>1</td>\n",
       "    </tr>\n",
       "    <tr>\n",
       "      <th>[['Good quality, very cheap buffet', 'A satisfying lunch break - and low cost!'], ['07/17/2017', '05/04/2017']]</th>\n",
       "      <td>1</td>\n",
       "    </tr>\n",
       "    <tr>\n",
       "      <th>[['Lovely food, excellent value', 'What an experience'], ['02/28/2017', '06/23/2016']]</th>\n",
       "      <td>1</td>\n",
       "    </tr>\n",
       "  </tbody>\n",
       "</table>\n",
       "<p>33516 rows × 1 columns</p>\n",
       "</div>"
      ],
      "text/plain": [
       "                                                                                                                 reviews\n",
       "[[], []]                                                                                                            6471\n",
       "[['Good Lebanese food', 'Decent place'], ['07/19/2017', '03/17/2017']]                                                 2\n",
       "[['Nice restaurant in Madrid', 'Highly reccomended'], ['11/10/2017', '05/21/2017']]                                    2\n",
       "[['Very good all around', 'Our first Madrid restaurant'], ['11/20/2017', '10/11/2017']]                                2\n",
       "[['Great Food! Wide Variety.', 'Dinner'], ['11/26/2017', '05/23/2017']]                                                2\n",
       "...                                                                                                                  ...\n",
       "[['A Brunch experience not to be repeated', 'Very poor brunch'], ['02/18/2018', '02/18/2018']]                         1\n",
       "[['Good hotel in central location', 'Israeli/french and very swish restaurant'], ['06/09/2016', '05/25/2016']]         1\n",
       "[['Your standard good pizza'], ['06/07/2016']]                                                                         1\n",
       "[['Good quality, very cheap buffet', 'A satisfying lunch break - and low cost!'], ['07/17/2017', '05/04/2017']]        1\n",
       "[['Lovely food, excellent value', 'What an experience'], ['02/28/2017', '06/23/2016']]                                 1\n",
       "\n",
       "[33516 rows x 1 columns]"
      ]
     },
     "metadata": {},
     "output_type": "display_data"
    },
    {
     "name": "stdout",
     "output_type": "stream",
     "text": [
      "count        40000\n",
      "unique       33516\n",
      "top       [[], []]\n",
      "freq          6471\n",
      "Name: reviews, dtype: object\n"
     ]
    }
   ],
   "source": [
    "# Lots of missing and lots of useful but unprocessed information\n",
    "categorical_check('reviews')"
   ]
  },
  {
   "cell_type": "code",
   "execution_count": 34,
   "metadata": {},
   "outputs": [],
   "source": [
    "# Convert all the letters to lower case\n",
    "df.reviews = df.reviews.apply(lambda x: x.lower())"
   ]
  },
  {
   "cell_type": "code",
   "execution_count": 35,
   "metadata": {},
   "outputs": [],
   "source": [
    "# Define words to search for in reviews\n",
    "words = ['good', 'great', 'nice', 'best', 'excellent', \n",
    "         'delicious', 'friendly', 'lovely' , 'unique', \n",
    "         'amazing', 'tasty', 'fantastic', 'perfect', 'wonderful',\n",
    "        'super', 'awesome', 'love', 'beautiful', 'superb', \n",
    "         'interesting','yummy', 'fine', 'favourite', \n",
    "         'surprise', 'loved', 'brilliant','favorite']\n",
    "\n",
    "df['words'] = df.reviews.str.findall(r\"(\\w+)\")"
   ]
  },
  {
   "cell_type": "code",
   "execution_count": 36,
   "metadata": {},
   "outputs": [],
   "source": [
    "bad_words = ['wasting', 'boring', 'lack', 'shameful',\n",
    "             'not', 'avoid', 'ordinary', 'ordinary',\n",
    "            'terrible','terrible', 'tired', 'dried',\n",
    "             'poor','expensive','disappointed''dirty',\n",
    "             'nothing','stuffy','dark','worst','inedible']\n",
    "\n",
    "df['bad_words'] = df.reviews.str.findall(r\"(\\w+)\")"
   ]
  },
  {
   "cell_type": "markdown",
   "metadata": {},
   "source": [
    "Create a new feature --> review_mood"
   ]
  },
  {
   "cell_type": "code",
   "execution_count": 37,
   "metadata": {},
   "outputs": [],
   "source": [
    "df['review_mood'] = df.words.dropna().apply(mood)\n",
    "df.review_mood.fillna(0, inplace=True)"
   ]
  },
  {
   "cell_type": "code",
   "execution_count": 38,
   "metadata": {},
   "outputs": [],
   "source": [
    "df['review_mood_bad'] = df.words.dropna().apply(mood_bad)\n",
    "df.review_mood_bad.fillna(0, inplace=True)"
   ]
  },
  {
   "cell_type": "markdown",
   "metadata": {},
   "source": [
    "Retrieve dates from reviews, creating 1 categorical feature and 2 numerical features"
   ]
  },
  {
   "cell_type": "markdown",
   "metadata": {},
   "source": [
    "--> reviews_date (dates)"
   ]
  },
  {
   "cell_type": "code",
   "execution_count": 39,
   "metadata": {},
   "outputs": [],
   "source": [
    "# Search for a pattern and add a feature to a new column\n",
    "pattern = re.compile('\\d+\\/\\d+\\/\\d+')\n",
    "df['reviews_date'] = df['reviews'].apply(lambda x: pattern.findall(x))"
   ]
  },
  {
   "cell_type": "markdown",
   "metadata": {},
   "source": [
    "--> review_check (review availability)"
   ]
  },
  {
   "cell_type": "code",
   "execution_count": 40,
   "metadata": {},
   "outputs": [],
   "source": [
    "# Apply the function\n",
    "df['review_check'] = df.reviews_date.apply(add_date)"
   ]
  },
  {
   "cell_type": "code",
   "execution_count": 41,
   "metadata": {},
   "outputs": [],
   "source": [
    "# Remove unnecessary characters\n",
    "df.reviews_date = df.reviews_date.apply(lambda x: str(x).replace(\"\\'\",'').strip('[]'))"
   ]
  },
  {
   "cell_type": "markdown",
   "metadata": {},
   "source": [
    "--> reviews_on_website (review count)"
   ]
  },
  {
   "cell_type": "code",
   "execution_count": 42,
   "metadata": {},
   "outputs": [],
   "source": [
    "# Count the number of reviews through dates\n",
    "df['reviews_on_website'] = df.reviews_date.apply(find_review_date)"
   ]
  },
  {
   "cell_type": "markdown",
   "metadata": {},
   "source": [
    "### ranking"
   ]
  },
  {
   "cell_type": "code",
   "execution_count": 43,
   "metadata": {},
   "outputs": [
    {
     "data": {
      "text/plain": [
       "<AxesSubplot:>"
      ]
     },
     "execution_count": 43,
     "metadata": {},
     "output_type": "execute_result"
    },
    {
     "data": {
      "image/png": "[encoded data removed]",
      "text/plain": [
       "<Figure size 432x288 with 1 Axes>"
      ]
     },
     "metadata": {
      "needs_background": "light"
     },
     "output_type": "display_data"
    }
   ],
   "source": [
    "# Let's check the ranking in the most popular city - London\n",
    "df.ranking[df['city'] =='London'].hist(bins=100)"
   ]
  },
  {
   "cell_type": "code",
   "execution_count": 44,
   "metadata": {},
   "outputs": [
    {
     "data": {
      "image/png": "[encoded data removed]",
      "text/plain": [
       "<Figure size 432x288 with 1 Axes>"
      ]
     },
     "metadata": {
      "needs_background": "light"
     },
     "output_type": "display_data"
    }
   ],
   "source": [
    "# Check out the rankings in the top 12 cities\n",
    "for x in (df['city'].value_counts())[0:12].index:\n",
    "    df['ranking'][df['city'] == x].hist(bins=100)\n",
    "\n",
    "plt.show()"
   ]
  },
  {
   "cell_type": "markdown",
   "metadata": {},
   "source": [
    "Create a new attribute --> ranking_normal"
   ]
  },
  {
   "cell_type": "code",
   "execution_count": 45,
   "metadata": {},
   "outputs": [],
   "source": [
    "df['ranking_normal'] = df.ranking / df.rest_in_city"
   ]
  },
  {
   "cell_type": "markdown",
   "metadata": {},
   "source": [
    "# Correlation of features"
   ]
  },
  {
   "cell_type": "code",
   "execution_count": 46,
   "metadata": {},
   "outputs": [
    {
     "data": {
      "text/plain": [
       "<AxesSubplot:>"
      ]
     },
     "execution_count": 46,
     "metadata": {},
     "output_type": "execute_result"
    },
    {
     "data": {
      "image/png": "[encoded data removed]",
      "text/plain": [
       "<Figure size 1080x720 with 2 Axes>"
      ]
     },
     "metadata": {
      "needs_background": "light"
     },
     "output_type": "display_data"
    }
   ],
   "source": [
    "plt.rcParams['figure.figsize'] = (15,10)\n",
    "sns.heatmap(df.drop(['restaurant_id'], axis=1).corr(),)"
   ]
  },
  {
   "cell_type": "markdown",
   "metadata": {},
   "source": [
    "# dummy variable"
   ]
  },
  {
   "cell_type": "markdown",
   "metadata": {},
   "source": [
    "For the dummy variable were used cities --> cities"
   ]
  },
  {
   "cell_type": "code",
   "execution_count": 47,
   "metadata": {},
   "outputs": [],
   "source": [
    "city = {}\n",
    "\n",
    "for item in df.city:\n",
    "    city[item] =0\n",
    "\n",
    "def find_item(cell):\n",
    "    if item in cell:\n",
    "        return 1\n",
    "    return 0\n",
    "\n",
    "for item in city:\n",
    "    df[item] = df['city'].apply(find_item)"
   ]
  },
  {
   "cell_type": "markdown",
   "metadata": {},
   "source": [
    "## Check all the data"
   ]
  },
  {
   "cell_type": "code",
   "execution_count": 48,
   "metadata": {},
   "outputs": [
    {
     "data": {
      "text/plain": [
       "Index(['restaurant_id', 'city', 'cuisine_style', 'ranking', 'rating',\n",
       "       'price_range', 'reviews_number', 'reviews', 'url_ta', 'id_ta',\n",
       "       'rank_city_min', 'rank_city_max', 'rank_normal', 'rest_in_city',\n",
       "       'no_cuisine_style', 'cuisine_number', 'cuisine_national', 'no_price',\n",
       "       'words', 'bad_words', 'review_mood', 'review_mood_bad', 'reviews_date',\n",
       "       'review_check', 'reviews_on_website', 'ranking_normal', 'Paris',\n",
       "       'Stockholm', 'London', 'Berlin', 'Munich', 'Oporto', 'Milan',\n",
       "       'Bratislava', 'Vienna', 'Rome', 'Barcelona', 'Madrid', 'Dublin',\n",
       "       'Brussels', 'Zurich', 'Warsaw', 'Budapest', 'Copenhagen', 'Amsterdam',\n",
       "       'Lyon', 'Hamburg', 'Lisbon', 'Prague', 'Oslo', 'Helsinki', 'Edinburgh',\n",
       "       'Geneva', 'Ljubljana', 'Athens', 'Luxembourg', 'Krakow'],\n",
       "      dtype='object')"
      ]
     },
     "execution_count": 48,
     "metadata": {},
     "output_type": "execute_result"
    }
   ],
   "source": [
    "df.columns"
   ]
  },
  {
   "cell_type": "code",
   "execution_count": 49,
   "metadata": {},
   "outputs": [
    {
     "name": "stdout",
     "output_type": "stream",
     "text": [
      "<class 'pandas.core.frame.DataFrame'>\n",
      "RangeIndex: 40000 entries, 0 to 39999\n",
      "Data columns (total 57 columns):\n",
      " #   Column              Non-Null Count  Dtype  \n",
      "---  ------              --------------  -----  \n",
      " 0   restaurant_id       40000 non-null  object \n",
      " 1   city                40000 non-null  object \n",
      " 2   cuisine_style       40000 non-null  object \n",
      " 3   ranking             40000 non-null  float64\n",
      " 4   rating              40000 non-null  float64\n",
      " 5   price_range         40000 non-null  int64  \n",
      " 6   reviews_number      40000 non-null  float64\n",
      " 7   reviews             40000 non-null  object \n",
      " 8   url_ta              40000 non-null  object \n",
      " 9   id_ta               40000 non-null  object \n",
      " 10  rank_city_min       40000 non-null  float64\n",
      " 11  rank_city_max       40000 non-null  float64\n",
      " 12  rank_normal         40000 non-null  float64\n",
      " 13  rest_in_city        40000 non-null  int64  \n",
      " 14  no_cuisine_style    40000 non-null  float64\n",
      " 15  cuisine_number      40000 non-null  int64  \n",
      " 16  cuisine_national    40000 non-null  float64\n",
      " 17  no_price            40000 non-null  int64  \n",
      " 18  words               40000 non-null  object \n",
      " 19  bad_words           40000 non-null  object \n",
      " 20  review_mood         40000 non-null  int64  \n",
      " 21  review_mood_bad     40000 non-null  int64  \n",
      " 22  reviews_date        40000 non-null  object \n",
      " 23  review_check        40000 non-null  int64  \n",
      " 24  reviews_on_website  40000 non-null  int64  \n",
      " 25  ranking_normal      40000 non-null  float64\n",
      " 26  Paris               40000 non-null  int64  \n",
      " 27  Stockholm           40000 non-null  int64  \n",
      " 28  London              40000 non-null  int64  \n",
      " 29  Berlin              40000 non-null  int64  \n",
      " 30  Munich              40000 non-null  int64  \n",
      " 31  Oporto              40000 non-null  int64  \n",
      " 32  Milan               40000 non-null  int64  \n",
      " 33  Bratislava          40000 non-null  int64  \n",
      " 34  Vienna              40000 non-null  int64  \n",
      " 35  Rome                40000 non-null  int64  \n",
      " 36  Barcelona           40000 non-null  int64  \n",
      " 37  Madrid              40000 non-null  int64  \n",
      " 38  Dublin              40000 non-null  int64  \n",
      " 39  Brussels            40000 non-null  int64  \n",
      " 40  Zurich              40000 non-null  int64  \n",
      " 41  Warsaw              40000 non-null  int64  \n",
      " 42  Budapest            40000 non-null  int64  \n",
      " 43  Copenhagen          40000 non-null  int64  \n",
      " 44  Amsterdam           40000 non-null  int64  \n",
      " 45  Lyon                40000 non-null  int64  \n",
      " 46  Hamburg             40000 non-null  int64  \n",
      " 47  Lisbon              40000 non-null  int64  \n",
      " 48  Prague              40000 non-null  int64  \n",
      " 49  Oslo                40000 non-null  int64  \n",
      " 50  Helsinki            40000 non-null  int64  \n",
      " 51  Edinburgh           40000 non-null  int64  \n",
      " 52  Geneva              40000 non-null  int64  \n",
      " 53  Ljubljana           40000 non-null  int64  \n",
      " 54  Athens              40000 non-null  int64  \n",
      " 55  Luxembourg          40000 non-null  int64  \n",
      " 56  Krakow              40000 non-null  int64  \n",
      "dtypes: float64(9), int64(39), object(9)\n",
      "memory usage: 17.4+ MB\n"
     ]
    }
   ],
   "source": [
    "df.info()"
   ]
  },
  {
   "cell_type": "markdown",
   "metadata": {},
   "source": [
    "# Break down the dataframe into the parts needed to train and test the model"
   ]
  },
  {
   "cell_type": "code",
   "execution_count": 50,
   "metadata": {},
   "outputs": [],
   "source": [
    "# X is the data with restaurant information, y is the target variable (restaurant ratings)\n",
    "X = df.drop(['rating','restaurant_id','city','cuisine_style',\n",
    "             'reviews','url_ta', 'id_ta', 'reviews_date', \n",
    "             'words','bad_words','cuisine_national'], axis = 1)\n",
    "y = df['rating']"
   ]
  },
  {
   "cell_type": "code",
   "execution_count": 51,
   "metadata": {},
   "outputs": [],
   "source": [
    "# Loading the special partitioning tool:\n",
    "from sklearn.model_selection import train_test_split"
   ]
  },
  {
   "cell_type": "code",
   "execution_count": 52,
   "metadata": {},
   "outputs": [],
   "source": [
    "# The datasets labeled \"train\" will be used to train the model, \"test\" will be used for testing.\n",
    "# For testing we will use 25% of the original dataset.\n",
    "X_train, X_test, y_train, y_test = train_test_split(X, y, test_size=0.25)"
   ]
  },
  {
   "cell_type": "markdown",
   "metadata": {},
   "source": [
    "# Create, train and test the model"
   ]
  },
  {
   "cell_type": "code",
   "execution_count": 53,
   "metadata": {},
   "outputs": [],
   "source": [
    "# Importing the necessary libraries:\n",
    "from sklearn.ensemble import RandomForestRegressor # инструмент для создания и обучения модели\n",
    "from sklearn import metrics # инструменты для оценки точности модели"
   ]
  },
  {
   "cell_type": "code",
   "execution_count": 54,
   "metadata": {},
   "outputs": [],
   "source": [
    "# Creating a model\n",
    "regr = RandomForestRegressor(n_estimators=100)\n",
    "\n",
    "# Training the model on a test data set\n",
    "regr.fit(X_train, y_train)\n",
    "\n",
    "# We use the trained model to predict the rating of the restaurants in the test sample.\n",
    "# We write the predicted values into the variable y_pred\n",
    "y_pred = regr.predict(X_test)"
   ]
  },
  {
   "cell_type": "code",
   "execution_count": 55,
   "metadata": {},
   "outputs": [
    {
     "name": "stdout",
     "output_type": "stream",
     "text": [
      "MAE: 0.206064\n"
     ]
    }
   ],
   "source": [
    "# We compare the predicted values (y_pred) to the actual values (y_test), and see how different they are on average\n",
    "# The metric is called Mean Absolute Error (MAE) and shows the average deviation of the predicted values from the actual values.\n",
    "print('MAE:', metrics.mean_absolute_error(y_test, y_pred))"
   ]
  },
  {
   "cell_type": "code",
   "execution_count": 56,
   "metadata": {},
   "outputs": [
    {
     "data": {
      "text/plain": [
       "<AxesSubplot:>"
      ]
     },
     "execution_count": 56,
     "metadata": {},
     "output_type": "execute_result"
    },
    {
     "data": {
      "image/png": "[encoded data removed]",
      "text/plain": [
       "<Figure size 720x720 with 1 Axes>"
      ]
     },
     "metadata": {
      "needs_background": "light"
     },
     "output_type": "display_data"
    }
   ],
   "source": [
    "# In RandomForestRegressor it is possible to output the most important features for a model\n",
    "plt.rcParams['figure.figsize'] = (10,10)\n",
    "feat_importances = pd.Series(regr.feature_importances_, index=X.columns)\n",
    "feat_importances.nlargest(15).plot(kind='barh')"
   ]
  }
 ],
 "metadata": {
  "kernelspec": {
   "display_name": "Python 3",
   "language": "python",
   "name": "python3"
  },
  "language_info": {
   "codemirror_mode": {
    "name": "ipython",
    "version": 3
   },
   "file_extension": ".py",
   "mimetype": "text/x-python",
   "name": "python",
   "nbconvert_exporter": "python",
   "pygments_lexer": "ipython3",
   "version": "3.8.8"
  }
 },
 "nbformat": 4,
 "nbformat_minor": 2
}
