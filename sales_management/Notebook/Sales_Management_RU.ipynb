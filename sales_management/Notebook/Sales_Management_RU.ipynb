{
 "cells": [
  {
   "cell_type": "markdown",
   "metadata": {},
   "source": [
    "# Import"
   ]
  },
  {
   "cell_type": "code",
   "execution_count": 1,
   "metadata": {},
   "outputs": [],
   "source": [
    "import numpy as np\n",
    "import pandas as pd\n",
    "import seaborn as sns \n",
    "import itertools\n",
    "import matplotlib.pyplot as plt\n",
    "%matplotlib inline\n",
    "from itertools import combinations"
   ]
  },
  {
   "cell_type": "markdown",
   "metadata": {},
   "source": [
    "# Functions"
   ]
  },
  {
   "cell_type": "code",
   "execution_count": 2,
   "metadata": {},
   "outputs": [],
   "source": [
    "#Проверка столбца (dtype object) на наличие уникальных значений и их количество \n",
    "def object_check(column):\n",
    "    display(pd.DataFrame(column.value_counts()))\n",
    "    print(column.unique())\n",
    "\n",
    "#Проверка столбца (dtype float) при помощи гистограммы и \n",
    "#его характеристики (количество значений в столбце, среднее, стандартное отклонение, минимальное,\n",
    "#25-й процентиль, 50-й процентиль, 75-й процентиль и максимальное)\n",
    "def float_check(column):\n",
    "    column.hist()\n",
    "    print(column.describe())\n",
    "\n",
    "\n",
    "# При добавлении нового столбца (dummy перменной) \n",
    "# ставим 1 - при наличии, 0 - при отсутствии\n",
    "def find_item(cell):\n",
    "    if item in cell:\n",
    "        return 1\n",
    "    return 0\n",
    "\n",
    "\n",
    "# Проверка отсутствия значений в столбце\n",
    "def procent_check(column, df):\n",
    "    math = 100 - ((df[column].count() * 100) / len(df))\n",
    "    print(\"В столбце\",column,\"отсутствует\", '\\033[4m' + str(round(math, 2)),\"процентов\" + '\\033[0m',\"информации.\")\n",
    "    \n",
    "# Вывод основных статистических данных категориальных признаков\n",
    "def categorical_check(column):\n",
    "    display(pd.DataFrame(df[column].value_counts()))\n",
    "    print(df[column].describe())\n",
    "\n",
    "# Построение гистограммы и вывод основных статистических данных цифровых признаков\n",
    "def numerical_check(column):\n",
    "    display(df[column].hist(bins=100))\n",
    "    print(df[column].describe())\n",
    "    \n",
    "\n",
    "# Короткая проверка датасета\n",
    "def df_check(df):\n",
    "    display(df.head())\n",
    "    display(df.info())\n",
    "    \n",
    "def replace_nan(df,column):\n",
    "    return df[column].astype(str).apply(lambda x: 'Unknown' if x == 'nan' else x)"
   ]
  },
  {
   "cell_type": "markdown",
   "metadata": {},
   "source": [
    "# ---------------------------- Data ----------------------------"
   ]
  },
  {
   "cell_type": "markdown",
   "metadata": {},
   "source": [
    "# Информация"
   ]
  },
  {
   "cell_type": "markdown",
   "metadata": {},
   "source": [
    "### Customers:\n",
    "\n",
    "* <i>CustomerKey</i> : ID клиента\n",
    "* <i> FirstName</i> : Имя клиента \n",
    "* <i> LastName</i> : Фамилия клиента\n",
    "* <i> Full Name</i> : Имя и Фамилия клиента\n",
    "* <i> BirthDate</i> : День рождения клиента\n",
    "* <i> AgeOfCustomer</i> : Возраст клиента на момент заказа\n",
    "<br> &#10149; (данные получены при помощи 'BirthDate' и 'DateFirstPurchase')\n",
    "* <i> Gender</i> : Пол клиента\n",
    "* <i> DateFirstPurchase</i> : Дата заказа товара \n",
    "* <i> Customer City</i> : Город клиента\n",
    "\n",
    "### Sales:\n",
    "\n",
    "* <i> ProductKey</i> : ID товара\n",
    "* <i> OrderDateKey</i> : ID Даты заказа\n",
    "* <i> DueDateKey</i> : ID Срока сдачи\n",
    "* <i> ShipDateKey</i> : ID Даты отправки \n",
    "* <i> SalesOrderNumber</i> : Номер поставки\n",
    "* <i> SalesAmount</i> : Объем продаж\n",
    "\n",
    "### Products:\n",
    "\n",
    "* <i> ProductKey</i> : ID клиента\n",
    "* <i> ProductItemCode</i> : Серия товара \n",
    "* <i> Product Name</i> : Название товара\n",
    "* <i> Sub Category</i> : Подкатегория товара\n",
    "* <i> Product Category</i> : Категория товара\n",
    "* <i> StandardCost</i> : Стоимость товара\n",
    "* <i> Product Color</i> : Цвет товара\n",
    "* <i> Product Size</i> : Размер товара \n",
    "* <i> Product Line</i> : Линия товара\n",
    "* <i> Model Name</i> : Название модели\n",
    "* <i> Product Description</i> : Описание товара\n",
    "* <i> Product Description DE</i> : Описание товара на немецком  \n",
    "* <i> Product Status</i> : Статус товара\n",
    "\n",
    "### Calendar:\n",
    "\n",
    "* <i> OrderDateKey</i> : ID даты\n",
    "* <i> Date</i> : Дата \n",
    "* <i> Day</i> : День\n",
    "* <i> Month</i> : Месяц\n",
    "* <i> MonthShort</i> : Месяц сокр.\n",
    "* <i> MonthNr</i> : Номер месяца\n",
    "* <i> Quarter</i> : Квартал\n",
    "* <i> Year</i> : Год"
   ]
  },
  {
   "cell_type": "markdown",
   "metadata": {},
   "source": [
    "# Готовим датасеты"
   ]
  },
  {
   "cell_type": "markdown",
   "metadata": {},
   "source": [
    "### Даты"
   ]
  },
  {
   "cell_type": "code",
   "execution_count": 3,
   "metadata": {},
   "outputs": [],
   "source": [
    "calendar = pd.read_csv('DIM_Calendar.csv', sep = ';')"
   ]
  },
  {
   "cell_type": "code",
   "execution_count": 4,
   "metadata": {},
   "outputs": [],
   "source": [
    "calendar = calendar.rename(columns={'DateKey': 'OrderDateKey'})"
   ]
  },
  {
   "cell_type": "code",
   "execution_count": 5,
   "metadata": {},
   "outputs": [
    {
     "data": {
      "text/html": [
       "<div>\n",
       "<style scoped>\n",
       "    .dataframe tbody tr th:only-of-type {\n",
       "        vertical-align: middle;\n",
       "    }\n",
       "\n",
       "    .dataframe tbody tr th {\n",
       "        vertical-align: top;\n",
       "    }\n",
       "\n",
       "    .dataframe thead th {\n",
       "        text-align: right;\n",
       "    }\n",
       "</style>\n",
       "<table border=\"1\" class=\"dataframe\">\n",
       "  <thead>\n",
       "    <tr style=\"text-align: right;\">\n",
       "      <th></th>\n",
       "      <th>OrderDateKey</th>\n",
       "      <th>Date</th>\n",
       "      <th>Day</th>\n",
       "      <th>Month</th>\n",
       "      <th>MonthShort</th>\n",
       "      <th>MonthNr</th>\n",
       "      <th>Quarter</th>\n",
       "      <th>Year</th>\n",
       "    </tr>\n",
       "  </thead>\n",
       "  <tbody>\n",
       "    <tr>\n",
       "      <th>0</th>\n",
       "      <td>20190101</td>\n",
       "      <td>2019-01-01</td>\n",
       "      <td>Tuesday</td>\n",
       "      <td>January</td>\n",
       "      <td>Jan</td>\n",
       "      <td>1</td>\n",
       "      <td>1</td>\n",
       "      <td>2019</td>\n",
       "    </tr>\n",
       "    <tr>\n",
       "      <th>1</th>\n",
       "      <td>20190102</td>\n",
       "      <td>2019-01-02</td>\n",
       "      <td>Wednesday</td>\n",
       "      <td>January</td>\n",
       "      <td>Jan</td>\n",
       "      <td>1</td>\n",
       "      <td>1</td>\n",
       "      <td>2019</td>\n",
       "    </tr>\n",
       "    <tr>\n",
       "      <th>2</th>\n",
       "      <td>20190103</td>\n",
       "      <td>2019-01-03</td>\n",
       "      <td>Thursday</td>\n",
       "      <td>January</td>\n",
       "      <td>Jan</td>\n",
       "      <td>1</td>\n",
       "      <td>1</td>\n",
       "      <td>2019</td>\n",
       "    </tr>\n",
       "    <tr>\n",
       "      <th>3</th>\n",
       "      <td>20190104</td>\n",
       "      <td>2019-01-04</td>\n",
       "      <td>Friday</td>\n",
       "      <td>January</td>\n",
       "      <td>Jan</td>\n",
       "      <td>1</td>\n",
       "      <td>1</td>\n",
       "      <td>2019</td>\n",
       "    </tr>\n",
       "    <tr>\n",
       "      <th>4</th>\n",
       "      <td>20190105</td>\n",
       "      <td>2019-01-05</td>\n",
       "      <td>Saturday</td>\n",
       "      <td>January</td>\n",
       "      <td>Jan</td>\n",
       "      <td>1</td>\n",
       "      <td>1</td>\n",
       "      <td>2019</td>\n",
       "    </tr>\n",
       "  </tbody>\n",
       "</table>\n",
       "</div>"
      ],
      "text/plain": [
       "   OrderDateKey        Date        Day    Month MonthShort  MonthNr  Quarter  \\\n",
       "0      20190101  2019-01-01    Tuesday  January        Jan        1        1   \n",
       "1      20190102  2019-01-02  Wednesday  January        Jan        1        1   \n",
       "2      20190103  2019-01-03   Thursday  January        Jan        1        1   \n",
       "3      20190104  2019-01-04     Friday  January        Jan        1        1   \n",
       "4      20190105  2019-01-05   Saturday  January        Jan        1        1   \n",
       "\n",
       "   Year  \n",
       "0  2019  \n",
       "1  2019  \n",
       "2  2019  \n",
       "3  2019  \n",
       "4  2019  "
      ]
     },
     "metadata": {},
     "output_type": "display_data"
    },
    {
     "name": "stdout",
     "output_type": "stream",
     "text": [
      "<class 'pandas.core.frame.DataFrame'>\n",
      "RangeIndex: 1096 entries, 0 to 1095\n",
      "Data columns (total 8 columns):\n",
      " #   Column        Non-Null Count  Dtype \n",
      "---  ------        --------------  ----- \n",
      " 0   OrderDateKey  1096 non-null   int64 \n",
      " 1   Date          1096 non-null   object\n",
      " 2   Day           1096 non-null   object\n",
      " 3   Month         1096 non-null   object\n",
      " 4   MonthShort    1096 non-null   object\n",
      " 5   MonthNr       1096 non-null   int64 \n",
      " 6   Quarter       1096 non-null   int64 \n",
      " 7   Year          1096 non-null   int64 \n",
      "dtypes: int64(4), object(4)\n",
      "memory usage: 68.6+ KB\n"
     ]
    },
    {
     "data": {
      "text/plain": [
       "None"
      ]
     },
     "metadata": {},
     "output_type": "display_data"
    }
   ],
   "source": [
    "df_check(calendar)"
   ]
  },
  {
   "cell_type": "markdown",
   "metadata": {},
   "source": [
    "### Клиенты"
   ]
  },
  {
   "cell_type": "code",
   "execution_count": 6,
   "metadata": {},
   "outputs": [],
   "source": [
    "customers = pd.read_csv('DIM_Customer.csv', sep = ';')"
   ]
  },
  {
   "cell_type": "code",
   "execution_count": 7,
   "metadata": {},
   "outputs": [
    {
     "data": {
      "text/html": [
       "<div>\n",
       "<style scoped>\n",
       "    .dataframe tbody tr th:only-of-type {\n",
       "        vertical-align: middle;\n",
       "    }\n",
       "\n",
       "    .dataframe tbody tr th {\n",
       "        vertical-align: top;\n",
       "    }\n",
       "\n",
       "    .dataframe thead th {\n",
       "        text-align: right;\n",
       "    }\n",
       "</style>\n",
       "<table border=\"1\" class=\"dataframe\">\n",
       "  <thead>\n",
       "    <tr style=\"text-align: right;\">\n",
       "      <th></th>\n",
       "      <th>CustomerKey</th>\n",
       "      <th>FirstName</th>\n",
       "      <th>LastName</th>\n",
       "      <th>Full Name</th>\n",
       "      <th>BirthDate</th>\n",
       "      <th>AgeOfCustomer</th>\n",
       "      <th>Gender</th>\n",
       "      <th>DateFirstPurchase</th>\n",
       "      <th>Customer City</th>\n",
       "      <th>Region Code</th>\n",
       "      <th>State Code</th>\n",
       "    </tr>\n",
       "  </thead>\n",
       "  <tbody>\n",
       "    <tr>\n",
       "      <th>0</th>\n",
       "      <td>11000</td>\n",
       "      <td>Jon</td>\n",
       "      <td>Yang</td>\n",
       "      <td>JonYang</td>\n",
       "      <td>1971-10-06</td>\n",
       "      <td>47</td>\n",
       "      <td>Male</td>\n",
       "      <td>2018-01-19</td>\n",
       "      <td>Rockhampton</td>\n",
       "      <td>AU</td>\n",
       "      <td>QLD</td>\n",
       "    </tr>\n",
       "    <tr>\n",
       "      <th>1</th>\n",
       "      <td>11001</td>\n",
       "      <td>Eugene</td>\n",
       "      <td>Huang</td>\n",
       "      <td>EugeneHuang</td>\n",
       "      <td>1976-05-10</td>\n",
       "      <td>42</td>\n",
       "      <td>Male</td>\n",
       "      <td>2018-01-15</td>\n",
       "      <td>Seaford</td>\n",
       "      <td>AU</td>\n",
       "      <td>VIC</td>\n",
       "    </tr>\n",
       "    <tr>\n",
       "      <th>2</th>\n",
       "      <td>11002</td>\n",
       "      <td>Ruben</td>\n",
       "      <td>Torres</td>\n",
       "      <td>RubenTorres</td>\n",
       "      <td>1971-02-09</td>\n",
       "      <td>47</td>\n",
       "      <td>Male</td>\n",
       "      <td>2018-01-07</td>\n",
       "      <td>Hobart</td>\n",
       "      <td>AU</td>\n",
       "      <td>TAS</td>\n",
       "    </tr>\n",
       "    <tr>\n",
       "      <th>3</th>\n",
       "      <td>11003</td>\n",
       "      <td>Christy</td>\n",
       "      <td>Zhu</td>\n",
       "      <td>ChristyZhu</td>\n",
       "      <td>1973-08-14</td>\n",
       "      <td>44</td>\n",
       "      <td>Female</td>\n",
       "      <td>2017-12-29</td>\n",
       "      <td>North Ryde</td>\n",
       "      <td>AU</td>\n",
       "      <td>NSW</td>\n",
       "    </tr>\n",
       "    <tr>\n",
       "      <th>4</th>\n",
       "      <td>11004</td>\n",
       "      <td>Elizabeth</td>\n",
       "      <td>Johnson</td>\n",
       "      <td>ElizabethJohnson</td>\n",
       "      <td>1979-08-05</td>\n",
       "      <td>39</td>\n",
       "      <td>Female</td>\n",
       "      <td>2018-01-23</td>\n",
       "      <td>Wollongong</td>\n",
       "      <td>AU</td>\n",
       "      <td>NSW</td>\n",
       "    </tr>\n",
       "  </tbody>\n",
       "</table>\n",
       "</div>"
      ],
      "text/plain": [
       "   CustomerKey  FirstName LastName         Full Name   BirthDate  \\\n",
       "0        11000        Jon     Yang           JonYang  1971-10-06   \n",
       "1        11001     Eugene    Huang       EugeneHuang  1976-05-10   \n",
       "2        11002      Ruben   Torres       RubenTorres  1971-02-09   \n",
       "3        11003    Christy      Zhu        ChristyZhu  1973-08-14   \n",
       "4        11004  Elizabeth  Johnson  ElizabethJohnson  1979-08-05   \n",
       "\n",
       "   AgeOfCustomer  Gender DateFirstPurchase Customer City Region Code  \\\n",
       "0             47    Male        2018-01-19   Rockhampton          AU   \n",
       "1             42    Male        2018-01-15       Seaford          AU   \n",
       "2             47    Male        2018-01-07        Hobart          AU   \n",
       "3             44  Female        2017-12-29    North Ryde          AU   \n",
       "4             39  Female        2018-01-23    Wollongong          AU   \n",
       "\n",
       "  State Code  \n",
       "0        QLD  \n",
       "1        VIC  \n",
       "2        TAS  \n",
       "3        NSW  \n",
       "4        NSW  "
      ]
     },
     "metadata": {},
     "output_type": "display_data"
    },
    {
     "name": "stdout",
     "output_type": "stream",
     "text": [
      "<class 'pandas.core.frame.DataFrame'>\n",
      "RangeIndex: 18484 entries, 0 to 18483\n",
      "Data columns (total 11 columns):\n",
      " #   Column             Non-Null Count  Dtype \n",
      "---  ------             --------------  ----- \n",
      " 0   CustomerKey        18484 non-null  int64 \n",
      " 1   FirstName          18484 non-null  object\n",
      " 2   LastName           18484 non-null  object\n",
      " 3   Full Name          18484 non-null  object\n",
      " 4   BirthDate          18484 non-null  object\n",
      " 5   AgeOfCustomer      18484 non-null  int64 \n",
      " 6   Gender             18484 non-null  object\n",
      " 7   DateFirstPurchase  18484 non-null  object\n",
      " 8   Customer City      18484 non-null  object\n",
      " 9   Region Code        18484 non-null  object\n",
      " 10  State Code         18484 non-null  object\n",
      "dtypes: int64(2), object(9)\n",
      "memory usage: 1.6+ MB\n"
     ]
    },
    {
     "data": {
      "text/plain": [
       "None"
      ]
     },
     "metadata": {},
     "output_type": "display_data"
    }
   ],
   "source": [
    "df_check(customers)"
   ]
  },
  {
   "cell_type": "code",
   "execution_count": 8,
   "metadata": {},
   "outputs": [
    {
     "name": "stdout",
     "output_type": "stream",
     "text": [
      "8 клиентов старше 100 лет. Что составляет 0.04 % от количества клиентов.\n",
      "221 клиентов от 80 до 100 лет. Что составляет 1.2 % от количества клиентов.\n",
      "3929 клиентов от 60 до 80 лет. Что составляет 21.26 % от количества клиентов.\n",
      "4589 клиентов от 50 до 60 лет. Что составляет 24.83 % от количества клиентов.\n",
      "6409 клиентов от 40 до 50 лет. Что составляет 34.67 % от количества клиентов.\n",
      "3328 клиентов от 30 до 40 лет. Что составляет 18.0 % от количества клиентов.\n",
      "0 клиентов от 20 до 30 лет. Что составляет 0.0 % от количества клиентов.\n"
     ]
    },
    {
     "data": {
      "text/plain": [
       "<AxesSubplot:>"
      ]
     },
     "execution_count": 8,
     "metadata": {},
     "output_type": "execute_result"
    },
    {
     "data": {
      "image/png": "[encoded data removed]",
      "text/plain": [
       "<Figure size 432x288 with 1 Axes>"
      ]
     },
     "metadata": {
      "needs_background": "light"
     },
     "output_type": "display_data"
    }
   ],
   "source": [
    "print(len(customers[(customers['AgeOfCustomer'] > 100)]),\"клиентов старше 100 лет. Что составляет\",\n",
    "     round((len(customers[(customers['AgeOfCustomer'] > 100)]) * 100) / len(customers['AgeOfCustomer']), 2), \"% от количества клиентов.\")\n",
    "\n",
    "print(len(customers[(customers['AgeOfCustomer'] <= 100) &(customers['AgeOfCustomer'] >= 80)] ),\"клиентов от 80 до 100 лет. Что составляет\",\n",
    "     round((len(customers[(customers['AgeOfCustomer'] <= 100) &(customers['AgeOfCustomer'] >= 80)] )* 100) / len(customers['AgeOfCustomer']), 2), \"% от количества клиентов.\")\n",
    "\n",
    "print(len(customers[(customers['AgeOfCustomer'] <= 79) &(customers['AgeOfCustomer'] >= 60)] ),\"клиентов от 60 до 80 лет. Что составляет\",\n",
    "     round((len(customers[(customers['AgeOfCustomer'] >= 60) &(customers['AgeOfCustomer'] <= 79)] ) * 100) / len(customers['AgeOfCustomer']), 2), \"% от количества клиентов.\")\n",
    "\n",
    "print(len(customers[(customers['AgeOfCustomer'] >= 50) &(customers['AgeOfCustomer'] <= 59)] ),\"клиентов от 50 до 60 лет. Что составляет\",\n",
    "     round((len(customers[(customers['AgeOfCustomer'] >= 50) &(customers['AgeOfCustomer'] <= 59)] ) * 100) / len(customers['AgeOfCustomer']), 2), \"% от количества клиентов.\")\n",
    "\n",
    "print(len(customers[(customers['AgeOfCustomer'] >= 40) &(customers['AgeOfCustomer'] <= 49)] ),\"клиентов от 40 до 50 лет. Что составляет\",\n",
    "     round((len(customers[(customers['AgeOfCustomer'] >= 40) &(customers['AgeOfCustomer'] <= 49)] ) * 100) / len(customers['AgeOfCustomer']), 2), \"% от количества клиентов.\")\n",
    "\n",
    "print(len(customers[(customers['AgeOfCustomer'] >= 30) &(customers['AgeOfCustomer'] <= 39)] ),\"клиентов от 30 до 40 лет. Что составляет\",\n",
    "     round((len(customers[(customers['AgeOfCustomer'] >= 30) &(customers['AgeOfCustomer'] <= 39)] ) * 100) / len(customers['AgeOfCustomer']), 2), \"% от количества клиентов.\")\n",
    "\n",
    "print(len(customers[(customers['AgeOfCustomer'] >= 20) &(customers['AgeOfCustomer'] <= 29)] ),\"клиентов от 20 до 30 лет. Что составляет\",\n",
    "     round((len(customers[(customers['AgeOfCustomer'] >= 20) &(customers['AgeOfCustomer'] <= 29)] ) * 100) / len(customers['AgeOfCustomer']), 2), \"% от количества клиентов.\")\n",
    "\n",
    "customers['AgeOfCustomer'].hist()"
   ]
  },
  {
   "cell_type": "code",
   "execution_count": 9,
   "metadata": {},
   "outputs": [
    {
     "data": {
      "text/plain": [
       "Index([], dtype='object')"
      ]
     },
     "execution_count": 9,
     "metadata": {},
     "output_type": "execute_result"
    }
   ],
   "source": [
    "# Проверяем датасет на наличие пустых значений\n",
    "customers.columns[customers.isnull().any()]"
   ]
  },
  {
   "cell_type": "code",
   "execution_count": 10,
   "metadata": {},
   "outputs": [],
   "source": [
    "# Избавляемся ненужных столбцов\n",
    "\n",
    "# -- FirstName\n",
    "# -- LastName\n",
    "\n",
    "# так как мы заранее создали столбец возраста \n",
    "# в SQL, удалим следующие столбцы:\n",
    "\n",
    "# -- BirthDate\n",
    "# -- DateFirstPurchase\n",
    "\n",
    "customers = customers.drop(['FirstName', 'LastName', 'BirthDate', 'DateFirstPurchase'], axis = 1)"
   ]
  },
  {
   "cell_type": "markdown",
   "metadata": {},
   "source": [
    "### Продажи"
   ]
  },
  {
   "cell_type": "code",
   "execution_count": 11,
   "metadata": {},
   "outputs": [],
   "source": [
    "# Продажи\n",
    "\n",
    "sales = pd.read_csv('DIM_OnlineSales.csv', sep = ';')"
   ]
  },
  {
   "cell_type": "code",
   "execution_count": 12,
   "metadata": {},
   "outputs": [
    {
     "data": {
      "text/html": [
       "<div>\n",
       "<style scoped>\n",
       "    .dataframe tbody tr th:only-of-type {\n",
       "        vertical-align: middle;\n",
       "    }\n",
       "\n",
       "    .dataframe tbody tr th {\n",
       "        vertical-align: top;\n",
       "    }\n",
       "\n",
       "    .dataframe thead th {\n",
       "        text-align: right;\n",
       "    }\n",
       "</style>\n",
       "<table border=\"1\" class=\"dataframe\">\n",
       "  <thead>\n",
       "    <tr style=\"text-align: right;\">\n",
       "      <th></th>\n",
       "      <th>ProductKey</th>\n",
       "      <th>OrderDateKey</th>\n",
       "      <th>DueDateKey</th>\n",
       "      <th>ShipDateKey</th>\n",
       "      <th>CustomerKey</th>\n",
       "      <th>SalesOrderNumber</th>\n",
       "      <th>SalesAmount</th>\n",
       "    </tr>\n",
       "  </thead>\n",
       "  <tbody>\n",
       "    <tr>\n",
       "      <th>0</th>\n",
       "      <td>381</td>\n",
       "      <td>20190101</td>\n",
       "      <td>20190113</td>\n",
       "      <td>20190108</td>\n",
       "      <td>16942</td>\n",
       "      <td>SO46700</td>\n",
       "      <td>1000,4375</td>\n",
       "    </tr>\n",
       "    <tr>\n",
       "      <th>1</th>\n",
       "      <td>375</td>\n",
       "      <td>20190101</td>\n",
       "      <td>20190113</td>\n",
       "      <td>20190108</td>\n",
       "      <td>15114</td>\n",
       "      <td>SO46701</td>\n",
       "      <td>2181,5625</td>\n",
       "    </tr>\n",
       "    <tr>\n",
       "      <th>2</th>\n",
       "      <td>369</td>\n",
       "      <td>20190101</td>\n",
       "      <td>20190113</td>\n",
       "      <td>20190108</td>\n",
       "      <td>15116</td>\n",
       "      <td>SO46702</td>\n",
       "      <td>2443,35</td>\n",
       "    </tr>\n",
       "    <tr>\n",
       "      <th>3</th>\n",
       "      <td>337</td>\n",
       "      <td>20190101</td>\n",
       "      <td>20190113</td>\n",
       "      <td>20190108</td>\n",
       "      <td>20576</td>\n",
       "      <td>SO46703</td>\n",
       "      <td>782,99</td>\n",
       "    </tr>\n",
       "    <tr>\n",
       "      <th>4</th>\n",
       "      <td>370</td>\n",
       "      <td>20190101</td>\n",
       "      <td>20190113</td>\n",
       "      <td>20190108</td>\n",
       "      <td>13059</td>\n",
       "      <td>SO46704</td>\n",
       "      <td>2443,35</td>\n",
       "    </tr>\n",
       "  </tbody>\n",
       "</table>\n",
       "</div>"
      ],
      "text/plain": [
       "   ProductKey  OrderDateKey  DueDateKey  ShipDateKey  CustomerKey  \\\n",
       "0         381      20190101    20190113     20190108        16942   \n",
       "1         375      20190101    20190113     20190108        15114   \n",
       "2         369      20190101    20190113     20190108        15116   \n",
       "3         337      20190101    20190113     20190108        20576   \n",
       "4         370      20190101    20190113     20190108        13059   \n",
       "\n",
       "  SalesOrderNumber SalesAmount  \n",
       "0          SO46700   1000,4375  \n",
       "1          SO46701   2181,5625  \n",
       "2          SO46702     2443,35  \n",
       "3          SO46703      782,99  \n",
       "4          SO46704     2443,35  "
      ]
     },
     "metadata": {},
     "output_type": "display_data"
    },
    {
     "name": "stdout",
     "output_type": "stream",
     "text": [
      "<class 'pandas.core.frame.DataFrame'>\n",
      "RangeIndex: 58168 entries, 0 to 58167\n",
      "Data columns (total 7 columns):\n",
      " #   Column            Non-Null Count  Dtype \n",
      "---  ------            --------------  ----- \n",
      " 0   ProductKey        58168 non-null  int64 \n",
      " 1   OrderDateKey      58168 non-null  int64 \n",
      " 2   DueDateKey        58168 non-null  int64 \n",
      " 3   ShipDateKey       58168 non-null  int64 \n",
      " 4   CustomerKey       58168 non-null  int64 \n",
      " 5   SalesOrderNumber  58168 non-null  object\n",
      " 6   SalesAmount       58168 non-null  object\n",
      "dtypes: int64(5), object(2)\n",
      "memory usage: 3.1+ MB\n"
     ]
    },
    {
     "data": {
      "text/plain": [
       "None"
      ]
     },
     "metadata": {},
     "output_type": "display_data"
    }
   ],
   "source": [
    "df_check(sales)"
   ]
  },
  {
   "cell_type": "code",
   "execution_count": 13,
   "metadata": {},
   "outputs": [
    {
     "data": {
      "text/plain": [
       "Index([], dtype='object')"
      ]
     },
     "execution_count": 13,
     "metadata": {},
     "output_type": "execute_result"
    }
   ],
   "source": [
    "# Проверяем датасет на наличие пустых значений\n",
    "sales.columns[sales.isnull().any()]"
   ]
  },
  {
   "cell_type": "code",
   "execution_count": 14,
   "metadata": {},
   "outputs": [],
   "source": [
    "# Избавляемся от ненужных столбцов:\n",
    "# -- OrderDateKey\n",
    "# -- DueDateKey\n",
    "# -- ShipDateKey\n",
    "# -- SalesOrderNumber\n",
    "\n",
    "sales = sales.drop(['DueDateKey', 'ShipDateKey', 'SalesOrderNumber'], axis = 1)"
   ]
  },
  {
   "cell_type": "code",
   "execution_count": 15,
   "metadata": {},
   "outputs": [],
   "source": [
    "# Переведем столбец -- SalesAmount в float\n",
    "# 1 способ\n",
    "\n",
    "sales['SalesAmount'] = pd.to_numeric(sales['SalesAmount'].str.replace(\",\", \".\"))"
   ]
  },
  {
   "cell_type": "code",
   "execution_count": 16,
   "metadata": {},
   "outputs": [],
   "source": [
    "# Переведем столбец -- SalesAmount в float\n",
    "# 2 способ\n",
    "\n",
    "# sales.SalesAmount = sales.SalesAmount.astype(str).apply(lambda x: float(str(x).replace(\",\", \".\"))) "
   ]
  },
  {
   "cell_type": "markdown",
   "metadata": {},
   "source": [
    "### Товары"
   ]
  },
  {
   "cell_type": "code",
   "execution_count": 17,
   "metadata": {},
   "outputs": [],
   "source": [
    "products = pd.read_csv('DIM_Product.csv', sep = ';')"
   ]
  },
  {
   "cell_type": "code",
   "execution_count": 18,
   "metadata": {},
   "outputs": [
    {
     "data": {
      "text/html": [
       "<div>\n",
       "<style scoped>\n",
       "    .dataframe tbody tr th:only-of-type {\n",
       "        vertical-align: middle;\n",
       "    }\n",
       "\n",
       "    .dataframe tbody tr th {\n",
       "        vertical-align: top;\n",
       "    }\n",
       "\n",
       "    .dataframe thead th {\n",
       "        text-align: right;\n",
       "    }\n",
       "</style>\n",
       "<table border=\"1\" class=\"dataframe\">\n",
       "  <thead>\n",
       "    <tr style=\"text-align: right;\">\n",
       "      <th></th>\n",
       "      <th>ProductKey</th>\n",
       "      <th>ProductItemCode</th>\n",
       "      <th>Product Name</th>\n",
       "      <th>Sub Category</th>\n",
       "      <th>Product Category</th>\n",
       "      <th>StandardCost</th>\n",
       "      <th>Product Color</th>\n",
       "      <th>Product Size</th>\n",
       "      <th>Product Line</th>\n",
       "      <th>Model Name</th>\n",
       "      <th>Product Description</th>\n",
       "      <th>Product Description DE</th>\n",
       "      <th>Product Status</th>\n",
       "    </tr>\n",
       "  </thead>\n",
       "  <tbody>\n",
       "    <tr>\n",
       "      <th>0</th>\n",
       "      <td>1</td>\n",
       "      <td>AR-5381</td>\n",
       "      <td>Adjustable Race</td>\n",
       "      <td>NaN</td>\n",
       "      <td>NaN</td>\n",
       "      <td>NaN</td>\n",
       "      <td>NaN</td>\n",
       "      <td>NaN</td>\n",
       "      <td>NaN</td>\n",
       "      <td>NaN</td>\n",
       "      <td>NaN</td>\n",
       "      <td>NaN</td>\n",
       "      <td>Current</td>\n",
       "    </tr>\n",
       "    <tr>\n",
       "      <th>1</th>\n",
       "      <td>2</td>\n",
       "      <td>BA-8327</td>\n",
       "      <td>Bearing Ball</td>\n",
       "      <td>NaN</td>\n",
       "      <td>NaN</td>\n",
       "      <td>NaN</td>\n",
       "      <td>NaN</td>\n",
       "      <td>NaN</td>\n",
       "      <td>NaN</td>\n",
       "      <td>NaN</td>\n",
       "      <td>NaN</td>\n",
       "      <td>NaN</td>\n",
       "      <td>Current</td>\n",
       "    </tr>\n",
       "    <tr>\n",
       "      <th>2</th>\n",
       "      <td>3</td>\n",
       "      <td>BE-2349</td>\n",
       "      <td>BB Ball Bearing</td>\n",
       "      <td>NaN</td>\n",
       "      <td>NaN</td>\n",
       "      <td>NaN</td>\n",
       "      <td>NaN</td>\n",
       "      <td>NaN</td>\n",
       "      <td>NaN</td>\n",
       "      <td>NaN</td>\n",
       "      <td>NaN</td>\n",
       "      <td>NaN</td>\n",
       "      <td>Current</td>\n",
       "    </tr>\n",
       "    <tr>\n",
       "      <th>3</th>\n",
       "      <td>4</td>\n",
       "      <td>BE-2908</td>\n",
       "      <td>Headset Ball Bearings</td>\n",
       "      <td>NaN</td>\n",
       "      <td>NaN</td>\n",
       "      <td>NaN</td>\n",
       "      <td>NaN</td>\n",
       "      <td>NaN</td>\n",
       "      <td>NaN</td>\n",
       "      <td>NaN</td>\n",
       "      <td>NaN</td>\n",
       "      <td>NaN</td>\n",
       "      <td>Current</td>\n",
       "    </tr>\n",
       "    <tr>\n",
       "      <th>4</th>\n",
       "      <td>5</td>\n",
       "      <td>BL-2036</td>\n",
       "      <td>Blade</td>\n",
       "      <td>NaN</td>\n",
       "      <td>NaN</td>\n",
       "      <td>NaN</td>\n",
       "      <td>NaN</td>\n",
       "      <td>NaN</td>\n",
       "      <td>NaN</td>\n",
       "      <td>NaN</td>\n",
       "      <td>NaN</td>\n",
       "      <td>NaN</td>\n",
       "      <td>Current</td>\n",
       "    </tr>\n",
       "  </tbody>\n",
       "</table>\n",
       "</div>"
      ],
      "text/plain": [
       "   ProductKey ProductItemCode           Product Name Sub Category  \\\n",
       "0           1         AR-5381        Adjustable Race          NaN   \n",
       "1           2         BA-8327           Bearing Ball          NaN   \n",
       "2           3         BE-2349        BB Ball Bearing          NaN   \n",
       "3           4         BE-2908  Headset Ball Bearings          NaN   \n",
       "4           5         BL-2036                  Blade          NaN   \n",
       "\n",
       "  Product Category StandardCost Product Color Product Size Product Line  \\\n",
       "0              NaN          NaN           NaN          NaN          NaN   \n",
       "1              NaN          NaN           NaN          NaN          NaN   \n",
       "2              NaN          NaN           NaN          NaN          NaN   \n",
       "3              NaN          NaN           NaN          NaN          NaN   \n",
       "4              NaN          NaN           NaN          NaN          NaN   \n",
       "\n",
       "  Model Name Product Description Product Description DE Product Status  \n",
       "0        NaN                 NaN                    NaN        Current  \n",
       "1        NaN                 NaN                    NaN        Current  \n",
       "2        NaN                 NaN                    NaN        Current  \n",
       "3        NaN                 NaN                    NaN        Current  \n",
       "4        NaN                 NaN                    NaN        Current  "
      ]
     },
     "metadata": {},
     "output_type": "display_data"
    },
    {
     "name": "stdout",
     "output_type": "stream",
     "text": [
      "<class 'pandas.core.frame.DataFrame'>\n",
      "RangeIndex: 606 entries, 0 to 605\n",
      "Data columns (total 13 columns):\n",
      " #   Column                  Non-Null Count  Dtype \n",
      "---  ------                  --------------  ----- \n",
      " 0   ProductKey              606 non-null    int64 \n",
      " 1   ProductItemCode         606 non-null    object\n",
      " 2   Product Name            606 non-null    object\n",
      " 3   Sub Category            397 non-null    object\n",
      " 4   Product Category        397 non-null    object\n",
      " 5   StandardCost            395 non-null    object\n",
      " 6   Product Color           352 non-null    object\n",
      " 7   Product Size            299 non-null    object\n",
      " 8   Product Line            380 non-null    object\n",
      " 9   Model Name              397 non-null    object\n",
      " 10  Product Description     396 non-null    object\n",
      " 11  Product Description DE  396 non-null    object\n",
      " 12  Product Status          606 non-null    object\n",
      "dtypes: int64(1), object(12)\n",
      "memory usage: 61.7+ KB\n"
     ]
    },
    {
     "data": {
      "text/plain": [
       "None"
      ]
     },
     "metadata": {},
     "output_type": "display_data"
    }
   ],
   "source": [
    "df_check(products)"
   ]
  },
  {
   "cell_type": "code",
   "execution_count": 19,
   "metadata": {},
   "outputs": [
    {
     "data": {
      "text/plain": [
       "Index(['Sub Category', 'Product Category', 'StandardCost', 'Product Color',\n",
       "       'Product Size', 'Product Line', 'Model Name', 'Product Description',\n",
       "       'Product Description DE'],\n",
       "      dtype='object')"
      ]
     },
     "execution_count": 19,
     "metadata": {},
     "output_type": "execute_result"
    }
   ],
   "source": [
    "# Проверяем столбцы, в которых пустые значения\n",
    "\n",
    "products.columns[products.isnull().any()]"
   ]
  },
  {
   "cell_type": "code",
   "execution_count": 20,
   "metadata": {},
   "outputs": [
    {
     "name": "stdout",
     "output_type": "stream",
     "text": [
      "В столбце Sub Category отсутствует \u001b[4m34.49 процентов\u001b[0m информации.\n",
      "В столбце Product Category отсутствует \u001b[4m34.49 процентов\u001b[0m информации.\n",
      "В столбце StandardCost отсутствует \u001b[4m34.82 процентов\u001b[0m информации.\n",
      "В столбце Product Color отсутствует \u001b[4m41.91 процентов\u001b[0m информации.\n",
      "В столбце Product Size отсутствует \u001b[4m50.66 процентов\u001b[0m информации.\n",
      "В столбце Product Line отсутствует \u001b[4m37.29 процентов\u001b[0m информации.\n",
      "В столбце Model Name отсутствует \u001b[4m34.49 процентов\u001b[0m информации.\n",
      "В столбце Product Description отсутствует \u001b[4m34.65 процентов\u001b[0m информации.\n",
      "В столбце Product Description DE отсутствует \u001b[4m34.65 процентов\u001b[0m информации.\n"
     ]
    }
   ],
   "source": [
    "# Проверяем процент пустых значений\n",
    "\n",
    "procent_check('Sub Category', products)\n",
    "procent_check('Product Category', products)\n",
    "procent_check('StandardCost', products)\n",
    "procent_check('Product Color', products)\n",
    "procent_check('Product Size', products)\n",
    "procent_check('Product Line', products)\n",
    "procent_check('Model Name', products)\n",
    "procent_check('Product Description', products)\n",
    "procent_check('Product Description DE', products)"
   ]
  },
  {
   "cell_type": "code",
   "execution_count": 21,
   "metadata": {},
   "outputs": [],
   "source": [
    "# Столбец -- StandardCost хранит в себе данные о стоимости товара\n",
    "# Необходимо поменять тип этих данных и найти решение на замену \n",
    "# пустых показателей\n",
    "\n",
    "products[\"StandardCost\"] = pd.to_numeric(products[\"StandardCost\"].str.replace(',','.'))"
   ]
  },
  {
   "cell_type": "code",
   "execution_count": 22,
   "metadata": {},
   "outputs": [],
   "source": [
    "products[\"StandardCost\"].fillna(value = 0, inplace = True)"
   ]
  },
  {
   "cell_type": "code",
   "execution_count": 23,
   "metadata": {},
   "outputs": [],
   "source": [
    "# Когда мы поменяли значение NaN на 0,\n",
    "# мы можем проверить гиптозу о наличии товара идентичного в списке\n",
    "\n",
    "search_for_null = products.ProductItemCode[products[\"StandardCost\"] == 0]\n",
    "search_for_value = products.ProductItemCode[products[\"StandardCost\"] > 0]"
   ]
  },
  {
   "cell_type": "code",
   "execution_count": 24,
   "metadata": {},
   "outputs": [],
   "source": [
    "test_for_value = {}\n",
    "\n",
    "for item in search_for_null:\n",
    "    test_for_value[item] = 0\n",
    "\n",
    "for item in test_for_value:\n",
    "    for cell in search_for_value:\n",
    "        if cell == item:\n",
    "            test_for_value[item] +=1\n",
    "        else:\n",
    "            0"
   ]
  },
  {
   "cell_type": "code",
   "execution_count": 25,
   "metadata": {},
   "outputs": [
    {
     "data": {
      "text/plain": [
       "211"
      ]
     },
     "metadata": {},
     "output_type": "display_data"
    },
    {
     "data": {
      "text/plain": [
       "dict_items([('AR-5381', 0), ('BA-8327', 0), ('BE-2349', 0), ('BE-2908', 0), ('BL-2036', 0), ('CA-5965', 0), ('CA-6738', 0), ('CA-7457', 0), ('CB-2903', 0), ('CN-6137', 0), ('CR-7833', 0), ('CR-9981', 0), ('CS-2812', 0), ('DC-8732', 0), ('DC-9824', 0), ('DT-2377', 0), ('EC-M092', 0), ('EC-R098', 0), ('EC-T209', 0), ('FE-3760', 0), ('FH-2981', 0), ('FW-1000', 0), ('FW-1200', 0), ('FW-1400', 0), ('FW-3400', 0), ('FW-3800', 0), ('FW-5160', 0), ('FW-5800', 0), ('FW-7160', 0), ('FW-9160', 0), ('FC-3654', 0), ('FC-3982', 0), ('FL-2301', 0), ('GP-0982', 0), ('GT-0820', 0), ('GT-1209', 0), ('GT-2908', 0), ('HJ-1213', 0), ('HJ-1220', 0), ('HJ-1420', 0), ('HJ-1428', 0), ('HJ-3410', 0), ('HJ-3416', 0), ('HJ-3816', 0), ('HJ-3824', 0), ('HJ-5161', 0), ('HJ-5162', 0), ('HJ-5811', 0), ('HJ-5818', 0), ('HJ-7161', 0), ('HJ-7162', 0), ('HJ-9080', 0), ('HJ-9161', 0), ('HN-1024', 0), ('HN-1032', 0), ('HN-1213', 0), ('HN-1220', 0), ('HN-1224', 0), ('HN-1420', 0), ('HN-1428', 0), ('HN-3410', 0), ('HN-3416', 0), ('HN-3816', 0), ('HN-3824', 0), ('HN-4402', 0), ('HN-5161', 0), ('HN-5162', 0), ('HN-5400', 0), ('HN-5811', 0), ('HN-5818', 0), ('HN-6320', 0), ('HN-7161', 0), ('HN-7162', 0), ('HN-8320', 0), ('HN-9161', 0), ('HN-9168', 0), ('HT-2981', 0), ('HT-8019', 0), ('HU-6280', 0), ('HU-8998', 0), ('KW-4091', 0), ('LE-1000', 0), ('LE-1200', 0), ('LE-1201', 0), ('LE-1400', 0), ('LE-3800', 0), ('LE-5160', 0), ('LE-6000', 0), ('LE-7160', 0), ('LE-8000', 0), ('LI-1000', 0), ('LI-1200', 0), ('LI-1201', 0), ('LI-1400', 0), ('LI-3800', 0), ('LI-5160', 0), ('LI-5800', 0), ('LI-6000', 0), ('LI-7160', 0), ('LI-8000', 0), ('LJ-1213', 0), ('LJ-1220', 0), ('LJ-1420', 0), ('LJ-1428', 0), ('LJ-3410', 0), ('LJ-3416', 0), ('LJ-3816', 0), ('LJ-3824', 0), ('LJ-5161', 0), ('LJ-5162', 0), ('LJ-5811', 0), ('LJ-5818', 0), ('LJ-7161', 0), ('LJ-7162', 0), ('LJ-9080', 0), ('LJ-9161', 0), ('LN-1024', 0), ('LN-1032', 0), ('LN-1213', 0), ('LN-1220', 0), ('LN-1224', 0), ('LN-1420', 0), ('LN-1428', 0), ('LN-3410', 0), ('LN-3416', 0), ('LN-3816', 0), ('LN-3824', 0), ('LN-4400', 0), ('LN-5161', 0), ('LN-5162', 0), ('LN-5400', 0), ('LN-5811', 0), ('LN-5818', 0), ('LN-6320', 0), ('LN-7161', 0), ('LN-7162', 0), ('LN-8320', 0), ('LN-9080', 0), ('LN-9161', 0), ('LR-2398', 0), ('LR-8520', 0), ('LW-1000', 0), ('LW-1200', 0), ('LW-1201', 0), ('LW-1400', 0), ('LW-3400', 0), ('LW-3800', 0), ('LW-4000', 0), ('LW-5160', 0), ('LW-5800', 0), ('LW-6000', 0), ('LW-7160', 0), ('LW-8000', 0), ('LW-9160', 0), ('MA-7075', 0), ('MB-2024', 0), ('MB-6061', 0), ('MP-2066', 0), ('MP-2503', 0), ('MP-4960', 0), ('MS-0253', 0), ('MS-1256', 0), ('MS-1981', 0), ('MS-2259', 0), ('MS-2341', 0), ('MS-2348', 0), ('MS-6061', 0), ('MT-1000', 0), ('NI-4127', 0), ('NI-9522', 0), ('PA-187B', 0), ('PA-361R', 0), ('PA-529S', 0), ('PA-632U', 0), ('PA-823Y', 0), ('PB-6109', 0), ('RA-2345', 0), ('RA-7490', 0), ('RF-9198', 0), ('RM-M464', 0), ('RM-M692', 0), ('RM-M823', 0), ('RM-R436', 0), ('RM-R600', 0), ('RM-R800', 0), ('RM-T801', 0), ('SA-M198', 0), ('SA-M237', 0), ('SA-M687', 0), ('SA-R127', 0), ('SA-R430', 0), ('SA-R522', 0), ('SA-T467', 0), ('SA-T612', 0), ('SA-T872', 0), ('SD-2342', 0), ('SD-9872', 0), ('SH-4562', 0), ('SH-9312', 0), ('SK-9283', 0), ('SL-0931', 0), ('SM-9087', 0), ('SP-2981', 0), ('SR-2098', 0), ('SS-2985', 0), ('ST-9828', 0), ('TO-2301', 0), ('TP-0923', 0), ('RC-0291', 0), ('FR-R92B-58', 0), ('FR-R92R-58', 0)])"
      ]
     },
     "execution_count": 25,
     "metadata": {},
     "output_type": "execute_result"
    }
   ],
   "source": [
    "# Убедимся, что товар был уникальным и не встречается в датасете более 1 раза\n",
    "display(sum(map((0).__eq__, test_for_value.values())))\n",
    "test_for_value.items()"
   ]
  },
  {
   "cell_type": "code",
   "execution_count": 26,
   "metadata": {},
   "outputs": [
    {
     "data": {
      "text/plain": [
       "StandardCost  ProductItemCode\n",
       "True          AR-5381            1\n",
       "              BA-8327            1\n",
       "              BE-2349            1\n",
       "              BE-2908            1\n",
       "              BL-2036            1\n",
       "                                ..\n",
       "              SR-2098            1\n",
       "              SS-2985            1\n",
       "              ST-9828            1\n",
       "              TO-2301            1\n",
       "              TP-0923            1\n",
       "Name: ProductItemCode, Length: 211, dtype: int64"
      ]
     },
     "execution_count": 26,
     "metadata": {},
     "output_type": "execute_result"
    }
   ],
   "source": [
    "# Второй способ убедиться в этом:\n",
    "\n",
    "search_for_null_new = products[products[\"StandardCost\"] == 0]\n",
    "search_for_null_new.groupby(products[\"StandardCost\"] == 0, sort = True)['ProductItemCode'].value_counts()"
   ]
  },
  {
   "cell_type": "code",
   "execution_count": 27,
   "metadata": {},
   "outputs": [],
   "source": [
    "# Убедимся, что название товара уникально\n",
    "\n",
    "search_for_name = products['Product Name'][products[\"StandardCost\"] == 0]\n",
    "\n",
    "col = {}\n",
    "\n",
    "for item in search_for_name:\n",
    "    col[item] = 0\n",
    "\n",
    "for item in col:\n",
    "    for cell in search_for_name:\n",
    "        if cell == item:\n",
    "            col[item] +=1\n",
    "        else:\n",
    "            0"
   ]
  },
  {
   "cell_type": "code",
   "execution_count": 28,
   "metadata": {},
   "outputs": [
    {
     "data": {
      "text/plain": [
       "211"
      ]
     },
     "metadata": {},
     "output_type": "display_data"
    },
    {
     "data": {
      "text/plain": [
       "211"
      ]
     },
     "execution_count": 28,
     "metadata": {},
     "output_type": "execute_result"
    }
   ],
   "source": [
    "display(sum(map((1).__eq__, col.values())))\n",
    "len(col)"
   ]
  },
  {
   "cell_type": "code",
   "execution_count": 29,
   "metadata": {},
   "outputs": [],
   "source": [
    "# Так как не удалось восстановить данные \n",
    "# по причине отсутствия дополнительных сведений,\n",
    "# мы избавляемся от ненужных данных,\n",
    "# но сначала избавимся от ненужных нам столбцов\n",
    "\n",
    "# Избавляемся от ненужных столбцов:\n",
    "# -- ProductItemCode\n",
    "# -- Product Color\n",
    "# -- Product Size\n",
    "# -- Product Line\n",
    "# -- Model Name\n",
    "# -- Product Status\n",
    "\n",
    "products = products.drop(['ProductItemCode','Product Color','Product Size'\n",
    "                         ,'Product Line','Model Name','Product Status'], axis = 1)"
   ]
  },
  {
   "cell_type": "code",
   "execution_count": 30,
   "metadata": {},
   "outputs": [
    {
     "data": {
      "text/plain": [
       "Index(['ProductKey', 'Product Name', 'Sub Category', 'Product Category',\n",
       "       'StandardCost', 'Product Description', 'Product Description DE'],\n",
       "      dtype='object')"
      ]
     },
     "execution_count": 30,
     "metadata": {},
     "output_type": "execute_result"
    }
   ],
   "source": [
    "products.columns"
   ]
  },
  {
   "cell_type": "code",
   "execution_count": 31,
   "metadata": {},
   "outputs": [],
   "source": [
    "products = products.dropna(axis=0)"
   ]
  },
  {
   "cell_type": "code",
   "execution_count": 32,
   "metadata": {},
   "outputs": [
    {
     "data": {
      "text/html": [
       "<div>\n",
       "<style scoped>\n",
       "    .dataframe tbody tr th:only-of-type {\n",
       "        vertical-align: middle;\n",
       "    }\n",
       "\n",
       "    .dataframe tbody tr th {\n",
       "        vertical-align: top;\n",
       "    }\n",
       "\n",
       "    .dataframe thead th {\n",
       "        text-align: right;\n",
       "    }\n",
       "</style>\n",
       "<table border=\"1\" class=\"dataframe\">\n",
       "  <thead>\n",
       "    <tr style=\"text-align: right;\">\n",
       "      <th></th>\n",
       "      <th>ProductKey</th>\n",
       "      <th>Product Name</th>\n",
       "      <th>Sub Category</th>\n",
       "      <th>Product Category</th>\n",
       "      <th>StandardCost</th>\n",
       "      <th>Product Description</th>\n",
       "      <th>Product Description DE</th>\n",
       "    </tr>\n",
       "  </thead>\n",
       "  <tbody>\n",
       "    <tr>\n",
       "      <th>209</th>\n",
       "      <td>210</td>\n",
       "      <td>HL Road Frame - Black, 58</td>\n",
       "      <td>Road Frames</td>\n",
       "      <td>Components</td>\n",
       "      <td>0.0000</td>\n",
       "      <td>Our lightest and best quality aluminum frame m...</td>\n",
       "      <td>Unser leichtester und hochwertigster Aluminium...</td>\n",
       "    </tr>\n",
       "    <tr>\n",
       "      <th>210</th>\n",
       "      <td>211</td>\n",
       "      <td>HL Road Frame - Red, 58</td>\n",
       "      <td>Road Frames</td>\n",
       "      <td>Components</td>\n",
       "      <td>0.0000</td>\n",
       "      <td>Our lightest and best quality aluminum frame m...</td>\n",
       "      <td>Unser leichtester und hochwertigster Aluminium...</td>\n",
       "    </tr>\n",
       "    <tr>\n",
       "      <th>211</th>\n",
       "      <td>212</td>\n",
       "      <td>Sport-100 Helmet, Red</td>\n",
       "      <td>Helmets</td>\n",
       "      <td>Accessories</td>\n",
       "      <td>12.0278</td>\n",
       "      <td>Universal fit, well-vented, lightweight , snap...</td>\n",
       "      <td>\"Einheitsgröße, atmungsaktiv, leicht, aufsetzb...</td>\n",
       "    </tr>\n",
       "    <tr>\n",
       "      <th>212</th>\n",
       "      <td>213</td>\n",
       "      <td>Sport-100 Helmet, Red</td>\n",
       "      <td>Helmets</td>\n",
       "      <td>Accessories</td>\n",
       "      <td>13.8782</td>\n",
       "      <td>Universal fit, well-vented, lightweight , snap...</td>\n",
       "      <td>\"Einheitsgröße, atmungsaktiv, leicht, aufsetzb...</td>\n",
       "    </tr>\n",
       "    <tr>\n",
       "      <th>213</th>\n",
       "      <td>214</td>\n",
       "      <td>Sport-100 Helmet, Red</td>\n",
       "      <td>Helmets</td>\n",
       "      <td>Accessories</td>\n",
       "      <td>13.0863</td>\n",
       "      <td>Universal fit, well-vented, lightweight , snap...</td>\n",
       "      <td>\"Einheitsgröße, atmungsaktiv, leicht, aufsetzb...</td>\n",
       "    </tr>\n",
       "  </tbody>\n",
       "</table>\n",
       "</div>"
      ],
      "text/plain": [
       "     ProductKey               Product Name Sub Category Product Category  \\\n",
       "209         210  HL Road Frame - Black, 58  Road Frames       Components   \n",
       "210         211    HL Road Frame - Red, 58  Road Frames       Components   \n",
       "211         212      Sport-100 Helmet, Red      Helmets      Accessories   \n",
       "212         213      Sport-100 Helmet, Red      Helmets      Accessories   \n",
       "213         214      Sport-100 Helmet, Red      Helmets      Accessories   \n",
       "\n",
       "     StandardCost                                Product Description  \\\n",
       "209        0.0000  Our lightest and best quality aluminum frame m...   \n",
       "210        0.0000  Our lightest and best quality aluminum frame m...   \n",
       "211       12.0278  Universal fit, well-vented, lightweight , snap...   \n",
       "212       13.8782  Universal fit, well-vented, lightweight , snap...   \n",
       "213       13.0863  Universal fit, well-vented, lightweight , snap...   \n",
       "\n",
       "                                Product Description DE  \n",
       "209  Unser leichtester und hochwertigster Aluminium...  \n",
       "210  Unser leichtester und hochwertigster Aluminium...  \n",
       "211  \"Einheitsgröße, atmungsaktiv, leicht, aufsetzb...  \n",
       "212  \"Einheitsgröße, atmungsaktiv, leicht, aufsetzb...  \n",
       "213  \"Einheitsgröße, atmungsaktiv, leicht, aufsetzb...  "
      ]
     },
     "metadata": {},
     "output_type": "display_data"
    },
    {
     "name": "stdout",
     "output_type": "stream",
     "text": [
      "<class 'pandas.core.frame.DataFrame'>\n",
      "Int64Index: 396 entries, 209 to 605\n",
      "Data columns (total 7 columns):\n",
      " #   Column                  Non-Null Count  Dtype  \n",
      "---  ------                  --------------  -----  \n",
      " 0   ProductKey              396 non-null    int64  \n",
      " 1   Product Name            396 non-null    object \n",
      " 2   Sub Category            396 non-null    object \n",
      " 3   Product Category        396 non-null    object \n",
      " 4   StandardCost            396 non-null    float64\n",
      " 5   Product Description     396 non-null    object \n",
      " 6   Product Description DE  396 non-null    object \n",
      "dtypes: float64(1), int64(1), object(5)\n",
      "memory usage: 24.8+ KB\n"
     ]
    },
    {
     "data": {
      "text/plain": [
       "None"
      ]
     },
     "metadata": {},
     "output_type": "display_data"
    }
   ],
   "source": [
    "df_check(products)"
   ]
  },
  {
   "cell_type": "code",
   "execution_count": 33,
   "metadata": {},
   "outputs": [
    {
     "name": "stdout",
     "output_type": "stream",
     "text": [
      "2\n"
     ]
    }
   ],
   "source": [
    "# Проверим наличие нулевых значений\n",
    "\n",
    "count = 0\n",
    "\n",
    "for item in products.StandardCost:\n",
    "    if item == 0:\n",
    "        count += 1\n",
    "        \n",
    "print(count)"
   ]
  },
  {
   "cell_type": "code",
   "execution_count": 34,
   "metadata": {},
   "outputs": [
    {
     "data": {
      "text/plain": [
       "409.164677"
      ]
     },
     "execution_count": 34,
     "metadata": {},
     "output_type": "execute_result"
    }
   ],
   "source": [
    "# Избавившись от строк с нулевыми значениями мы получили\n",
    "# две строки, у которых в столбце StandardCost отсутствует значения\n",
    "# Через схожую категорию и подкатегории мы найдем среднее значени и добавим его\n",
    "\n",
    "mean_components = round(float(products.groupby((products['Sub Category'] == 'Road Frames') \n",
    "                 & (products['Product Category'] == 'Components')\n",
    "                )['StandardCost'].mean().drop(False)), 6)\n",
    "mean_components"
   ]
  },
  {
   "cell_type": "code",
   "execution_count": 35,
   "metadata": {},
   "outputs": [],
   "source": [
    "products.StandardCost = products.StandardCost.apply(lambda x: mean_components if x == 0 else x)"
   ]
  },
  {
   "cell_type": "code",
   "execution_count": 36,
   "metadata": {},
   "outputs": [
    {
     "data": {
      "text/plain": [
       "Index([], dtype='object')"
      ]
     },
     "execution_count": 36,
     "metadata": {},
     "output_type": "execute_result"
    }
   ],
   "source": [
    "products.columns[products.isnull().any()]"
   ]
  },
  {
   "cell_type": "markdown",
   "metadata": {},
   "source": [
    "## Собираем единный датасет"
   ]
  },
  {
   "cell_type": "code",
   "execution_count": 37,
   "metadata": {},
   "outputs": [],
   "source": [
    "data = pd.merge(customers, sales, on = ['CustomerKey'])"
   ]
  },
  {
   "cell_type": "code",
   "execution_count": 38,
   "metadata": {},
   "outputs": [],
   "source": [
    "data_df = pd.merge(data, products, on = ['ProductKey'])"
   ]
  },
  {
   "cell_type": "code",
   "execution_count": 39,
   "metadata": {},
   "outputs": [],
   "source": [
    "df = pd.merge(data_df, calendar, on = ['OrderDateKey']) "
   ]
  },
  {
   "cell_type": "code",
   "execution_count": 40,
   "metadata": {},
   "outputs": [
    {
     "data": {
      "text/html": [
       "<div>\n",
       "<style scoped>\n",
       "    .dataframe tbody tr th:only-of-type {\n",
       "        vertical-align: middle;\n",
       "    }\n",
       "\n",
       "    .dataframe tbody tr th {\n",
       "        vertical-align: top;\n",
       "    }\n",
       "\n",
       "    .dataframe thead th {\n",
       "        text-align: right;\n",
       "    }\n",
       "</style>\n",
       "<table border=\"1\" class=\"dataframe\">\n",
       "  <thead>\n",
       "    <tr style=\"text-align: right;\">\n",
       "      <th></th>\n",
       "      <th>CustomerKey</th>\n",
       "      <th>Full Name</th>\n",
       "      <th>AgeOfCustomer</th>\n",
       "      <th>Gender</th>\n",
       "      <th>Customer City</th>\n",
       "      <th>Region Code</th>\n",
       "      <th>State Code</th>\n",
       "      <th>ProductKey</th>\n",
       "      <th>OrderDateKey</th>\n",
       "      <th>SalesAmount</th>\n",
       "      <th>...</th>\n",
       "      <th>StandardCost</th>\n",
       "      <th>Product Description</th>\n",
       "      <th>Product Description DE</th>\n",
       "      <th>Date</th>\n",
       "      <th>Day</th>\n",
       "      <th>Month</th>\n",
       "      <th>MonthShort</th>\n",
       "      <th>MonthNr</th>\n",
       "      <th>Quarter</th>\n",
       "      <th>Year</th>\n",
       "    </tr>\n",
       "  </thead>\n",
       "  <tbody>\n",
       "    <tr>\n",
       "      <th>0</th>\n",
       "      <td>11000</td>\n",
       "      <td>JonYang</td>\n",
       "      <td>47</td>\n",
       "      <td>Male</td>\n",
       "      <td>Rockhampton</td>\n",
       "      <td>AU</td>\n",
       "      <td>QLD</td>\n",
       "      <td>353</td>\n",
       "      <td>20200118</td>\n",
       "      <td>2319.99</td>\n",
       "      <td>...</td>\n",
       "      <td>1265.6195</td>\n",
       "      <td>Serious back-country riding. Perfect for all l...</td>\n",
       "      <td>Mountainbike für Profis. Perfekt für alle Schw...</td>\n",
       "      <td>2020-01-18</td>\n",
       "      <td>Saturday</td>\n",
       "      <td>January</td>\n",
       "      <td>Jan</td>\n",
       "      <td>1</td>\n",
       "      <td>1</td>\n",
       "      <td>2020</td>\n",
       "    </tr>\n",
       "    <tr>\n",
       "      <th>1</th>\n",
       "      <td>11015</td>\n",
       "      <td>ChloeYoung</td>\n",
       "      <td>36</td>\n",
       "      <td>Female</td>\n",
       "      <td>Burbank</td>\n",
       "      <td>US</td>\n",
       "      <td>CA</td>\n",
       "      <td>353</td>\n",
       "      <td>20200118</td>\n",
       "      <td>2319.99</td>\n",
       "      <td>...</td>\n",
       "      <td>1265.6195</td>\n",
       "      <td>Serious back-country riding. Perfect for all l...</td>\n",
       "      <td>Mountainbike für Profis. Perfekt für alle Schw...</td>\n",
       "      <td>2020-01-18</td>\n",
       "      <td>Saturday</td>\n",
       "      <td>January</td>\n",
       "      <td>Jan</td>\n",
       "      <td>1</td>\n",
       "      <td>1</td>\n",
       "      <td>2020</td>\n",
       "    </tr>\n",
       "    <tr>\n",
       "      <th>2</th>\n",
       "      <td>11237</td>\n",
       "      <td>ClarenceAnand</td>\n",
       "      <td>54</td>\n",
       "      <td>Male</td>\n",
       "      <td>Solingen</td>\n",
       "      <td>DE</td>\n",
       "      <td>NW</td>\n",
       "      <td>353</td>\n",
       "      <td>20200118</td>\n",
       "      <td>2319.99</td>\n",
       "      <td>...</td>\n",
       "      <td>1265.6195</td>\n",
       "      <td>Serious back-country riding. Perfect for all l...</td>\n",
       "      <td>Mountainbike für Profis. Perfekt für alle Schw...</td>\n",
       "      <td>2020-01-18</td>\n",
       "      <td>Saturday</td>\n",
       "      <td>January</td>\n",
       "      <td>Jan</td>\n",
       "      <td>1</td>\n",
       "      <td>1</td>\n",
       "      <td>2020</td>\n",
       "    </tr>\n",
       "    <tr>\n",
       "      <th>3</th>\n",
       "      <td>11403</td>\n",
       "      <td>NancySchmidt</td>\n",
       "      <td>39</td>\n",
       "      <td>Female</td>\n",
       "      <td>Saint Ouen</td>\n",
       "      <td>FR</td>\n",
       "      <td>17</td>\n",
       "      <td>353</td>\n",
       "      <td>20200118</td>\n",
       "      <td>2319.99</td>\n",
       "      <td>...</td>\n",
       "      <td>1265.6195</td>\n",
       "      <td>Serious back-country riding. Perfect for all l...</td>\n",
       "      <td>Mountainbike für Profis. Perfekt für alle Schw...</td>\n",
       "      <td>2020-01-18</td>\n",
       "      <td>Saturday</td>\n",
       "      <td>January</td>\n",
       "      <td>Jan</td>\n",
       "      <td>1</td>\n",
       "      <td>1</td>\n",
       "      <td>2020</td>\n",
       "    </tr>\n",
       "    <tr>\n",
       "      <th>4</th>\n",
       "      <td>11000</td>\n",
       "      <td>JonYang</td>\n",
       "      <td>47</td>\n",
       "      <td>Male</td>\n",
       "      <td>Rockhampton</td>\n",
       "      <td>AU</td>\n",
       "      <td>QLD</td>\n",
       "      <td>485</td>\n",
       "      <td>20200118</td>\n",
       "      <td>21.98</td>\n",
       "      <td>...</td>\n",
       "      <td>8.2205</td>\n",
       "      <td>Clip-on fenders fit most mountain bikes.</td>\n",
       "      <td>Schutzbleche zum Aufstecken passen auf fast al...</td>\n",
       "      <td>2020-01-18</td>\n",
       "      <td>Saturday</td>\n",
       "      <td>January</td>\n",
       "      <td>Jan</td>\n",
       "      <td>1</td>\n",
       "      <td>1</td>\n",
       "      <td>2020</td>\n",
       "    </tr>\n",
       "  </tbody>\n",
       "</table>\n",
       "<p>5 rows × 23 columns</p>\n",
       "</div>"
      ],
      "text/plain": [
       "   CustomerKey      Full Name  AgeOfCustomer  Gender Customer City  \\\n",
       "0        11000        JonYang             47    Male   Rockhampton   \n",
       "1        11015     ChloeYoung             36  Female       Burbank   \n",
       "2        11237  ClarenceAnand             54    Male      Solingen   \n",
       "3        11403   NancySchmidt             39  Female    Saint Ouen   \n",
       "4        11000        JonYang             47    Male   Rockhampton   \n",
       "\n",
       "  Region Code State Code  ProductKey  OrderDateKey  SalesAmount  ...  \\\n",
       "0          AU        QLD         353      20200118      2319.99  ...   \n",
       "1          US         CA         353      20200118      2319.99  ...   \n",
       "2          DE         NW         353      20200118      2319.99  ...   \n",
       "3          FR         17         353      20200118      2319.99  ...   \n",
       "4          AU        QLD         485      20200118        21.98  ...   \n",
       "\n",
       "  StandardCost                                Product Description  \\\n",
       "0    1265.6195  Serious back-country riding. Perfect for all l...   \n",
       "1    1265.6195  Serious back-country riding. Perfect for all l...   \n",
       "2    1265.6195  Serious back-country riding. Perfect for all l...   \n",
       "3    1265.6195  Serious back-country riding. Perfect for all l...   \n",
       "4       8.2205           Clip-on fenders fit most mountain bikes.   \n",
       "\n",
       "                              Product Description DE        Date       Day  \\\n",
       "0  Mountainbike für Profis. Perfekt für alle Schw...  2020-01-18  Saturday   \n",
       "1  Mountainbike für Profis. Perfekt für alle Schw...  2020-01-18  Saturday   \n",
       "2  Mountainbike für Profis. Perfekt für alle Schw...  2020-01-18  Saturday   \n",
       "3  Mountainbike für Profis. Perfekt für alle Schw...  2020-01-18  Saturday   \n",
       "4  Schutzbleche zum Aufstecken passen auf fast al...  2020-01-18  Saturday   \n",
       "\n",
       "     Month MonthShort MonthNr Quarter  Year  \n",
       "0  January        Jan       1       1  2020  \n",
       "1  January        Jan       1       1  2020  \n",
       "2  January        Jan       1       1  2020  \n",
       "3  January        Jan       1       1  2020  \n",
       "4  January        Jan       1       1  2020  \n",
       "\n",
       "[5 rows x 23 columns]"
      ]
     },
     "metadata": {},
     "output_type": "display_data"
    },
    {
     "name": "stdout",
     "output_type": "stream",
     "text": [
      "<class 'pandas.core.frame.DataFrame'>\n",
      "Int64Index: 58166 entries, 0 to 58165\n",
      "Data columns (total 23 columns):\n",
      " #   Column                  Non-Null Count  Dtype  \n",
      "---  ------                  --------------  -----  \n",
      " 0   CustomerKey             58166 non-null  int64  \n",
      " 1   Full Name               58166 non-null  object \n",
      " 2   AgeOfCustomer           58166 non-null  int64  \n",
      " 3   Gender                  58166 non-null  object \n",
      " 4   Customer City           58166 non-null  object \n",
      " 5   Region Code             58166 non-null  object \n",
      " 6   State Code              58166 non-null  object \n",
      " 7   ProductKey              58166 non-null  int64  \n",
      " 8   OrderDateKey            58166 non-null  int64  \n",
      " 9   SalesAmount             58166 non-null  float64\n",
      " 10  Product Name            58166 non-null  object \n",
      " 11  Sub Category            58166 non-null  object \n",
      " 12  Product Category        58166 non-null  object \n",
      " 13  StandardCost            58166 non-null  float64\n",
      " 14  Product Description     58166 non-null  object \n",
      " 15  Product Description DE  58166 non-null  object \n",
      " 16  Date                    58166 non-null  object \n",
      " 17  Day                     58166 non-null  object \n",
      " 18  Month                   58166 non-null  object \n",
      " 19  MonthShort              58166 non-null  object \n",
      " 20  MonthNr                 58166 non-null  int64  \n",
      " 21  Quarter                 58166 non-null  int64  \n",
      " 22  Year                    58166 non-null  int64  \n",
      "dtypes: float64(2), int64(7), object(14)\n",
      "memory usage: 10.7+ MB\n"
     ]
    },
    {
     "data": {
      "text/plain": [
       "None"
      ]
     },
     "metadata": {},
     "output_type": "display_data"
    }
   ],
   "source": [
    "df_check(df)"
   ]
  },
  {
   "cell_type": "markdown",
   "metadata": {},
   "source": [
    "# Предобработка"
   ]
  },
  {
   "cell_type": "code",
   "execution_count": 41,
   "metadata": {},
   "outputs": [],
   "source": [
    "# Для удобства просмотра убираем \n",
    "# ограничения просмотра ячейки\n",
    "pd.set_option('display.max_colwidth', None)"
   ]
  },
  {
   "cell_type": "code",
   "execution_count": 42,
   "metadata": {},
   "outputs": [
    {
     "data": {
      "text/plain": [
       "Index(['CustomerKey', 'Full Name', 'AgeOfCustomer', 'Gender', 'Customer City',\n",
       "       'Region Code', 'State Code', 'ProductKey', 'OrderDateKey',\n",
       "       'SalesAmount', 'Product Name', 'Sub Category', 'Product Category',\n",
       "       'StandardCost', 'Product Description', 'Product Description DE', 'Date',\n",
       "       'Day', 'Month', 'MonthShort', 'MonthNr', 'Quarter', 'Year'],\n",
       "      dtype='object')"
      ]
     },
     "execution_count": 42,
     "metadata": {},
     "output_type": "execute_result"
    }
   ],
   "source": [
    "df.columns"
   ]
  },
  {
   "cell_type": "code",
   "execution_count": 43,
   "metadata": {},
   "outputs": [],
   "source": [
    "# Переименуем индексы столбцов\n",
    "df.columns = ['customer_key','full_name','customer_age',\n",
    "              'gender','customer_city','region_code', 'state_code','product_key','date_key',\n",
    "              'sales_amount','product_name','sub_category',\n",
    "              'product_category','standard_cost','product_description',\n",
    "              'product_description_de','date', 'day', 'month',\n",
    "       'month_short', 'month_nr', 'quarter', 'year']"
   ]
  },
  {
   "cell_type": "markdown",
   "metadata": {},
   "source": [
    "# Обработка"
   ]
  },
  {
   "cell_type": "markdown",
   "metadata": {},
   "source": [
    "### customer_age"
   ]
  },
  {
   "cell_type": "code",
   "execution_count": 44,
   "metadata": {},
   "outputs": [
    {
     "data": {
      "text/html": [
       "<div>\n",
       "<style scoped>\n",
       "    .dataframe tbody tr th:only-of-type {\n",
       "        vertical-align: middle;\n",
       "    }\n",
       "\n",
       "    .dataframe tbody tr th {\n",
       "        vertical-align: top;\n",
       "    }\n",
       "\n",
       "    .dataframe thead th {\n",
       "        text-align: right;\n",
       "    }\n",
       "</style>\n",
       "<table border=\"1\" class=\"dataframe\">\n",
       "  <thead>\n",
       "    <tr style=\"text-align: right;\">\n",
       "      <th></th>\n",
       "      <th>customer_age</th>\n",
       "    </tr>\n",
       "  </thead>\n",
       "  <tbody>\n",
       "    <tr>\n",
       "      <th>45</th>\n",
       "      <td>2248</td>\n",
       "    </tr>\n",
       "    <tr>\n",
       "      <th>44</th>\n",
       "      <td>2233</td>\n",
       "    </tr>\n",
       "    <tr>\n",
       "      <th>39</th>\n",
       "      <td>2207</td>\n",
       "    </tr>\n",
       "    <tr>\n",
       "      <th>41</th>\n",
       "      <td>2149</td>\n",
       "    </tr>\n",
       "    <tr>\n",
       "      <th>40</th>\n",
       "      <td>2110</td>\n",
       "    </tr>\n",
       "    <tr>\n",
       "      <th>...</th>\n",
       "      <td>...</td>\n",
       "    </tr>\n",
       "    <tr>\n",
       "      <th>93</th>\n",
       "      <td>6</td>\n",
       "    </tr>\n",
       "    <tr>\n",
       "      <th>91</th>\n",
       "      <td>5</td>\n",
       "    </tr>\n",
       "    <tr>\n",
       "      <th>95</th>\n",
       "      <td>5</td>\n",
       "    </tr>\n",
       "    <tr>\n",
       "      <th>104</th>\n",
       "      <td>3</td>\n",
       "    </tr>\n",
       "    <tr>\n",
       "      <th>100</th>\n",
       "      <td>2</td>\n",
       "    </tr>\n",
       "  </tbody>\n",
       "</table>\n",
       "<p>72 rows × 1 columns</p>\n",
       "</div>"
      ],
      "text/plain": [
       "     customer_age\n",
       "45           2248\n",
       "44           2233\n",
       "39           2207\n",
       "41           2149\n",
       "40           2110\n",
       "..            ...\n",
       "93              6\n",
       "91              5\n",
       "95              5\n",
       "104             3\n",
       "100             2\n",
       "\n",
       "[72 rows x 1 columns]"
      ]
     },
     "metadata": {},
     "output_type": "display_data"
    },
    {
     "name": "stdout",
     "output_type": "stream",
     "text": [
      "[ 47  36  54  39  37  49  52  68  41  62  40  44  51  42  63  46  57  53\n",
      "  43  66  34  67  60  55  35  38  32  50  45  72  48  74  76  64  61  56\n",
      " 103  59  70  65  80  73  78  58  75  84  69  77  71  81  82  33  79  86\n",
      "  92  90  88  93  83  98  89  97  85  91  96 104  87 101 102  95  94 100]\n"
     ]
    }
   ],
   "source": [
    "# Проверим возраст клиентов, тем самым узнаем возраст ЦА\n",
    "# дополнительно построим гистограмму, для наглядности\n",
    "\n",
    "object_check(df.customer_age)"
   ]
  },
  {
   "cell_type": "markdown",
   "metadata": {},
   "source": [
    "### gender"
   ]
  },
  {
   "cell_type": "code",
   "execution_count": 45,
   "metadata": {},
   "outputs": [
    {
     "data": {
      "text/html": [
       "<div>\n",
       "<style scoped>\n",
       "    .dataframe tbody tr th:only-of-type {\n",
       "        vertical-align: middle;\n",
       "    }\n",
       "\n",
       "    .dataframe tbody tr th {\n",
       "        vertical-align: top;\n",
       "    }\n",
       "\n",
       "    .dataframe thead th {\n",
       "        text-align: right;\n",
       "    }\n",
       "</style>\n",
       "<table border=\"1\" class=\"dataframe\">\n",
       "  <thead>\n",
       "    <tr style=\"text-align: right;\">\n",
       "      <th></th>\n",
       "      <th>gender</th>\n",
       "    </tr>\n",
       "  </thead>\n",
       "  <tbody>\n",
       "    <tr>\n",
       "      <th>Male</th>\n",
       "      <td>29266</td>\n",
       "    </tr>\n",
       "    <tr>\n",
       "      <th>Female</th>\n",
       "      <td>28900</td>\n",
       "    </tr>\n",
       "  </tbody>\n",
       "</table>\n",
       "</div>"
      ],
      "text/plain": [
       "        gender\n",
       "Male     29266\n",
       "Female   28900"
      ]
     },
     "metadata": {},
     "output_type": "display_data"
    },
    {
     "name": "stdout",
     "output_type": "stream",
     "text": [
      "['Male' 'Female']\n"
     ]
    },
    {
     "data": {
      "text/plain": [
       "<AxesSubplot:>"
      ]
     },
     "execution_count": 45,
     "metadata": {},
     "output_type": "execute_result"
    },
    {
     "data": {
      "image/png": "[encoded data removed]",
      "text/plain": [
       "<Figure size 432x288 with 1 Axes>"
      ]
     },
     "metadata": {
      "needs_background": "light"
     },
     "output_type": "display_data"
    }
   ],
   "source": [
    "# Узнаем пол наших клиентов:\n",
    "# Нашим товаром заинтересованы мужчины и женщины\n",
    "\n",
    "object_check(df.gender)\n",
    "df.gender.hist()"
   ]
  },
  {
   "cell_type": "markdown",
   "metadata": {},
   "source": [
    "### customer_city"
   ]
  },
  {
   "cell_type": "code",
   "execution_count": 46,
   "metadata": {},
   "outputs": [
    {
     "data": {
      "text/html": [
       "<div>\n",
       "<style scoped>\n",
       "    .dataframe tbody tr th:only-of-type {\n",
       "        vertical-align: middle;\n",
       "    }\n",
       "\n",
       "    .dataframe tbody tr th {\n",
       "        vertical-align: top;\n",
       "    }\n",
       "\n",
       "    .dataframe thead th {\n",
       "        text-align: right;\n",
       "    }\n",
       "</style>\n",
       "<table border=\"1\" class=\"dataframe\">\n",
       "  <thead>\n",
       "    <tr style=\"text-align: right;\">\n",
       "      <th></th>\n",
       "      <th>customer_city</th>\n",
       "    </tr>\n",
       "  </thead>\n",
       "  <tbody>\n",
       "    <tr>\n",
       "      <th>London</th>\n",
       "      <td>1544</td>\n",
       "    </tr>\n",
       "    <tr>\n",
       "      <th>Paris</th>\n",
       "      <td>1148</td>\n",
       "    </tr>\n",
       "    <tr>\n",
       "      <th>Cliffside</th>\n",
       "      <td>901</td>\n",
       "    </tr>\n",
       "    <tr>\n",
       "      <th>Berlin</th>\n",
       "      <td>572</td>\n",
       "    </tr>\n",
       "    <tr>\n",
       "      <th>Chula Vista</th>\n",
       "      <td>567</td>\n",
       "    </tr>\n",
       "    <tr>\n",
       "      <th>...</th>\n",
       "      <td>...</td>\n",
       "    </tr>\n",
       "    <tr>\n",
       "      <th>Clay</th>\n",
       "      <td>2</td>\n",
       "    </tr>\n",
       "    <tr>\n",
       "      <th>Bellevue</th>\n",
       "      <td>1</td>\n",
       "    </tr>\n",
       "    <tr>\n",
       "      <th>Braintree</th>\n",
       "      <td>1</td>\n",
       "    </tr>\n",
       "    <tr>\n",
       "      <th>Chehalis</th>\n",
       "      <td>1</td>\n",
       "    </tr>\n",
       "    <tr>\n",
       "      <th>Byron</th>\n",
       "      <td>1</td>\n",
       "    </tr>\n",
       "  </tbody>\n",
       "</table>\n",
       "<p>268 rows × 1 columns</p>\n",
       "</div>"
      ],
      "text/plain": [
       "             customer_city\n",
       "London                1544\n",
       "Paris                 1148\n",
       "Cliffside              901\n",
       "Berlin                 572\n",
       "Chula Vista            567\n",
       "...                    ...\n",
       "Clay                     2\n",
       "Bellevue                 1\n",
       "Braintree                1\n",
       "Chehalis                 1\n",
       "Byron                    1\n",
       "\n",
       "[268 rows x 1 columns]"
      ]
     },
     "metadata": {},
     "output_type": "display_data"
    },
    {
     "name": "stdout",
     "output_type": "stream",
     "text": [
      "['Rockhampton' 'Burbank' 'Solingen' 'Saint Ouen' 'Watford' 'Royal Oak'\n",
      " 'Sedro Woolley' 'Chula Vista' 'City Of Commerce' 'Maidenhead' 'Roubaix'\n",
      " 'London' 'Springwood' 'Versailles' 'Puyallup' 'Haney'\n",
      " 'Verrieres Le Buisson' 'Seaford' 'Bendigo' 'Woodland Hills' 'Downey'\n",
      " 'Wokingham' 'Les Ulis' 'Palo Alto' 'Malabar' 'Cloverdale' 'Colma' 'Croix'\n",
      " 'Bellingham' 'Westminster' 'Novato' 'Neunkirchen' 'Santa Cruz'\n",
      " 'Peterborough' 'Coronado' 'Darmstadt' 'Berlin' 'Burien' 'Kirkby'\n",
      " 'Gateshead' 'Hawthorne' 'Cliffside' 'Torrance' 'Port Macquarie'\n",
      " 'Port Orchard' 'Los Angeles' 'Silverwater' 'Stoke-on-Trent' 'Lemon Grove'\n",
      " 'La Jolla' 'Frankfurt' 'El Cajon' 'Hervey Bay' 'Townsville'\n",
      " 'North Sydney' 'Runcorn' 'Brisbane' 'Kirkland' 'Concord' 'Colomiers'\n",
      " 'Bonn' 'Newcastle upon Tyne' 'Goulburn' 'Beverly Hills' 'Ballard'\n",
      " 'Paderborn' 'Edmonds' 'St. Leonards' 'Burlingame' 'W. York' 'Paris'\n",
      " 'Oregon City' 'Sydney' 'Orly' 'Saint-Denis' 'Berkeley' 'Sunbury'\n",
      " 'Long Beach' 'Newport Beach' 'Port Hammond' 'Matraville' 'Issaquah'\n",
      " 'Burnaby' 'Newton' 'Woodburn' 'Lille' 'Saint Germain en Laye' 'Hamburg'\n",
      " 'San Gabriel' 'Colombes' 'Hobart' 'Beaverton' 'Redmond' 'Bracknell'\n",
      " 'Esher-Molesey' 'Lebanon' 'York' 'Pantin' 'Calgary' 'Lynnwood' 'Bury'\n",
      " 'Darlinghurst' 'Everett' 'Shawnee' 'Lavender Bay' 'Caloundra' 'Tacoma'\n",
      " 'Morangis' 'Saarlouis' 'Orleans' 'Milsons Point' 'Salem' 'Oak Bay'\n",
      " 'Warrington' 'Langley' 'Boulogne-Billancourt' 'Cergy' 'Berks' 'Milwaukie'\n",
      " 'West Covina' 'Imperial Beach' 'München' 'Wollongong' 'W. Linn'\n",
      " 'San Francisco' 'Metchosin' 'Mill Valley' 'Milton Keynes' 'Spring Valley'\n",
      " 'South Melbourne' 'Corvallis' 'Sèvres' 'Cranbourne' 'Yakima' 'Suresnes'\n",
      " 'National City' 'Ingolstadt' 'Bellflower' 'Newcastle' 'East Brisbane'\n",
      " 'Findon' 'Duesseldorf' 'Woolston' 'Vancouver' 'San Carlos' 'Daly City'\n",
      " 'Lane Cove' 'Warrnambool' 'Courbevoie' 'Gold Coast' 'Glendale'\n",
      " 'Roissy en Brie' 'Oxford' 'Rhodes' 'Oakland' 'San Diego' 'Victoria'\n",
      " 'High Wycombe' 'Langford' 'Chandler' 'Melbourne' 'Saarbrücken' 'Geelong'\n",
      " 'Sooke' 'Hof' 'Dunkerque' 'Bremerton' 'Redwood City' 'Walla Walla'\n",
      " 'Seattle' 'Chicago' 'Bottrop' 'Lincoln Acres' 'Marysville' 'Portland'\n",
      " 'Roncq' 'Chalk Riber' 'Spokane' \"Villeneuve-d'Ascq\" 'Santa Monica'\n",
      " 'Grossmont' 'Lieusaint' 'Coffs Harbour' 'Lakewood' 'Billericay' 'Fremont'\n",
      " 'Oxon' 'N. Vancouver' 'Perth' 'Melton' 'Liverpool' 'Münster' 'Poing'\n",
      " 'Frankfurt am Main' 'Tremblay-en-France' 'Lancaster' 'Hannover' 'Metz'\n",
      " 'Salzgitter' 'Olympia' 'Berkshire' 'West Sussex' 'Werne' 'Eilenburg'\n",
      " 'Drancy' 'Lake Oswego' 'Stuttgart' 'Chatou' 'Paris La Defense' 'Leipzig'\n",
      " 'North Ryde' 'Grevenbroich' 'Sulzbach Taunus' 'Cheltenham' 'Renton'\n",
      " 'Kassel' 'Leeds' 'Cambridge' 'Dresden' 'Kiel' 'Mühlheim' 'Braunschweig'\n",
      " 'Cedar City' 'Bobigny' 'Offenbach' 'Erlangen' 'Birmingham'\n",
      " 'Gloucestershire' 'Essen' 'Reading' 'Clarkston' 'Clackamas' 'Cincinnati'\n",
      " 'Boulogne-sur-Mer' 'Billings' 'Basingstoke Hants' 'Clay' 'Biloxi'\n",
      " 'Clearwater' 'Branson' 'Branch' 'Baytown' 'Bluffton' 'Bountiful'\n",
      " 'Bothell' 'Carrollton' 'Columbus' 'Cheektowaga' 'Campbellsville'\n",
      " 'Citrus Heights' 'Casper' 'College Station' 'Cerritos' 'Central Valley'\n",
      " 'Byron' 'Bradenton' 'Cheyenne' 'Camarillo' 'Bell Gardens' 'Canoga Park'\n",
      " 'Carol Stream' 'Cedar Park' 'Chantilly' 'Charlotte' 'Carson' 'Chehalis'\n",
      " 'Bellevue' 'Braintree']\n"
     ]
    }
   ],
   "source": [
    "# Как мы видим, из многих городов заказывают наш товар\n",
    "# Давайте выясним топ 15 городов\n",
    "\n",
    "object_check(df.customer_city)"
   ]
  },
  {
   "cell_type": "code",
   "execution_count": 47,
   "metadata": {},
   "outputs": [
    {
     "data": {
      "text/plain": [
       "London          1544\n",
       "Paris           1148\n",
       "Cliffside        901\n",
       "Berlin           572\n",
       "Chula Vista      567\n",
       "Burien           563\n",
       "Bellingham       549\n",
       "Shawnee          549\n",
       "N. Vancouver     546\n",
       "Berkeley         546\n",
       "Concord          540\n",
       "Beaverton        535\n",
       "Burlingame       516\n",
       "Bellflower       511\n",
       "Langley          511\n",
       "Name: customer_city, dtype: int64"
      ]
     },
     "execution_count": 47,
     "metadata": {},
     "output_type": "execute_result"
    }
   ],
   "source": [
    "df.customer_city.value_counts().head(15)"
   ]
  },
  {
   "cell_type": "markdown",
   "metadata": {},
   "source": [
    "### sales_amount"
   ]
  },
  {
   "cell_type": "code",
   "execution_count": 48,
   "metadata": {},
   "outputs": [
    {
     "name": "stdout",
     "output_type": "stream",
     "text": [
      "count    58166.000000\n",
      "mean       382.300241\n",
      "std        755.571000\n",
      "min          2.290000\n",
      "25%          7.950000\n",
      "50%         28.990000\n",
      "75%         69.990000\n",
      "max       2443.350000\n",
      "Name: sales_amount, dtype: float64\n"
     ]
    },
    {
     "data": {
      "image/png": "[encoded data removed]",
      "text/plain": [
       "<Figure size 432x288 with 1 Axes>"
      ]
     },
     "metadata": {
      "needs_background": "light"
     },
     "output_type": "display_data"
    }
   ],
   "source": [
    "float_check(df.sales_amount)"
   ]
  },
  {
   "cell_type": "code",
   "execution_count": 49,
   "metadata": {},
   "outputs": [
    {
     "data": {
      "text/html": [
       "<div>\n",
       "<style scoped>\n",
       "    .dataframe tbody tr th:only-of-type {\n",
       "        vertical-align: middle;\n",
       "    }\n",
       "\n",
       "    .dataframe tbody tr th {\n",
       "        vertical-align: top;\n",
       "    }\n",
       "\n",
       "    .dataframe thead th {\n",
       "        text-align: right;\n",
       "    }\n",
       "</style>\n",
       "<table border=\"1\" class=\"dataframe\">\n",
       "  <thead>\n",
       "    <tr style=\"text-align: right;\">\n",
       "      <th></th>\n",
       "      <th>sub_category</th>\n",
       "      <th>sales_amount</th>\n",
       "    </tr>\n",
       "    <tr>\n",
       "      <th>product_category</th>\n",
       "      <th></th>\n",
       "      <th></th>\n",
       "    </tr>\n",
       "  </thead>\n",
       "  <tbody>\n",
       "    <tr>\n",
       "      <th>Bikes</th>\n",
       "      <td>Touring Bikes</td>\n",
       "      <td>2443.35</td>\n",
       "    </tr>\n",
       "    <tr>\n",
       "      <th>Accessories</th>\n",
       "      <td>Tires and Tubes</td>\n",
       "      <td>159.00</td>\n",
       "    </tr>\n",
       "    <tr>\n",
       "      <th>Clothing</th>\n",
       "      <td>Vests</td>\n",
       "      <td>69.99</td>\n",
       "    </tr>\n",
       "  </tbody>\n",
       "</table>\n",
       "</div>"
      ],
      "text/plain": [
       "                     sub_category  sales_amount\n",
       "product_category                               \n",
       "Bikes               Touring Bikes       2443.35\n",
       "Accessories       Tires and Tubes        159.00\n",
       "Clothing                    Vests         69.99"
      ]
     },
     "execution_count": 49,
     "metadata": {},
     "output_type": "execute_result"
    }
   ],
   "source": [
    "# Проверим объем продаж\n",
    "# Сначала проверим катгории товаров\n",
    "# Велосипеды - самая покупаемая категория\n",
    "\n",
    "sales_amount = df.groupby('product_category')[['sub_category','sales_amount']].max().sort_values('sales_amount', ascending = False)\n",
    "sales_amount"
   ]
  },
  {
   "cell_type": "code",
   "execution_count": 50,
   "metadata": {},
   "outputs": [],
   "source": [
    "# Проверим теперь самый ходовой товар по категории\n",
    "\n",
    "product_per_category = df.groupby('product_name')[['product_name','sub_category','sales_amount','customer_city']\n",
    "                                                 ].max().sort_values('sales_amount', ascending = False)"
   ]
  },
  {
   "cell_type": "code",
   "execution_count": 51,
   "metadata": {},
   "outputs": [
    {
     "data": {
      "text/plain": [
       "('Самый ходовой товар в категории Mountain Bikes : Mountain-500 Silver, 52 в городе York',\n",
       " 'Самый ходовой товар в категории Fenders : Fender Set - Mountain в городе York',\n",
       " 'Самый ходовой товар в категории Jerseys : Short-Sleeve Classic Jersey, XL в городе York',\n",
       " 'Самый ходовой товар в категории Bottles and Cages : Water Bottle - 30 oz. в городе York',\n",
       " 'Самый ходовой товар в категории Caps : AWC Logo Cap в городе York',\n",
       " 'Самый ходовой товар в категории Road Bikes : Road-750 Black, 58 в городе York',\n",
       " 'Самый ходовой товар в категории Helmets : Sport-100 Helmet, Red в городе York',\n",
       " 'Самый ходовой товар в категории Tires and Tubes : Touring Tire Tube в городе York',\n",
       " 'Самый ходовой товар в категории Touring Bikes : Touring-3000 Yellow, 62 в городе York',\n",
       " 'Самый ходовой товар в категории Bike Stands : All-Purpose Bike Stand в городе Yakima',\n",
       " \"Самый ходовой товар в категории Shorts : Women's Mountain Shorts, S в городе York\",\n",
       " 'Самый ходовой товар в категории Hydration Packs : Hydration Pack - 70 oz. в городе York',\n",
       " 'Самый ходовой товар в категории Cleaners : Bike Wash - Dissolver в городе York',\n",
       " 'Самый ходовой товар в категории Vests : Classic Vest, S в городе York',\n",
       " 'Самый ходовой товар в категории Socks : Racing Socks, M в городе York',\n",
       " 'Самый ходовой товар в категории Gloves : Half-Finger Gloves, S в городе York',\n",
       " 'Самый ходовой товар в категории Bike Racks : Hitch Rack - 4-Bike в городе Yakima')"
      ]
     },
     "execution_count": 51,
     "metadata": {},
     "output_type": "execute_result"
    }
   ],
   "source": [
    "def cost(column):\n",
    "    sub_category = product_per_category[(product_per_category.sub_category == column)]['product_name'].max()\n",
    "    city = product_per_category[(product_per_category.sub_category == column)]['customer_city'].max()\n",
    "    return \"Самый ходовой товар в категории \" + column + ' : ' + sub_category + ' в городе ' + city\n",
    "\n",
    "(*map(cost, df.sub_category.unique()),)"
   ]
  },
  {
   "cell_type": "markdown",
   "metadata": {},
   "source": [
    "### product_name"
   ]
  },
  {
   "cell_type": "code",
   "execution_count": 52,
   "metadata": {},
   "outputs": [
    {
     "name": "stdout",
     "output_type": "stream",
     "text": [
      "Water Bottle - 30 oz.      4244\n",
      "Patch Kit/8 Patches        3191\n",
      "Mountain Tire Tube         3095\n",
      "Road Tire Tube             2376\n",
      "Sport-100 Helmet, Red      2230\n",
      "AWC Logo Cap               2190\n",
      "Sport-100 Helmet, Blue     2125\n",
      "Fender Set - Mountain      2121\n",
      "Sport-100 Helmet, Black    2085\n",
      "Mountain Bottle Cage       2025\n",
      "Road Bottle Cage           1712\n",
      "Touring Tire Tube          1488\n",
      "HL Mountain Tire           1396\n",
      "ML Mountain Tire           1161\n",
      "LL Road Tire               1044\n",
      "Name: product_name, dtype: int64\n"
     ]
    },
    {
     "data": {
      "image/png": "[encoded data removed]",
      "text/plain": [
       "<Figure size 720x720 with 1 Axes>"
      ]
     },
     "metadata": {
      "needs_background": "light"
     },
     "output_type": "display_data"
    }
   ],
   "source": [
    "# Повторим действие выше и узнаем самый ходовой товар:\n",
    "# Water Bottle - 30 oz.\n",
    "\n",
    "print(df['product_name'].value_counts().head(15))\n",
    "plt.rcParams['figure.figsize'] = (10,10)\n",
    "product_name = df['product_name'].value_counts().nlargest(15).plot(kind='barh')"
   ]
  },
  {
   "cell_type": "markdown",
   "metadata": {},
   "source": [
    "### standard_cost"
   ]
  },
  {
   "cell_type": "code",
   "execution_count": 53,
   "metadata": {},
   "outputs": [
    {
     "name": "stdout",
     "output_type": "stream",
     "text": [
      "count    58166.000000\n",
      "mean       223.827576\n",
      "std        447.191564\n",
      "min          0.856500\n",
      "25%          2.973300\n",
      "50%         10.842300\n",
      "75%         41.572300\n",
      "max       1554.947900\n",
      "Name: standard_cost, dtype: float64\n"
     ]
    },
    {
     "data": {
      "image/png": "[encoded data removed]",
      "text/plain": [
       "<Figure size 720x720 with 1 Axes>"
      ]
     },
     "metadata": {
      "needs_background": "light"
     },
     "output_type": "display_data"
    }
   ],
   "source": [
    "float_check(df.standard_cost)"
   ]
  },
  {
   "cell_type": "code",
   "execution_count": 54,
   "metadata": {},
   "outputs": [],
   "source": [
    "# Сгруппируем данные, чтобы увидеть самые дорогостоящие товары по подгруппам\n",
    "\n",
    "standard_cost = df.groupby('product_name')[['product_name','sub_category','standard_cost']].max().sort_values('standard_cost', ascending = False)"
   ]
  },
  {
   "cell_type": "code",
   "execution_count": 55,
   "metadata": {},
   "outputs": [
    {
     "data": {
      "text/plain": [
       "('Самый дорогостоящий товар в категории Mountain Bikes : Mountain-500 Silver, 52',\n",
       " 'Самый дорогостоящий товар в категории Fenders : Fender Set - Mountain',\n",
       " 'Самый дорогостоящий товар в категории Jerseys : Short-Sleeve Classic Jersey, XL',\n",
       " 'Самый дорогостоящий товар в категории Bottles and Cages : Water Bottle - 30 oz.',\n",
       " 'Самый дорогостоящий товар в категории Caps : AWC Logo Cap',\n",
       " 'Самый дорогостоящий товар в категории Road Bikes : Road-750 Black, 58',\n",
       " 'Самый дорогостоящий товар в категории Helmets : Sport-100 Helmet, Red',\n",
       " 'Самый дорогостоящий товар в категории Tires and Tubes : Touring Tire Tube',\n",
       " 'Самый дорогостоящий товар в категории Touring Bikes : Touring-3000 Yellow, 62',\n",
       " 'Самый дорогостоящий товар в категории Bike Stands : All-Purpose Bike Stand',\n",
       " \"Самый дорогостоящий товар в категории Shorts : Women's Mountain Shorts, S\",\n",
       " 'Самый дорогостоящий товар в категории Hydration Packs : Hydration Pack - 70 oz.',\n",
       " 'Самый дорогостоящий товар в категории Cleaners : Bike Wash - Dissolver',\n",
       " 'Самый дорогостоящий товар в категории Vests : Classic Vest, S',\n",
       " 'Самый дорогостоящий товар в категории Socks : Racing Socks, M',\n",
       " 'Самый дорогостоящий товар в категории Gloves : Half-Finger Gloves, S',\n",
       " 'Самый дорогостоящий товар в категории Bike Racks : Hitch Rack - 4-Bike')"
      ]
     },
     "execution_count": 55,
     "metadata": {},
     "output_type": "execute_result"
    }
   ],
   "source": [
    "def cost(column):\n",
    "    sub_category = standard_cost[(standard_cost.sub_category == column)]['product_name'].max()\n",
    "    return \"Самый дорогостоящий товар в категории \" + column + ' : ' + sub_category\n",
    "\n",
    "(*map(cost, df.sub_category.unique()),)"
   ]
  },
  {
   "cell_type": "code",
   "execution_count": 56,
   "metadata": {},
   "outputs": [],
   "source": [
    "df.to_csv (r'dataframe.csv', index = False, header=True)"
   ]
  },
  {
   "cell_type": "code",
   "execution_count": 57,
   "metadata": {},
   "outputs": [
    {
     "name": "stdout",
     "output_type": "stream",
     "text": [
      "<class 'pandas.core.frame.DataFrame'>\n",
      "Int64Index: 58166 entries, 0 to 58165\n",
      "Data columns (total 23 columns):\n",
      " #   Column                  Non-Null Count  Dtype  \n",
      "---  ------                  --------------  -----  \n",
      " 0   customer_key            58166 non-null  int64  \n",
      " 1   full_name               58166 non-null  object \n",
      " 2   customer_age            58166 non-null  int64  \n",
      " 3   gender                  58166 non-null  object \n",
      " 4   customer_city           58166 non-null  object \n",
      " 5   region_code             58166 non-null  object \n",
      " 6   state_code              58166 non-null  object \n",
      " 7   product_key             58166 non-null  int64  \n",
      " 8   date_key                58166 non-null  int64  \n",
      " 9   sales_amount            58166 non-null  float64\n",
      " 10  product_name            58166 non-null  object \n",
      " 11  sub_category            58166 non-null  object \n",
      " 12  product_category        58166 non-null  object \n",
      " 13  standard_cost           58166 non-null  float64\n",
      " 14  product_description     58166 non-null  object \n",
      " 15  product_description_de  58166 non-null  object \n",
      " 16  date                    58166 non-null  object \n",
      " 17  day                     58166 non-null  object \n",
      " 18  month                   58166 non-null  object \n",
      " 19  month_short             58166 non-null  object \n",
      " 20  month_nr                58166 non-null  int64  \n",
      " 21  quarter                 58166 non-null  int64  \n",
      " 22  year                    58166 non-null  int64  \n",
      "dtypes: float64(2), int64(7), object(14)\n",
      "memory usage: 10.7+ MB\n"
     ]
    }
   ],
   "source": [
    "df.info()"
   ]
  },
  {
   "cell_type": "code",
   "execution_count": 58,
   "metadata": {},
   "outputs": [
    {
     "data": {
      "text/plain": [
       "Dec    6003\n",
       "Oct    5613\n",
       "Nov    5548\n",
       "Jun    5343\n",
       "Aug    5159\n",
       "Jul    4917\n",
       "Sep    4885\n",
       "May    4606\n",
       "Mar    4299\n",
       "Apr    4198\n",
       "Jan    3884\n",
       "Feb    3711\n",
       "Name: month_short, dtype: int64"
      ]
     },
     "execution_count": 58,
     "metadata": {},
     "output_type": "execute_result"
    }
   ],
   "source": [
    "df.month_short.value_counts()"
   ]
  },
  {
   "cell_type": "code",
   "execution_count": null,
   "metadata": {},
   "outputs": [],
   "source": []
  }
 ],
 "metadata": {
  "kernelspec": {
   "display_name": "Python 3",
   "language": "python",
   "name": "python3"
  },
  "language_info": {
   "codemirror_mode": {
    "name": "ipython",
    "version": 3
   },
   "file_extension": ".py",
   "mimetype": "text/x-python",
   "name": "python",
   "nbconvert_exporter": "python",
   "pygments_lexer": "ipython3",
   "version": "3.8.8"
  }
 },
 "nbformat": 4,
 "nbformat_minor": 2
}
