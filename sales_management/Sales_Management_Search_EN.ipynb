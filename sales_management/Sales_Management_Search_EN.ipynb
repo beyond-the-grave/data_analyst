{
 "cells": [
  {
   "cell_type": "markdown",
   "metadata": {},
   "source": [
    "# Import"
   ]
  },
  {
   "cell_type": "code",
   "execution_count": 1,
   "metadata": {},
   "outputs": [],
   "source": [
    "import numpy as np\n",
    "import pandas as pd\n",
    "import seaborn as sns \n",
    "import itertools\n",
    "import matplotlib.pyplot as plt\n",
    "%matplotlib inline\n",
    "from itertools import combinations"
   ]
  },
  {
   "cell_type": "markdown",
   "metadata": {},
   "source": [
    "# Functions"
   ]
  },
  {
   "cell_type": "code",
   "execution_count": 2,
   "metadata": {},
   "outputs": [],
   "source": [
    "# Checking a column (dtype object) for unique values and their count \n",
    "def object_check(column):\n",
    "    display(pd.DataFrame(column.value_counts()))\n",
    "    print(column.unique())\n",
    "\n",
    "# Checking a column (dtype float) with a histogram and \n",
    "# its characteristics (number of values in the column, mean, standard deviation, minimum,\n",
    "# 25th percentile, 50th percentile, 75th percentile, and maximum)\n",
    "def float_check(column):\n",
    "    column.hist()\n",
    "    print(column.describe())\n",
    "\n",
    "\n",
    "# When adding a new column (dummy variable) \n",
    "# we put 1 - if there is one, 0 - if there is no one\n",
    "def find_item(cell):\n",
    "    if item in cell:\n",
    "        return 1\n",
    "    return 0\n",
    "\n",
    "\n",
    "# Checking for missing values in the column\n",
    "def procent_check(column, df):\n",
    "    math = 100 - ((df[column].count() * 100) / len(df))\n",
    "    print(\"In the column\",column, '\\033[4m' + str(round(math, 2)),\"percentages\" + '\\033[0m',\"of the information is not available.\")\n",
    "    \n",
    "# Output of basic statistics of categorical features\n",
    "def categorical_check(column):\n",
    "    display(pd.DataFrame(df[column].value_counts()))\n",
    "    print(df[column].describe())\n",
    "\n",
    "# Histogram construction and output of basic statistics of digital signs\n",
    "def numerical_check(column):\n",
    "    display(df[column].hist(bins=100))\n",
    "    print(df[column].describe())\n",
    "    \n",
    "\n",
    "# Short dataset check\n",
    "def df_check(df):\n",
    "    display(df.head())\n",
    "    display(df.info())\n",
    "    \n",
    "def replace_nan(df,column):\n",
    "    return df[column].astype(str).apply(lambda x: 'Unknown' if x == 'nan' else x)"
   ]
  },
  {
   "cell_type": "markdown",
   "metadata": {},
   "source": [
    "# ---------------------------- Data ----------------------------"
   ]
  },
  {
   "cell_type": "markdown",
   "metadata": {},
   "source": [
    "# Information"
   ]
  },
  {
   "cell_type": "markdown",
   "metadata": {},
   "source": [
    "### Customers:\n",
    "\n",
    "* <i>CustomerKey</i> : Customer ID\n",
    "* <i>FirstName</i> : Customer Name \n",
    "* <i> LastName</i> : Customer Last Name\n",
    "* <i> Full Name</i> : Customer's First and Last Name\n",
    "* <i> BirthDate</i> : Customer's Birthday\n",
    "* <i> AgeOfCustomer</i> : Age of Customer at time of order\n",
    "<br> &#10149; (data retrieved with 'BirthDate' and 'DateFirstPurchase')\n",
    "* <i> Gender</i> : Customer's gender\n",
    "* <i> DateFirstPurchase</i> : The date the product was ordered \n",
    "* <i> Customer City</i> : Customer City\n",
    "\n",
    "### Sales:\n",
    "\n",
    "* <i> ProductKey</i> : Product ID\n",
    "* <i> OrderDateKey</i> : Order Date ID\n",
    "* <i> DueDateKey</i> : ID Date of Delivery\n",
    "* <i> ShipDateKey</i> : ID Date of shipment \n",
    "* <i> SalesOrderNumber</i> : Shipping number\n",
    "* <i> SalesAmount</i> : Sales Volume\n",
    "\n",
    "### Products:\n",
    "\n",
    "* <i> ProductKey</i> : Customer ID\n",
    "* <i> ProductItemCode</i> : Product Series \n",
    "* <i> Product Name</i> : Product name\n",
    "* <i> Sub Category</i> : Product subcategory\n",
    "* <i> Product Category</i> : Product Category\n",
    "* <i> StandardCost</i> : Cost of item\n",
    "* <i> Product Color</i> : Product Color\n",
    "* <i> Product Size</i> : Size of item \n",
    "* <i> Product Line</i> : Product line\n",
    "* <i> Model Name</i> : Model name\n",
    "* <i> Product Description</i> : Product Description\n",
    "* <i> Product Description DE</i> : Product Description in German  \n",
    "* <i> Product Status</i> : Status of the product"
   ]
  },
  {
   "cell_type": "markdown",
   "metadata": {},
   "source": [
    "# Preparing datasets"
   ]
  },
  {
   "cell_type": "markdown",
   "metadata": {},
   "source": [
    "### Customers"
   ]
  },
  {
   "cell_type": "code",
   "execution_count": 3,
   "metadata": {},
   "outputs": [],
   "source": [
    "customers = pd.read_csv('DIM_Customer.csv', sep = ';')"
   ]
  },
  {
   "cell_type": "code",
   "execution_count": 4,
   "metadata": {},
   "outputs": [
    {
     "data": {
      "text/html": [
       "<div>\n",
       "<style scoped>\n",
       "    .dataframe tbody tr th:only-of-type {\n",
       "        vertical-align: middle;\n",
       "    }\n",
       "\n",
       "    .dataframe tbody tr th {\n",
       "        vertical-align: top;\n",
       "    }\n",
       "\n",
       "    .dataframe thead th {\n",
       "        text-align: right;\n",
       "    }\n",
       "</style>\n",
       "<table border=\"1\" class=\"dataframe\">\n",
       "  <thead>\n",
       "    <tr style=\"text-align: right;\">\n",
       "      <th></th>\n",
       "      <th>CustomerKey</th>\n",
       "      <th>FirstName</th>\n",
       "      <th>LastName</th>\n",
       "      <th>Full Name</th>\n",
       "      <th>BirthDate</th>\n",
       "      <th>AgeOfCustomer</th>\n",
       "      <th>Gender</th>\n",
       "      <th>DateFirstPurchase</th>\n",
       "      <th>Customer City</th>\n",
       "    </tr>\n",
       "  </thead>\n",
       "  <tbody>\n",
       "    <tr>\n",
       "      <th>0</th>\n",
       "      <td>11000</td>\n",
       "      <td>Jon</td>\n",
       "      <td>Yang</td>\n",
       "      <td>JonYang</td>\n",
       "      <td>1971-10-06</td>\n",
       "      <td>47</td>\n",
       "      <td>Male</td>\n",
       "      <td>2018-01-19</td>\n",
       "      <td>Rockhampton</td>\n",
       "    </tr>\n",
       "    <tr>\n",
       "      <th>1</th>\n",
       "      <td>11001</td>\n",
       "      <td>Eugene</td>\n",
       "      <td>Huang</td>\n",
       "      <td>EugeneHuang</td>\n",
       "      <td>1976-05-10</td>\n",
       "      <td>42</td>\n",
       "      <td>Male</td>\n",
       "      <td>2018-01-15</td>\n",
       "      <td>Seaford</td>\n",
       "    </tr>\n",
       "    <tr>\n",
       "      <th>2</th>\n",
       "      <td>11002</td>\n",
       "      <td>Ruben</td>\n",
       "      <td>Torres</td>\n",
       "      <td>RubenTorres</td>\n",
       "      <td>1971-02-09</td>\n",
       "      <td>47</td>\n",
       "      <td>Male</td>\n",
       "      <td>2018-01-07</td>\n",
       "      <td>Hobart</td>\n",
       "    </tr>\n",
       "    <tr>\n",
       "      <th>3</th>\n",
       "      <td>11003</td>\n",
       "      <td>Christy</td>\n",
       "      <td>Zhu</td>\n",
       "      <td>ChristyZhu</td>\n",
       "      <td>1973-08-14</td>\n",
       "      <td>44</td>\n",
       "      <td>Female</td>\n",
       "      <td>2017-12-29</td>\n",
       "      <td>North Ryde</td>\n",
       "    </tr>\n",
       "    <tr>\n",
       "      <th>4</th>\n",
       "      <td>11004</td>\n",
       "      <td>Elizabeth</td>\n",
       "      <td>Johnson</td>\n",
       "      <td>ElizabethJohnson</td>\n",
       "      <td>1979-08-05</td>\n",
       "      <td>39</td>\n",
       "      <td>Female</td>\n",
       "      <td>2018-01-23</td>\n",
       "      <td>Wollongong</td>\n",
       "    </tr>\n",
       "  </tbody>\n",
       "</table>\n",
       "</div>"
      ],
      "text/plain": [
       "   CustomerKey  FirstName LastName         Full Name   BirthDate  \\\n",
       "0        11000        Jon     Yang           JonYang  1971-10-06   \n",
       "1        11001     Eugene    Huang       EugeneHuang  1976-05-10   \n",
       "2        11002      Ruben   Torres       RubenTorres  1971-02-09   \n",
       "3        11003    Christy      Zhu        ChristyZhu  1973-08-14   \n",
       "4        11004  Elizabeth  Johnson  ElizabethJohnson  1979-08-05   \n",
       "\n",
       "   AgeOfCustomer  Gender DateFirstPurchase Customer City  \n",
       "0             47    Male        2018-01-19   Rockhampton  \n",
       "1             42    Male        2018-01-15       Seaford  \n",
       "2             47    Male        2018-01-07        Hobart  \n",
       "3             44  Female        2017-12-29    North Ryde  \n",
       "4             39  Female        2018-01-23    Wollongong  "
      ]
     },
     "metadata": {},
     "output_type": "display_data"
    },
    {
     "name": "stdout",
     "output_type": "stream",
     "text": [
      "<class 'pandas.core.frame.DataFrame'>\n",
      "RangeIndex: 18484 entries, 0 to 18483\n",
      "Data columns (total 9 columns):\n",
      " #   Column             Non-Null Count  Dtype \n",
      "---  ------             --------------  ----- \n",
      " 0   CustomerKey        18484 non-null  int64 \n",
      " 1   FirstName          18484 non-null  object\n",
      " 2   LastName           18484 non-null  object\n",
      " 3   Full Name          18484 non-null  object\n",
      " 4   BirthDate          18484 non-null  object\n",
      " 5   AgeOfCustomer      18484 non-null  int64 \n",
      " 6   Gender             18484 non-null  object\n",
      " 7   DateFirstPurchase  18484 non-null  object\n",
      " 8   Customer City      18484 non-null  object\n",
      "dtypes: int64(2), object(7)\n",
      "memory usage: 1.3+ MB\n"
     ]
    },
    {
     "data": {
      "text/plain": [
       "None"
      ]
     },
     "metadata": {},
     "output_type": "display_data"
    }
   ],
   "source": [
    "df_check(customers)"
   ]
  },
  {
   "cell_type": "code",
   "execution_count": 5,
   "metadata": {},
   "outputs": [
    {
     "data": {
      "text/plain": [
       "Index([], dtype='object')"
      ]
     },
     "execution_count": 5,
     "metadata": {},
     "output_type": "execute_result"
    }
   ],
   "source": [
    "# Check dataset for empty values\n",
    "customers.columns[customers.isnull().any()]"
   ]
  },
  {
   "cell_type": "code",
   "execution_count": 6,
   "metadata": {},
   "outputs": [],
   "source": [
    "# Get rid of unnecessary columns\n",
    "\n",
    "# -- FirstName\n",
    "# -- LastName\n",
    "\n",
    "# Since we have created an age column in advance \n",
    "# column in SQL, let's remove the following columns:\n",
    "\n",
    "# -- BirthDate\n",
    "# -- DateFirstPurchase\n",
    "\n",
    "customers = customers.drop(['FirstName', 'LastName', 'BirthDate', 'DateFirstPurchase'], axis = 1)"
   ]
  },
  {
   "cell_type": "markdown",
   "metadata": {},
   "source": [
    "### Sales"
   ]
  },
  {
   "cell_type": "code",
   "execution_count": 7,
   "metadata": {},
   "outputs": [],
   "source": [
    "# Sales\n",
    "\n",
    "sales = pd.read_csv('DIM_OnlineSales.csv', sep = ';')"
   ]
  },
  {
   "cell_type": "code",
   "execution_count": 8,
   "metadata": {},
   "outputs": [
    {
     "data": {
      "text/html": [
       "<div>\n",
       "<style scoped>\n",
       "    .dataframe tbody tr th:only-of-type {\n",
       "        vertical-align: middle;\n",
       "    }\n",
       "\n",
       "    .dataframe tbody tr th {\n",
       "        vertical-align: top;\n",
       "    }\n",
       "\n",
       "    .dataframe thead th {\n",
       "        text-align: right;\n",
       "    }\n",
       "</style>\n",
       "<table border=\"1\" class=\"dataframe\">\n",
       "  <thead>\n",
       "    <tr style=\"text-align: right;\">\n",
       "      <th></th>\n",
       "      <th>ProductKey</th>\n",
       "      <th>OrderDateKey</th>\n",
       "      <th>DueDateKey</th>\n",
       "      <th>ShipDateKey</th>\n",
       "      <th>CustomerKey</th>\n",
       "      <th>SalesOrderNumber</th>\n",
       "      <th>SalesAmount</th>\n",
       "    </tr>\n",
       "  </thead>\n",
       "  <tbody>\n",
       "    <tr>\n",
       "      <th>0</th>\n",
       "      <td>381</td>\n",
       "      <td>20190101</td>\n",
       "      <td>20190113</td>\n",
       "      <td>20190108</td>\n",
       "      <td>16942</td>\n",
       "      <td>SO46700</td>\n",
       "      <td>1000,4375</td>\n",
       "    </tr>\n",
       "    <tr>\n",
       "      <th>1</th>\n",
       "      <td>375</td>\n",
       "      <td>20190101</td>\n",
       "      <td>20190113</td>\n",
       "      <td>20190108</td>\n",
       "      <td>15114</td>\n",
       "      <td>SO46701</td>\n",
       "      <td>2181,5625</td>\n",
       "    </tr>\n",
       "    <tr>\n",
       "      <th>2</th>\n",
       "      <td>369</td>\n",
       "      <td>20190101</td>\n",
       "      <td>20190113</td>\n",
       "      <td>20190108</td>\n",
       "      <td>15116</td>\n",
       "      <td>SO46702</td>\n",
       "      <td>2443,35</td>\n",
       "    </tr>\n",
       "    <tr>\n",
       "      <th>3</th>\n",
       "      <td>337</td>\n",
       "      <td>20190101</td>\n",
       "      <td>20190113</td>\n",
       "      <td>20190108</td>\n",
       "      <td>20576</td>\n",
       "      <td>SO46703</td>\n",
       "      <td>782,99</td>\n",
       "    </tr>\n",
       "    <tr>\n",
       "      <th>4</th>\n",
       "      <td>370</td>\n",
       "      <td>20190101</td>\n",
       "      <td>20190113</td>\n",
       "      <td>20190108</td>\n",
       "      <td>13059</td>\n",
       "      <td>SO46704</td>\n",
       "      <td>2443,35</td>\n",
       "    </tr>\n",
       "  </tbody>\n",
       "</table>\n",
       "</div>"
      ],
      "text/plain": [
       "   ProductKey  OrderDateKey  DueDateKey  ShipDateKey  CustomerKey  \\\n",
       "0         381      20190101    20190113     20190108        16942   \n",
       "1         375      20190101    20190113     20190108        15114   \n",
       "2         369      20190101    20190113     20190108        15116   \n",
       "3         337      20190101    20190113     20190108        20576   \n",
       "4         370      20190101    20190113     20190108        13059   \n",
       "\n",
       "  SalesOrderNumber SalesAmount  \n",
       "0          SO46700   1000,4375  \n",
       "1          SO46701   2181,5625  \n",
       "2          SO46702     2443,35  \n",
       "3          SO46703      782,99  \n",
       "4          SO46704     2443,35  "
      ]
     },
     "metadata": {},
     "output_type": "display_data"
    },
    {
     "name": "stdout",
     "output_type": "stream",
     "text": [
      "<class 'pandas.core.frame.DataFrame'>\n",
      "RangeIndex: 58168 entries, 0 to 58167\n",
      "Data columns (total 7 columns):\n",
      " #   Column            Non-Null Count  Dtype \n",
      "---  ------            --------------  ----- \n",
      " 0   ProductKey        58168 non-null  int64 \n",
      " 1   OrderDateKey      58168 non-null  int64 \n",
      " 2   DueDateKey        58168 non-null  int64 \n",
      " 3   ShipDateKey       58168 non-null  int64 \n",
      " 4   CustomerKey       58168 non-null  int64 \n",
      " 5   SalesOrderNumber  58168 non-null  object\n",
      " 6   SalesAmount       58168 non-null  object\n",
      "dtypes: int64(5), object(2)\n",
      "memory usage: 3.1+ MB\n"
     ]
    },
    {
     "data": {
      "text/plain": [
       "None"
      ]
     },
     "metadata": {},
     "output_type": "display_data"
    }
   ],
   "source": [
    "df_check(sales)"
   ]
  },
  {
   "cell_type": "code",
   "execution_count": 9,
   "metadata": {},
   "outputs": [
    {
     "data": {
      "text/plain": [
       "Index([], dtype='object')"
      ]
     },
     "execution_count": 9,
     "metadata": {},
     "output_type": "execute_result"
    }
   ],
   "source": [
    "# Check the dataset for empty values\n",
    "sales.columns[sales.isnull().any()]"
   ]
  },
  {
   "cell_type": "code",
   "execution_count": 10,
   "metadata": {},
   "outputs": [],
   "source": [
    "# Get rid of unnecessary columns:\n",
    "# -- OrderDateKey\n",
    "# -- DueDateKey\n",
    "# -- ShipDateKey\n",
    "# -- SalesOrderNumber\n",
    "\n",
    "sales = sales.drop(['OrderDateKey', 'DueDateKey', 'ShipDateKey', 'SalesOrderNumber'], axis = 1)"
   ]
  },
  {
   "cell_type": "code",
   "execution_count": 11,
   "metadata": {},
   "outputs": [],
   "source": [
    "# Let's convert the SalesAmount column to float\n",
    "# 1 method\n",
    "\n",
    "sales['SalesAmount'] = pd.to_numeric(sales['SalesAmount'].str.replace(\",\", \".\"))"
   ]
  },
  {
   "cell_type": "code",
   "execution_count": 12,
   "metadata": {},
   "outputs": [],
   "source": [
    "# Let's convert the SalesAmount column to float\n",
    "# Method 2\n",
    "\n",
    "# sales.SalesAmount = sales.SalesAmount.astype(str).apply(lambda x: float(str(x).replace(\",\", \".\"))) "
   ]
  },
  {
   "cell_type": "markdown",
   "metadata": {},
   "source": [
    "### Товары"
   ]
  },
  {
   "cell_type": "code",
   "execution_count": 13,
   "metadata": {},
   "outputs": [],
   "source": [
    "products = pd.read_csv('DIM_Product.csv', sep = ';')"
   ]
  },
  {
   "cell_type": "code",
   "execution_count": 14,
   "metadata": {},
   "outputs": [
    {
     "data": {
      "text/html": [
       "<div>\n",
       "<style scoped>\n",
       "    .dataframe tbody tr th:only-of-type {\n",
       "        vertical-align: middle;\n",
       "    }\n",
       "\n",
       "    .dataframe tbody tr th {\n",
       "        vertical-align: top;\n",
       "    }\n",
       "\n",
       "    .dataframe thead th {\n",
       "        text-align: right;\n",
       "    }\n",
       "</style>\n",
       "<table border=\"1\" class=\"dataframe\">\n",
       "  <thead>\n",
       "    <tr style=\"text-align: right;\">\n",
       "      <th></th>\n",
       "      <th>ProductKey</th>\n",
       "      <th>ProductItemCode</th>\n",
       "      <th>Product Name</th>\n",
       "      <th>Sub Category</th>\n",
       "      <th>Product Category</th>\n",
       "      <th>StandardCost</th>\n",
       "      <th>Product Color</th>\n",
       "      <th>Product Size</th>\n",
       "      <th>Product Line</th>\n",
       "      <th>Model Name</th>\n",
       "      <th>Product Description</th>\n",
       "      <th>Product Description DE</th>\n",
       "      <th>Product Status</th>\n",
       "    </tr>\n",
       "  </thead>\n",
       "  <tbody>\n",
       "    <tr>\n",
       "      <th>0</th>\n",
       "      <td>1</td>\n",
       "      <td>AR-5381</td>\n",
       "      <td>Adjustable Race</td>\n",
       "      <td>NaN</td>\n",
       "      <td>NaN</td>\n",
       "      <td>NaN</td>\n",
       "      <td>NaN</td>\n",
       "      <td>NaN</td>\n",
       "      <td>NaN</td>\n",
       "      <td>NaN</td>\n",
       "      <td>NaN</td>\n",
       "      <td>NaN</td>\n",
       "      <td>Current</td>\n",
       "    </tr>\n",
       "    <tr>\n",
       "      <th>1</th>\n",
       "      <td>2</td>\n",
       "      <td>BA-8327</td>\n",
       "      <td>Bearing Ball</td>\n",
       "      <td>NaN</td>\n",
       "      <td>NaN</td>\n",
       "      <td>NaN</td>\n",
       "      <td>NaN</td>\n",
       "      <td>NaN</td>\n",
       "      <td>NaN</td>\n",
       "      <td>NaN</td>\n",
       "      <td>NaN</td>\n",
       "      <td>NaN</td>\n",
       "      <td>Current</td>\n",
       "    </tr>\n",
       "    <tr>\n",
       "      <th>2</th>\n",
       "      <td>3</td>\n",
       "      <td>BE-2349</td>\n",
       "      <td>BB Ball Bearing</td>\n",
       "      <td>NaN</td>\n",
       "      <td>NaN</td>\n",
       "      <td>NaN</td>\n",
       "      <td>NaN</td>\n",
       "      <td>NaN</td>\n",
       "      <td>NaN</td>\n",
       "      <td>NaN</td>\n",
       "      <td>NaN</td>\n",
       "      <td>NaN</td>\n",
       "      <td>Current</td>\n",
       "    </tr>\n",
       "    <tr>\n",
       "      <th>3</th>\n",
       "      <td>4</td>\n",
       "      <td>BE-2908</td>\n",
       "      <td>Headset Ball Bearings</td>\n",
       "      <td>NaN</td>\n",
       "      <td>NaN</td>\n",
       "      <td>NaN</td>\n",
       "      <td>NaN</td>\n",
       "      <td>NaN</td>\n",
       "      <td>NaN</td>\n",
       "      <td>NaN</td>\n",
       "      <td>NaN</td>\n",
       "      <td>NaN</td>\n",
       "      <td>Current</td>\n",
       "    </tr>\n",
       "    <tr>\n",
       "      <th>4</th>\n",
       "      <td>5</td>\n",
       "      <td>BL-2036</td>\n",
       "      <td>Blade</td>\n",
       "      <td>NaN</td>\n",
       "      <td>NaN</td>\n",
       "      <td>NaN</td>\n",
       "      <td>NaN</td>\n",
       "      <td>NaN</td>\n",
       "      <td>NaN</td>\n",
       "      <td>NaN</td>\n",
       "      <td>NaN</td>\n",
       "      <td>NaN</td>\n",
       "      <td>Current</td>\n",
       "    </tr>\n",
       "  </tbody>\n",
       "</table>\n",
       "</div>"
      ],
      "text/plain": [
       "   ProductKey ProductItemCode           Product Name Sub Category  \\\n",
       "0           1         AR-5381        Adjustable Race          NaN   \n",
       "1           2         BA-8327           Bearing Ball          NaN   \n",
       "2           3         BE-2349        BB Ball Bearing          NaN   \n",
       "3           4         BE-2908  Headset Ball Bearings          NaN   \n",
       "4           5         BL-2036                  Blade          NaN   \n",
       "\n",
       "  Product Category StandardCost Product Color Product Size Product Line  \\\n",
       "0              NaN          NaN           NaN          NaN          NaN   \n",
       "1              NaN          NaN           NaN          NaN          NaN   \n",
       "2              NaN          NaN           NaN          NaN          NaN   \n",
       "3              NaN          NaN           NaN          NaN          NaN   \n",
       "4              NaN          NaN           NaN          NaN          NaN   \n",
       "\n",
       "  Model Name Product Description Product Description DE Product Status  \n",
       "0        NaN                 NaN                    NaN        Current  \n",
       "1        NaN                 NaN                    NaN        Current  \n",
       "2        NaN                 NaN                    NaN        Current  \n",
       "3        NaN                 NaN                    NaN        Current  \n",
       "4        NaN                 NaN                    NaN        Current  "
      ]
     },
     "metadata": {},
     "output_type": "display_data"
    },
    {
     "name": "stdout",
     "output_type": "stream",
     "text": [
      "<class 'pandas.core.frame.DataFrame'>\n",
      "RangeIndex: 606 entries, 0 to 605\n",
      "Data columns (total 13 columns):\n",
      " #   Column                  Non-Null Count  Dtype \n",
      "---  ------                  --------------  ----- \n",
      " 0   ProductKey              606 non-null    int64 \n",
      " 1   ProductItemCode         606 non-null    object\n",
      " 2   Product Name            606 non-null    object\n",
      " 3   Sub Category            397 non-null    object\n",
      " 4   Product Category        397 non-null    object\n",
      " 5   StandardCost            395 non-null    object\n",
      " 6   Product Color           352 non-null    object\n",
      " 7   Product Size            299 non-null    object\n",
      " 8   Product Line            380 non-null    object\n",
      " 9   Model Name              397 non-null    object\n",
      " 10  Product Description     396 non-null    object\n",
      " 11  Product Description DE  396 non-null    object\n",
      " 12  Product Status          606 non-null    object\n",
      "dtypes: int64(1), object(12)\n",
      "memory usage: 61.7+ KB\n"
     ]
    },
    {
     "data": {
      "text/plain": [
       "None"
      ]
     },
     "metadata": {},
     "output_type": "display_data"
    }
   ],
   "source": [
    "df_check(products)"
   ]
  },
  {
   "cell_type": "code",
   "execution_count": 15,
   "metadata": {},
   "outputs": [
    {
     "data": {
      "text/plain": [
       "Index(['Sub Category', 'Product Category', 'StandardCost', 'Product Color',\n",
       "       'Product Size', 'Product Line', 'Model Name', 'Product Description',\n",
       "       'Product Description DE'],\n",
       "      dtype='object')"
      ]
     },
     "execution_count": 15,
     "metadata": {},
     "output_type": "execute_result"
    }
   ],
   "source": [
    "# Check columns that have empty values\n",
    "\n",
    "products.columns[products.isnull().any()]"
   ]
  },
  {
   "cell_type": "code",
   "execution_count": 16,
   "metadata": {},
   "outputs": [
    {
     "name": "stdout",
     "output_type": "stream",
     "text": [
      "In the column Sub Category \u001b[4m34.49 percentages\u001b[0m of the information is not available.\n",
      "In the column Product Category \u001b[4m34.49 percentages\u001b[0m of the information is not available.\n",
      "In the column StandardCost \u001b[4m34.82 percentages\u001b[0m of the information is not available.\n",
      "In the column Product Color \u001b[4m41.91 percentages\u001b[0m of the information is not available.\n",
      "In the column Product Size \u001b[4m50.66 percentages\u001b[0m of the information is not available.\n",
      "In the column Product Line \u001b[4m37.29 percentages\u001b[0m of the information is not available.\n",
      "In the column Model Name \u001b[4m34.49 percentages\u001b[0m of the information is not available.\n",
      "In the column Product Description \u001b[4m34.65 percentages\u001b[0m of the information is not available.\n",
      "In the column Product Description DE \u001b[4m34.65 percentages\u001b[0m of the information is not available.\n"
     ]
    }
   ],
   "source": [
    "# Check the percentage of empty values\n",
    "\n",
    "procent_check('Sub Category', products)\n",
    "procent_check('Product Category', products)\n",
    "procent_check('StandardCost', products)\n",
    "procent_check('Product Color', products)\n",
    "procent_check('Product Size', products)\n",
    "procent_check('Product Line', products)\n",
    "procent_check('Model Name', products)\n",
    "procent_check('Product Description', products)\n",
    "procent_check('Product Description DE', products)"
   ]
  },
  {
   "cell_type": "code",
   "execution_count": 17,
   "metadata": {},
   "outputs": [],
   "source": [
    "# The StandardCost column stores data about the cost of the item\n",
    "# It is necessary to change the type of this data and find a solution to replace \n",
    "# empty values\n",
    "\n",
    "products[\"StandardCost\"] = pd.to_numeric(products[\"StandardCost\"].str.replace(',','.'))"
   ]
  },
  {
   "cell_type": "code",
   "execution_count": 18,
   "metadata": {},
   "outputs": [],
   "source": [
    "products[\"StandardCost\"].fillna(value = 0, inplace = True)"
   ]
  },
  {
   "cell_type": "code",
   "execution_count": 19,
   "metadata": {},
   "outputs": [],
   "source": [
    "# When we have changed the NaN value to 0,\n",
    "# we can test the hypothesis that there is an identical item in the list\n",
    "\n",
    "search_for_null = products.ProductItemCode[products[\"StandardCost\"] == 0]\n",
    "search_for_value = products.ProductItemCode[products[\"StandardCost\"] > 0]"
   ]
  },
  {
   "cell_type": "code",
   "execution_count": 20,
   "metadata": {},
   "outputs": [],
   "source": [
    "test_for_value = {}\n",
    "\n",
    "for item in search_for_null:\n",
    "    test_for_value[item] = 0\n",
    "\n",
    "for item in test_for_value:\n",
    "    for cell in search_for_value:\n",
    "        if cell == item:\n",
    "            test_for_value[item] +=1\n",
    "        else:\n",
    "            0"
   ]
  },
  {
   "cell_type": "code",
   "execution_count": 21,
   "metadata": {},
   "outputs": [
    {
     "data": {
      "text/plain": [
       "211"
      ]
     },
     "metadata": {},
     "output_type": "display_data"
    },
    {
     "data": {
      "text/plain": [
       "dict_items([('AR-5381', 0), ('BA-8327', 0), ('BE-2349', 0), ('BE-2908', 0), ('BL-2036', 0), ('CA-5965', 0), ('CA-6738', 0), ('CA-7457', 0), ('CB-2903', 0), ('CN-6137', 0), ('CR-7833', 0), ('CR-9981', 0), ('CS-2812', 0), ('DC-8732', 0), ('DC-9824', 0), ('DT-2377', 0), ('EC-M092', 0), ('EC-R098', 0), ('EC-T209', 0), ('FE-3760', 0), ('FH-2981', 0), ('FW-1000', 0), ('FW-1200', 0), ('FW-1400', 0), ('FW-3400', 0), ('FW-3800', 0), ('FW-5160', 0), ('FW-5800', 0), ('FW-7160', 0), ('FW-9160', 0), ('FC-3654', 0), ('FC-3982', 0), ('FL-2301', 0), ('GP-0982', 0), ('GT-0820', 0), ('GT-1209', 0), ('GT-2908', 0), ('HJ-1213', 0), ('HJ-1220', 0), ('HJ-1420', 0), ('HJ-1428', 0), ('HJ-3410', 0), ('HJ-3416', 0), ('HJ-3816', 0), ('HJ-3824', 0), ('HJ-5161', 0), ('HJ-5162', 0), ('HJ-5811', 0), ('HJ-5818', 0), ('HJ-7161', 0), ('HJ-7162', 0), ('HJ-9080', 0), ('HJ-9161', 0), ('HN-1024', 0), ('HN-1032', 0), ('HN-1213', 0), ('HN-1220', 0), ('HN-1224', 0), ('HN-1420', 0), ('HN-1428', 0), ('HN-3410', 0), ('HN-3416', 0), ('HN-3816', 0), ('HN-3824', 0), ('HN-4402', 0), ('HN-5161', 0), ('HN-5162', 0), ('HN-5400', 0), ('HN-5811', 0), ('HN-5818', 0), ('HN-6320', 0), ('HN-7161', 0), ('HN-7162', 0), ('HN-8320', 0), ('HN-9161', 0), ('HN-9168', 0), ('HT-2981', 0), ('HT-8019', 0), ('HU-6280', 0), ('HU-8998', 0), ('KW-4091', 0), ('LE-1000', 0), ('LE-1200', 0), ('LE-1201', 0), ('LE-1400', 0), ('LE-3800', 0), ('LE-5160', 0), ('LE-6000', 0), ('LE-7160', 0), ('LE-8000', 0), ('LI-1000', 0), ('LI-1200', 0), ('LI-1201', 0), ('LI-1400', 0), ('LI-3800', 0), ('LI-5160', 0), ('LI-5800', 0), ('LI-6000', 0), ('LI-7160', 0), ('LI-8000', 0), ('LJ-1213', 0), ('LJ-1220', 0), ('LJ-1420', 0), ('LJ-1428', 0), ('LJ-3410', 0), ('LJ-3416', 0), ('LJ-3816', 0), ('LJ-3824', 0), ('LJ-5161', 0), ('LJ-5162', 0), ('LJ-5811', 0), ('LJ-5818', 0), ('LJ-7161', 0), ('LJ-7162', 0), ('LJ-9080', 0), ('LJ-9161', 0), ('LN-1024', 0), ('LN-1032', 0), ('LN-1213', 0), ('LN-1220', 0), ('LN-1224', 0), ('LN-1420', 0), ('LN-1428', 0), ('LN-3410', 0), ('LN-3416', 0), ('LN-3816', 0), ('LN-3824', 0), ('LN-4400', 0), ('LN-5161', 0), ('LN-5162', 0), ('LN-5400', 0), ('LN-5811', 0), ('LN-5818', 0), ('LN-6320', 0), ('LN-7161', 0), ('LN-7162', 0), ('LN-8320', 0), ('LN-9080', 0), ('LN-9161', 0), ('LR-2398', 0), ('LR-8520', 0), ('LW-1000', 0), ('LW-1200', 0), ('LW-1201', 0), ('LW-1400', 0), ('LW-3400', 0), ('LW-3800', 0), ('LW-4000', 0), ('LW-5160', 0), ('LW-5800', 0), ('LW-6000', 0), ('LW-7160', 0), ('LW-8000', 0), ('LW-9160', 0), ('MA-7075', 0), ('MB-2024', 0), ('MB-6061', 0), ('MP-2066', 0), ('MP-2503', 0), ('MP-4960', 0), ('MS-0253', 0), ('MS-1256', 0), ('MS-1981', 0), ('MS-2259', 0), ('MS-2341', 0), ('MS-2348', 0), ('MS-6061', 0), ('MT-1000', 0), ('NI-4127', 0), ('NI-9522', 0), ('PA-187B', 0), ('PA-361R', 0), ('PA-529S', 0), ('PA-632U', 0), ('PA-823Y', 0), ('PB-6109', 0), ('RA-2345', 0), ('RA-7490', 0), ('RF-9198', 0), ('RM-M464', 0), ('RM-M692', 0), ('RM-M823', 0), ('RM-R436', 0), ('RM-R600', 0), ('RM-R800', 0), ('RM-T801', 0), ('SA-M198', 0), ('SA-M237', 0), ('SA-M687', 0), ('SA-R127', 0), ('SA-R430', 0), ('SA-R522', 0), ('SA-T467', 0), ('SA-T612', 0), ('SA-T872', 0), ('SD-2342', 0), ('SD-9872', 0), ('SH-4562', 0), ('SH-9312', 0), ('SK-9283', 0), ('SL-0931', 0), ('SM-9087', 0), ('SP-2981', 0), ('SR-2098', 0), ('SS-2985', 0), ('ST-9828', 0), ('TO-2301', 0), ('TP-0923', 0), ('RC-0291', 0), ('FR-R92B-58', 0), ('FR-R92R-58', 0)])"
      ]
     },
     "execution_count": 21,
     "metadata": {},
     "output_type": "execute_result"
    }
   ],
   "source": [
    "# Make sure the item was unique and does not occur more than once in the dataset\n",
    "display(sum(map((0).__eq__, test_for_value.values())))\n",
    "test_for_value.items()"
   ]
  },
  {
   "cell_type": "code",
   "execution_count": 22,
   "metadata": {},
   "outputs": [
    {
     "data": {
      "text/plain": [
       "StandardCost  ProductItemCode\n",
       "True          AR-5381            1\n",
       "              BA-8327            1\n",
       "              BE-2349            1\n",
       "              BE-2908            1\n",
       "              BL-2036            1\n",
       "                                ..\n",
       "              SR-2098            1\n",
       "              SS-2985            1\n",
       "              ST-9828            1\n",
       "              TO-2301            1\n",
       "              TP-0923            1\n",
       "Name: ProductItemCode, Length: 211, dtype: int64"
      ]
     },
     "execution_count": 22,
     "metadata": {},
     "output_type": "execute_result"
    }
   ],
   "source": [
    "# The second way to make sure:\n",
    "\n",
    "search_for_null_new = products[products[\"StandardCost\"] == 0]\n",
    "search_for_null_new.groupby(products[\"StandardCost\"] == 0, sort = True)['ProductItemCode'].value_counts()"
   ]
  },
  {
   "cell_type": "code",
   "execution_count": 23,
   "metadata": {},
   "outputs": [],
   "source": [
    "# Make sure the product name is unique\n",
    "\n",
    "search_for_name = products['Product Name'][products[\"StandardCost\"] == 0]\n",
    "\n",
    "col = {}\n",
    "\n",
    "for item in search_for_name:\n",
    "    col[item] = 0\n",
    "\n",
    "for item in col:\n",
    "    for cell in search_for_name:\n",
    "        if cell == item:\n",
    "            col[item] +=1\n",
    "        else:\n",
    "            0"
   ]
  },
  {
   "cell_type": "code",
   "execution_count": 24,
   "metadata": {},
   "outputs": [
    {
     "data": {
      "text/plain": [
       "211"
      ]
     },
     "metadata": {},
     "output_type": "display_data"
    },
    {
     "data": {
      "text/plain": [
       "211"
      ]
     },
     "execution_count": 24,
     "metadata": {},
     "output_type": "execute_result"
    }
   ],
   "source": [
    "display(sum(map((1).__eq__, col.values())))\n",
    "len(col)"
   ]
  },
  {
   "cell_type": "code",
   "execution_count": 25,
   "metadata": {},
   "outputs": [],
   "source": [
    "# Because the data could not be recovered \n",
    "# due to a lack of additional information,\n",
    "# we get rid of the unnecessary data,\n",
    "# But first we get rid of the columns we don't need\n",
    "\n",
    "# Get rid of the columns we don't need:\n",
    "# -- ProductItemCode\n",
    "# -- Product Color\n",
    "# -- Product Size\n",
    "# -- Product Line\n",
    "# -- Model Name\n",
    "# -- Product Status\n",
    "\n",
    "products = products.drop(['ProductItemCode','Product Color','Product Size'\n",
    "                         ,'Product Line','Model Name','Product Status'], axis = 1)"
   ]
  },
  {
   "cell_type": "code",
   "execution_count": 26,
   "metadata": {},
   "outputs": [
    {
     "data": {
      "text/plain": [
       "Index(['ProductKey', 'Product Name', 'Sub Category', 'Product Category',\n",
       "       'StandardCost', 'Product Description', 'Product Description DE'],\n",
       "      dtype='object')"
      ]
     },
     "execution_count": 26,
     "metadata": {},
     "output_type": "execute_result"
    }
   ],
   "source": [
    "products.columns"
   ]
  },
  {
   "cell_type": "code",
   "execution_count": 27,
   "metadata": {},
   "outputs": [],
   "source": [
    "products = products.dropna(axis=0)"
   ]
  },
  {
   "cell_type": "code",
   "execution_count": 28,
   "metadata": {},
   "outputs": [
    {
     "data": {
      "text/html": [
       "<div>\n",
       "<style scoped>\n",
       "    .dataframe tbody tr th:only-of-type {\n",
       "        vertical-align: middle;\n",
       "    }\n",
       "\n",
       "    .dataframe tbody tr th {\n",
       "        vertical-align: top;\n",
       "    }\n",
       "\n",
       "    .dataframe thead th {\n",
       "        text-align: right;\n",
       "    }\n",
       "</style>\n",
       "<table border=\"1\" class=\"dataframe\">\n",
       "  <thead>\n",
       "    <tr style=\"text-align: right;\">\n",
       "      <th></th>\n",
       "      <th>ProductKey</th>\n",
       "      <th>Product Name</th>\n",
       "      <th>Sub Category</th>\n",
       "      <th>Product Category</th>\n",
       "      <th>StandardCost</th>\n",
       "      <th>Product Description</th>\n",
       "      <th>Product Description DE</th>\n",
       "    </tr>\n",
       "  </thead>\n",
       "  <tbody>\n",
       "    <tr>\n",
       "      <th>209</th>\n",
       "      <td>210</td>\n",
       "      <td>HL Road Frame - Black, 58</td>\n",
       "      <td>Road Frames</td>\n",
       "      <td>Components</td>\n",
       "      <td>0.0000</td>\n",
       "      <td>Our lightest and best quality aluminum frame m...</td>\n",
       "      <td>Unser leichtester und hochwertigster Aluminium...</td>\n",
       "    </tr>\n",
       "    <tr>\n",
       "      <th>210</th>\n",
       "      <td>211</td>\n",
       "      <td>HL Road Frame - Red, 58</td>\n",
       "      <td>Road Frames</td>\n",
       "      <td>Components</td>\n",
       "      <td>0.0000</td>\n",
       "      <td>Our lightest and best quality aluminum frame m...</td>\n",
       "      <td>Unser leichtester und hochwertigster Aluminium...</td>\n",
       "    </tr>\n",
       "    <tr>\n",
       "      <th>211</th>\n",
       "      <td>212</td>\n",
       "      <td>Sport-100 Helmet, Red</td>\n",
       "      <td>Helmets</td>\n",
       "      <td>Accessories</td>\n",
       "      <td>12.0278</td>\n",
       "      <td>Universal fit, well-vented, lightweight , snap...</td>\n",
       "      <td>\"Einheitsgröße, atmungsaktiv, leicht, aufsetzb...</td>\n",
       "    </tr>\n",
       "    <tr>\n",
       "      <th>212</th>\n",
       "      <td>213</td>\n",
       "      <td>Sport-100 Helmet, Red</td>\n",
       "      <td>Helmets</td>\n",
       "      <td>Accessories</td>\n",
       "      <td>13.8782</td>\n",
       "      <td>Universal fit, well-vented, lightweight , snap...</td>\n",
       "      <td>\"Einheitsgröße, atmungsaktiv, leicht, aufsetzb...</td>\n",
       "    </tr>\n",
       "    <tr>\n",
       "      <th>213</th>\n",
       "      <td>214</td>\n",
       "      <td>Sport-100 Helmet, Red</td>\n",
       "      <td>Helmets</td>\n",
       "      <td>Accessories</td>\n",
       "      <td>13.0863</td>\n",
       "      <td>Universal fit, well-vented, lightweight , snap...</td>\n",
       "      <td>\"Einheitsgröße, atmungsaktiv, leicht, aufsetzb...</td>\n",
       "    </tr>\n",
       "  </tbody>\n",
       "</table>\n",
       "</div>"
      ],
      "text/plain": [
       "     ProductKey               Product Name Sub Category Product Category  \\\n",
       "209         210  HL Road Frame - Black, 58  Road Frames       Components   \n",
       "210         211    HL Road Frame - Red, 58  Road Frames       Components   \n",
       "211         212      Sport-100 Helmet, Red      Helmets      Accessories   \n",
       "212         213      Sport-100 Helmet, Red      Helmets      Accessories   \n",
       "213         214      Sport-100 Helmet, Red      Helmets      Accessories   \n",
       "\n",
       "     StandardCost                                Product Description  \\\n",
       "209        0.0000  Our lightest and best quality aluminum frame m...   \n",
       "210        0.0000  Our lightest and best quality aluminum frame m...   \n",
       "211       12.0278  Universal fit, well-vented, lightweight , snap...   \n",
       "212       13.8782  Universal fit, well-vented, lightweight , snap...   \n",
       "213       13.0863  Universal fit, well-vented, lightweight , snap...   \n",
       "\n",
       "                                Product Description DE  \n",
       "209  Unser leichtester und hochwertigster Aluminium...  \n",
       "210  Unser leichtester und hochwertigster Aluminium...  \n",
       "211  \"Einheitsgröße, atmungsaktiv, leicht, aufsetzb...  \n",
       "212  \"Einheitsgröße, atmungsaktiv, leicht, aufsetzb...  \n",
       "213  \"Einheitsgröße, atmungsaktiv, leicht, aufsetzb...  "
      ]
     },
     "metadata": {},
     "output_type": "display_data"
    },
    {
     "name": "stdout",
     "output_type": "stream",
     "text": [
      "<class 'pandas.core.frame.DataFrame'>\n",
      "Int64Index: 396 entries, 209 to 605\n",
      "Data columns (total 7 columns):\n",
      " #   Column                  Non-Null Count  Dtype  \n",
      "---  ------                  --------------  -----  \n",
      " 0   ProductKey              396 non-null    int64  \n",
      " 1   Product Name            396 non-null    object \n",
      " 2   Sub Category            396 non-null    object \n",
      " 3   Product Category        396 non-null    object \n",
      " 4   StandardCost            396 non-null    float64\n",
      " 5   Product Description     396 non-null    object \n",
      " 6   Product Description DE  396 non-null    object \n",
      "dtypes: float64(1), int64(1), object(5)\n",
      "memory usage: 24.8+ KB\n"
     ]
    },
    {
     "data": {
      "text/plain": [
       "None"
      ]
     },
     "metadata": {},
     "output_type": "display_data"
    }
   ],
   "source": [
    "df_check(products)"
   ]
  },
  {
   "cell_type": "code",
   "execution_count": 29,
   "metadata": {},
   "outputs": [
    {
     "name": "stdout",
     "output_type": "stream",
     "text": [
      "2\n"
     ]
    }
   ],
   "source": [
    "# Check for null values\n",
    "\n",
    "count = 0\n",
    "\n",
    "for item in products.StandardCost:\n",
    "    if item == 0:\n",
    "        count += 1\n",
    "        \n",
    "print(count)"
   ]
  },
  {
   "cell_type": "code",
   "execution_count": 30,
   "metadata": {},
   "outputs": [
    {
     "data": {
      "text/plain": [
       "409.164677"
      ]
     },
     "execution_count": 30,
     "metadata": {},
     "output_type": "execute_result"
    }
   ],
   "source": [
    "# By getting rid of the rows with null values we get\n",
    "# two rows that do not have a value in the StandardCost column\n",
    "# Through a similar category and subcategories we find the average value and add it\n",
    "\n",
    "mean_components = round(float(products.groupby((products['Sub Category'] == 'Road Frames') \n",
    "                 & (products['Product Category'] == 'Components')\n",
    "                )['StandardCost'].mean().drop(False)), 6)\n",
    "mean_components"
   ]
  },
  {
   "cell_type": "code",
   "execution_count": 31,
   "metadata": {},
   "outputs": [],
   "source": [
    "products.StandardCost = products.StandardCost.apply(lambda x: mean_components if x == 0 else x)"
   ]
  },
  {
   "cell_type": "code",
   "execution_count": 32,
   "metadata": {},
   "outputs": [
    {
     "data": {
      "text/plain": [
       "Index([], dtype='object')"
      ]
     },
     "execution_count": 32,
     "metadata": {},
     "output_type": "execute_result"
    }
   ],
   "source": [
    "products.columns[products.isnull().any()]"
   ]
  },
  {
   "cell_type": "markdown",
   "metadata": {},
   "source": [
    "## Putting together a single dataset"
   ]
  },
  {
   "cell_type": "code",
   "execution_count": 33,
   "metadata": {},
   "outputs": [],
   "source": [
    "data = pd.merge(customers, sales, on = ['CustomerKey'])"
   ]
  },
  {
   "cell_type": "code",
   "execution_count": 34,
   "metadata": {},
   "outputs": [],
   "source": [
    "df = pd.merge(data, products, on = ['ProductKey'])"
   ]
  },
  {
   "cell_type": "code",
   "execution_count": 35,
   "metadata": {},
   "outputs": [
    {
     "data": {
      "text/html": [
       "<div>\n",
       "<style scoped>\n",
       "    .dataframe tbody tr th:only-of-type {\n",
       "        vertical-align: middle;\n",
       "    }\n",
       "\n",
       "    .dataframe tbody tr th {\n",
       "        vertical-align: top;\n",
       "    }\n",
       "\n",
       "    .dataframe thead th {\n",
       "        text-align: right;\n",
       "    }\n",
       "</style>\n",
       "<table border=\"1\" class=\"dataframe\">\n",
       "  <thead>\n",
       "    <tr style=\"text-align: right;\">\n",
       "      <th></th>\n",
       "      <th>CustomerKey</th>\n",
       "      <th>Full Name</th>\n",
       "      <th>AgeOfCustomer</th>\n",
       "      <th>Gender</th>\n",
       "      <th>Customer City</th>\n",
       "      <th>ProductKey</th>\n",
       "      <th>SalesAmount</th>\n",
       "      <th>Product Name</th>\n",
       "      <th>Sub Category</th>\n",
       "      <th>Product Category</th>\n",
       "      <th>StandardCost</th>\n",
       "      <th>Product Description</th>\n",
       "      <th>Product Description DE</th>\n",
       "    </tr>\n",
       "  </thead>\n",
       "  <tbody>\n",
       "    <tr>\n",
       "      <th>0</th>\n",
       "      <td>11000</td>\n",
       "      <td>JonYang</td>\n",
       "      <td>47</td>\n",
       "      <td>Male</td>\n",
       "      <td>Rockhampton</td>\n",
       "      <td>353</td>\n",
       "      <td>2319.99</td>\n",
       "      <td>Mountain-200 Silver, 38</td>\n",
       "      <td>Mountain Bikes</td>\n",
       "      <td>Bikes</td>\n",
       "      <td>1265.6195</td>\n",
       "      <td>Serious back-country riding. Perfect for all l...</td>\n",
       "      <td>Mountainbike für Profis. Perfekt für alle Schw...</td>\n",
       "    </tr>\n",
       "    <tr>\n",
       "      <th>1</th>\n",
       "      <td>11001</td>\n",
       "      <td>EugeneHuang</td>\n",
       "      <td>42</td>\n",
       "      <td>Male</td>\n",
       "      <td>Seaford</td>\n",
       "      <td>353</td>\n",
       "      <td>2319.99</td>\n",
       "      <td>Mountain-200 Silver, 38</td>\n",
       "      <td>Mountain Bikes</td>\n",
       "      <td>Bikes</td>\n",
       "      <td>1265.6195</td>\n",
       "      <td>Serious back-country riding. Perfect for all l...</td>\n",
       "      <td>Mountainbike für Profis. Perfekt für alle Schw...</td>\n",
       "    </tr>\n",
       "    <tr>\n",
       "      <th>2</th>\n",
       "      <td>11015</td>\n",
       "      <td>ChloeYoung</td>\n",
       "      <td>36</td>\n",
       "      <td>Female</td>\n",
       "      <td>Burbank</td>\n",
       "      <td>353</td>\n",
       "      <td>2319.99</td>\n",
       "      <td>Mountain-200 Silver, 38</td>\n",
       "      <td>Mountain Bikes</td>\n",
       "      <td>Bikes</td>\n",
       "      <td>1265.6195</td>\n",
       "      <td>Serious back-country riding. Perfect for all l...</td>\n",
       "      <td>Mountainbike für Profis. Perfekt für alle Schw...</td>\n",
       "    </tr>\n",
       "    <tr>\n",
       "      <th>3</th>\n",
       "      <td>11018</td>\n",
       "      <td>ClarenceRai</td>\n",
       "      <td>63</td>\n",
       "      <td>Male</td>\n",
       "      <td>Bendigo</td>\n",
       "      <td>353</td>\n",
       "      <td>2319.99</td>\n",
       "      <td>Mountain-200 Silver, 38</td>\n",
       "      <td>Mountain Bikes</td>\n",
       "      <td>Bikes</td>\n",
       "      <td>1265.6195</td>\n",
       "      <td>Serious back-country riding. Perfect for all l...</td>\n",
       "      <td>Mountainbike für Profis. Perfekt für alle Schw...</td>\n",
       "    </tr>\n",
       "    <tr>\n",
       "      <th>4</th>\n",
       "      <td>11022</td>\n",
       "      <td>EthanZhang</td>\n",
       "      <td>36</td>\n",
       "      <td>Male</td>\n",
       "      <td>Bellingham</td>\n",
       "      <td>353</td>\n",
       "      <td>2319.99</td>\n",
       "      <td>Mountain-200 Silver, 38</td>\n",
       "      <td>Mountain Bikes</td>\n",
       "      <td>Bikes</td>\n",
       "      <td>1265.6195</td>\n",
       "      <td>Serious back-country riding. Perfect for all l...</td>\n",
       "      <td>Mountainbike für Profis. Perfekt für alle Schw...</td>\n",
       "    </tr>\n",
       "  </tbody>\n",
       "</table>\n",
       "</div>"
      ],
      "text/plain": [
       "   CustomerKey    Full Name  AgeOfCustomer  Gender Customer City  ProductKey  \\\n",
       "0        11000      JonYang             47    Male   Rockhampton         353   \n",
       "1        11001  EugeneHuang             42    Male       Seaford         353   \n",
       "2        11015   ChloeYoung             36  Female       Burbank         353   \n",
       "3        11018  ClarenceRai             63    Male       Bendigo         353   \n",
       "4        11022   EthanZhang             36    Male    Bellingham         353   \n",
       "\n",
       "   SalesAmount             Product Name    Sub Category Product Category  \\\n",
       "0      2319.99  Mountain-200 Silver, 38  Mountain Bikes            Bikes   \n",
       "1      2319.99  Mountain-200 Silver, 38  Mountain Bikes            Bikes   \n",
       "2      2319.99  Mountain-200 Silver, 38  Mountain Bikes            Bikes   \n",
       "3      2319.99  Mountain-200 Silver, 38  Mountain Bikes            Bikes   \n",
       "4      2319.99  Mountain-200 Silver, 38  Mountain Bikes            Bikes   \n",
       "\n",
       "   StandardCost                                Product Description  \\\n",
       "0     1265.6195  Serious back-country riding. Perfect for all l...   \n",
       "1     1265.6195  Serious back-country riding. Perfect for all l...   \n",
       "2     1265.6195  Serious back-country riding. Perfect for all l...   \n",
       "3     1265.6195  Serious back-country riding. Perfect for all l...   \n",
       "4     1265.6195  Serious back-country riding. Perfect for all l...   \n",
       "\n",
       "                              Product Description DE  \n",
       "0  Mountainbike für Profis. Perfekt für alle Schw...  \n",
       "1  Mountainbike für Profis. Perfekt für alle Schw...  \n",
       "2  Mountainbike für Profis. Perfekt für alle Schw...  \n",
       "3  Mountainbike für Profis. Perfekt für alle Schw...  \n",
       "4  Mountainbike für Profis. Perfekt für alle Schw...  "
      ]
     },
     "metadata": {},
     "output_type": "display_data"
    },
    {
     "name": "stdout",
     "output_type": "stream",
     "text": [
      "<class 'pandas.core.frame.DataFrame'>\n",
      "Int64Index: 58168 entries, 0 to 58167\n",
      "Data columns (total 13 columns):\n",
      " #   Column                  Non-Null Count  Dtype  \n",
      "---  ------                  --------------  -----  \n",
      " 0   CustomerKey             58168 non-null  int64  \n",
      " 1   Full Name               58168 non-null  object \n",
      " 2   AgeOfCustomer           58168 non-null  int64  \n",
      " 3   Gender                  58168 non-null  object \n",
      " 4   Customer City           58168 non-null  object \n",
      " 5   ProductKey              58168 non-null  int64  \n",
      " 6   SalesAmount             58168 non-null  float64\n",
      " 7   Product Name            58168 non-null  object \n",
      " 8   Sub Category            58168 non-null  object \n",
      " 9   Product Category        58168 non-null  object \n",
      " 10  StandardCost            58168 non-null  float64\n",
      " 11  Product Description     58168 non-null  object \n",
      " 12  Product Description DE  58168 non-null  object \n",
      "dtypes: float64(2), int64(3), object(8)\n",
      "memory usage: 6.2+ MB\n"
     ]
    },
    {
     "data": {
      "text/plain": [
       "None"
      ]
     },
     "metadata": {},
     "output_type": "display_data"
    }
   ],
   "source": [
    "df_check(df)"
   ]
  },
  {
   "cell_type": "markdown",
   "metadata": {},
   "source": [
    "# Preprocessing"
   ]
  },
  {
   "cell_type": "code",
   "execution_count": 36,
   "metadata": {},
   "outputs": [],
   "source": [
    "# For easy viewing we remove \n",
    "# cell view restrictions\n",
    "pd.set_option('display.max_colwidth', None)"
   ]
  },
  {
   "cell_type": "code",
   "execution_count": 37,
   "metadata": {},
   "outputs": [],
   "source": [
    "# Rename the column indexes\n",
    "df.columns = ['customer_key','full_name','customer_age',\n",
    "              'gender','customer_city','product_key',\n",
    "              'sales_amount','product_name','sub_category',\n",
    "              'product_category','standard_cost','product_description',\n",
    "              'product_description_de']"
   ]
  },
  {
   "cell_type": "markdown",
   "metadata": {},
   "source": [
    "# Processing"
   ]
  },
  {
   "cell_type": "markdown",
   "metadata": {},
   "source": [
    "### customer_age"
   ]
  },
  {
   "cell_type": "code",
   "execution_count": 38,
   "metadata": {},
   "outputs": [
    {
     "data": {
      "text/html": [
       "<div>\n",
       "<style scoped>\n",
       "    .dataframe tbody tr th:only-of-type {\n",
       "        vertical-align: middle;\n",
       "    }\n",
       "\n",
       "    .dataframe tbody tr th {\n",
       "        vertical-align: top;\n",
       "    }\n",
       "\n",
       "    .dataframe thead th {\n",
       "        text-align: right;\n",
       "    }\n",
       "</style>\n",
       "<table border=\"1\" class=\"dataframe\">\n",
       "  <thead>\n",
       "    <tr style=\"text-align: right;\">\n",
       "      <th></th>\n",
       "      <th>customer_age</th>\n",
       "    </tr>\n",
       "  </thead>\n",
       "  <tbody>\n",
       "    <tr>\n",
       "      <th>45</th>\n",
       "      <td>2248</td>\n",
       "    </tr>\n",
       "    <tr>\n",
       "      <th>44</th>\n",
       "      <td>2233</td>\n",
       "    </tr>\n",
       "    <tr>\n",
       "      <th>39</th>\n",
       "      <td>2207</td>\n",
       "    </tr>\n",
       "    <tr>\n",
       "      <th>41</th>\n",
       "      <td>2149</td>\n",
       "    </tr>\n",
       "    <tr>\n",
       "      <th>40</th>\n",
       "      <td>2110</td>\n",
       "    </tr>\n",
       "    <tr>\n",
       "      <th>...</th>\n",
       "      <td>...</td>\n",
       "    </tr>\n",
       "    <tr>\n",
       "      <th>93</th>\n",
       "      <td>6</td>\n",
       "    </tr>\n",
       "    <tr>\n",
       "      <th>91</th>\n",
       "      <td>5</td>\n",
       "    </tr>\n",
       "    <tr>\n",
       "      <th>95</th>\n",
       "      <td>5</td>\n",
       "    </tr>\n",
       "    <tr>\n",
       "      <th>104</th>\n",
       "      <td>3</td>\n",
       "    </tr>\n",
       "    <tr>\n",
       "      <th>100</th>\n",
       "      <td>2</td>\n",
       "    </tr>\n",
       "  </tbody>\n",
       "</table>\n",
       "<p>72 rows × 1 columns</p>\n",
       "</div>"
      ],
      "text/plain": [
       "     customer_age\n",
       "45           2248\n",
       "44           2233\n",
       "39           2207\n",
       "41           2149\n",
       "40           2110\n",
       "..            ...\n",
       "93              6\n",
       "91              5\n",
       "95              5\n",
       "104             3\n",
       "100             2\n",
       "\n",
       "[72 rows x 1 columns]"
      ]
     },
     "metadata": {},
     "output_type": "display_data"
    },
    {
     "name": "stdout",
     "output_type": "stream",
     "text": [
      "[ 47  42  36  63  67  66  65  37  61  60  59  55  43  46  48  39  41  50\n",
      "  54  56  81  75  52  51  57  62  69  38  40  58  49  35  32  44  45  53\n",
      "  34  72  64  71  70  68  80  77  73  33  79  74  83  76  82  84  92  78\n",
      "  85  91 103  96  93  87  89 102  86  88  90 104  94 101  95  98  97 100]\n"
     ]
    }
   ],
   "source": [
    "# Let's check the age of the clients, so we will know the age of the target audience\n",
    "# Let's additionally build a histogram, for clarity\n",
    "\n",
    "object_check(df.customer_age)"
   ]
  },
  {
   "cell_type": "code",
   "execution_count": 39,
   "metadata": {},
   "outputs": [
    {
     "name": "stdout",
     "output_type": "stream",
     "text": [
      "There are 8 clients over 100 years old. Which is 0.04 % of the number of clients.\n",
      "There are 221 clients from 80 to 100 years old. Which is 1.22 % of the number of clients.\n",
      "There are 3892 clients from 60 to 80 years old. Which is 21.45 % of the number of clients.\n",
      "There are 4496 clients from 50 to 60 years old. Which is 24.78 % of the number of clients.\n",
      "There are 6279 clients from 40 to 50 years old. Which is 34.61 % of the number of clients.\n",
      "There are 3245 clients from 30 to 40 years old. Which is 17.89 % of the number of clients.\n",
      "There are 0 clients between 20 and 30 years old. Which is 0.0 % of the number of clients.\n"
     ]
    },
    {
     "data": {
      "text/plain": [
       "array([[<AxesSubplot:title={'center':'customer_age'}>]], dtype=object)"
      ]
     },
     "execution_count": 39,
     "metadata": {},
     "output_type": "execute_result"
    },
    {
     "data": {
      "image/png": "[encoded data removed]",
      "text/plain": [
       "<Figure size 432x288 with 1 Axes>"
      ]
     },
     "metadata": {
      "needs_background": "light"
     },
     "output_type": "display_data"
    }
   ],
   "source": [
    "customer_age = df.groupby('full_name')[['customer_age']].max().sort_values('customer_age', ascending=False)\n",
    "print(\"There are\",len(customer_age[(customer_age.customer_age > 100)]),\"clients over 100 years old. Which is\",\n",
    "     round((len(customer_age[(customer_age.customer_age > 100)]) * 100) / len(customer_age), 2), \"% of the number of clients.\")\n",
    "\n",
    "print(\"There are\",len(customer_age[(customer_age.customer_age <= 100) &(customer_age.customer_age >= 80)] ),\"clients from 80 to 100 years old. Which is\",\n",
    "     round((len(customer_age[(customer_age.customer_age <= 100) &(customer_age.customer_age >= 80)] )* 100) / len(customer_age), 2), \"% of the number of clients.\")\n",
    "\n",
    "print(\"There are\",len(customer_age[(customer_age.customer_age >= 60) &(customer_age.customer_age <= 79)] ),\"clients from 60 to 80 years old. Which is\",\n",
    "     round((len(customer_age[(customer_age.customer_age >= 60) &(customer_age.customer_age <= 79)] ) * 100) / len(customer_age), 2), \"% of the number of clients.\")\n",
    "\n",
    "print(\"There are\",len(customer_age[(customer_age.customer_age >= 50) &(customer_age.customer_age <= 59)] ),\"clients from 50 to 60 years old. Which is\",\n",
    "     round((len(customer_age[(customer_age.customer_age >= 50) &(customer_age.customer_age <= 59)] ) * 100) / len(customer_age), 2), \"% of the number of clients.\")\n",
    "\n",
    "print(\"There are\",len(customer_age[(customer_age.customer_age >= 40) &(customer_age.customer_age <= 49)] ),\"clients from 40 to 50 years old. Which is\",\n",
    "     round((len(customer_age[(customer_age.customer_age >= 40) &(customer_age.customer_age <= 49)] ) * 100) / len(customer_age), 2), \"% of the number of clients.\")\n",
    "\n",
    "print(\"There are\",len(customer_age[(customer_age.customer_age >= 30) &(customer_age.customer_age <= 39)] ),\"clients from 30 to 40 years old. Which is\",\n",
    "     round((len(customer_age[(customer_age.customer_age >= 30) &(customer_age.customer_age <= 39)] ) * 100) / len(customer_age), 2), \"% of the number of clients.\")\n",
    "\n",
    "print(\"There are\",len(customer_age[(customer_age.customer_age >= 20) &(customer_age.customer_age <= 29)] ),\"clients between 20 and 30 years old. Which is\",\n",
    "     round((len(customer_age[(customer_age.customer_age >= 20) &(customer_age.customer_age <= 29)] ) * 100) / len(customer_age), 2), \"% of the number of clients.\")\n",
    "\n",
    "customer_age.hist()"
   ]
  },
  {
   "cell_type": "markdown",
   "metadata": {},
   "source": [
    "### gender"
   ]
  },
  {
   "cell_type": "code",
   "execution_count": 40,
   "metadata": {},
   "outputs": [
    {
     "data": {
      "text/html": [
       "<div>\n",
       "<style scoped>\n",
       "    .dataframe tbody tr th:only-of-type {\n",
       "        vertical-align: middle;\n",
       "    }\n",
       "\n",
       "    .dataframe tbody tr th {\n",
       "        vertical-align: top;\n",
       "    }\n",
       "\n",
       "    .dataframe thead th {\n",
       "        text-align: right;\n",
       "    }\n",
       "</style>\n",
       "<table border=\"1\" class=\"dataframe\">\n",
       "  <thead>\n",
       "    <tr style=\"text-align: right;\">\n",
       "      <th></th>\n",
       "      <th>gender</th>\n",
       "    </tr>\n",
       "  </thead>\n",
       "  <tbody>\n",
       "    <tr>\n",
       "      <th>Male</th>\n",
       "      <td>29267</td>\n",
       "    </tr>\n",
       "    <tr>\n",
       "      <th>Female</th>\n",
       "      <td>28901</td>\n",
       "    </tr>\n",
       "  </tbody>\n",
       "</table>\n",
       "</div>"
      ],
      "text/plain": [
       "        gender\n",
       "Male     29267\n",
       "Female   28901"
      ]
     },
     "metadata": {},
     "output_type": "display_data"
    },
    {
     "name": "stdout",
     "output_type": "stream",
     "text": [
      "['Male' 'Female']\n"
     ]
    },
    {
     "data": {
      "text/plain": [
       "<AxesSubplot:>"
      ]
     },
     "execution_count": 40,
     "metadata": {},
     "output_type": "execute_result"
    },
    {
     "data": {
      "image/png": "[encoded data removed]",
      "text/plain": [
       "<Figure size 432x288 with 1 Axes>"
      ]
     },
     "metadata": {
      "needs_background": "light"
     },
     "output_type": "display_data"
    }
   ],
   "source": [
    "# We know the gender of our customers:\n",
    "# Men and women are interested in our product\n",
    "\n",
    "object_check(df.gender)\n",
    "df.gender.hist()"
   ]
  },
  {
   "cell_type": "markdown",
   "metadata": {},
   "source": [
    "### customer_city"
   ]
  },
  {
   "cell_type": "code",
   "execution_count": 41,
   "metadata": {},
   "outputs": [
    {
     "data": {
      "text/html": [
       "<div>\n",
       "<style scoped>\n",
       "    .dataframe tbody tr th:only-of-type {\n",
       "        vertical-align: middle;\n",
       "    }\n",
       "\n",
       "    .dataframe tbody tr th {\n",
       "        vertical-align: top;\n",
       "    }\n",
       "\n",
       "    .dataframe thead th {\n",
       "        text-align: right;\n",
       "    }\n",
       "</style>\n",
       "<table border=\"1\" class=\"dataframe\">\n",
       "  <thead>\n",
       "    <tr style=\"text-align: right;\">\n",
       "      <th></th>\n",
       "      <th>customer_city</th>\n",
       "    </tr>\n",
       "  </thead>\n",
       "  <tbody>\n",
       "    <tr>\n",
       "      <th>London</th>\n",
       "      <td>1544</td>\n",
       "    </tr>\n",
       "    <tr>\n",
       "      <th>Paris</th>\n",
       "      <td>1148</td>\n",
       "    </tr>\n",
       "    <tr>\n",
       "      <th>Cliffside</th>\n",
       "      <td>901</td>\n",
       "    </tr>\n",
       "    <tr>\n",
       "      <th>Berlin</th>\n",
       "      <td>572</td>\n",
       "    </tr>\n",
       "    <tr>\n",
       "      <th>Chula Vista</th>\n",
       "      <td>567</td>\n",
       "    </tr>\n",
       "    <tr>\n",
       "      <th>...</th>\n",
       "      <td>...</td>\n",
       "    </tr>\n",
       "    <tr>\n",
       "      <th>Bountiful</th>\n",
       "      <td>2</td>\n",
       "    </tr>\n",
       "    <tr>\n",
       "      <th>Chehalis</th>\n",
       "      <td>1</td>\n",
       "    </tr>\n",
       "    <tr>\n",
       "      <th>Braintree</th>\n",
       "      <td>1</td>\n",
       "    </tr>\n",
       "    <tr>\n",
       "      <th>Byron</th>\n",
       "      <td>1</td>\n",
       "    </tr>\n",
       "    <tr>\n",
       "      <th>Bellevue</th>\n",
       "      <td>1</td>\n",
       "    </tr>\n",
       "  </tbody>\n",
       "</table>\n",
       "<p>268 rows × 1 columns</p>\n",
       "</div>"
      ],
      "text/plain": [
       "             customer_city\n",
       "London                1544\n",
       "Paris                 1148\n",
       "Cliffside              901\n",
       "Berlin                 572\n",
       "Chula Vista            567\n",
       "...                    ...\n",
       "Bountiful                2\n",
       "Chehalis                 1\n",
       "Braintree                1\n",
       "Byron                    1\n",
       "Bellevue                 1\n",
       "\n",
       "[268 rows x 1 columns]"
      ]
     },
     "metadata": {},
     "output_type": "display_data"
    },
    {
     "name": "stdout",
     "output_type": "stream",
     "text": [
      "['Rockhampton' 'Seaford' 'Burbank' 'Bendigo' 'Bellingham' 'Goulburn'\n",
      " 'St. Leonards' 'Cranbourne' 'Tacoma' 'Lavender Bay' 'East Brisbane'\n",
      " 'Newcastle' 'Warrnambool' 'Wollongong' 'Lincoln Acres' 'San Gabriel'\n",
      " 'Concord' 'Beverly Hills' 'Colma' 'Solingen' 'Versailles' 'Hamburg'\n",
      " 'Lemon Grove' 'Burien' 'Newton' 'Berlin' 'Stoke-on-Trent' 'Watford'\n",
      " 'Tremblay-en-France' 'Metz' 'Gateshead' 'Milton Keynes' 'Saint Ouen'\n",
      " 'Paris' 'Pantin' 'Cloverdale' 'Gold Coast' 'York' 'Hawthorne'\n",
      " 'Warrington' 'Esher-Molesey' 'Eilenburg' 'N. Vancouver' 'Portland'\n",
      " 'Roubaix' 'Frankfurt am Main' 'Cheltenham' 'Saint-Denis' 'Saarbrücken'\n",
      " 'Les Ulis' 'Morangis' 'Offenbach' 'Lancaster' 'Cliffside' 'Seattle'\n",
      " 'Bellflower' 'El Cajon' 'Shawnee' 'Spring Valley' 'Malabar' 'Perth'\n",
      " 'Burlingame' 'Bremerton' 'W. Linn' 'San Carlos' 'Santa Monica' 'Rhodes'\n",
      " 'Hobart' 'Townsville' 'Port Macquarie' 'Brisbane' 'Geelong' 'Victoria'\n",
      " 'Sunbury' 'Lane Cove' 'Hervey Bay' 'Renton' 'Caloundra' 'Sooke'\n",
      " 'Milwaukie' 'Dunkerque' 'Santa Cruz' 'Berkeley' 'München' 'Roncq'\n",
      " 'Mühlheim' 'London' 'Woolston' 'Peterborough' 'Frankfurt' 'Suresnes'\n",
      " 'Runcorn' 'Sydney' 'Silverwater' 'Poing' 'La Jolla' 'Imperial Beach'\n",
      " 'Spokane' 'Bury' 'Leeds' 'Liverpool' 'Melbourne' 'Everett' 'Salem'\n",
      " 'Colombes' 'Kassel' 'Bottrop' 'San Diego' 'Vancouver' 'Lakewood'\n",
      " 'Lynnwood' 'Downey' 'Darlinghurst' 'Oregon City' 'Melton' 'Corvallis'\n",
      " 'Neunkirchen' 'Paderborn' 'Port Hammond' 'Palo Alto' 'Beaverton'\n",
      " 'Burnaby' 'Olympia' 'Glendale' 'National City' 'Puyallup' 'Courbevoie'\n",
      " 'Saint Germain en Laye' 'Ingolstadt' 'Grevenbroich' 'Lieusaint'\n",
      " 'Coronado' 'South Melbourne' 'Matraville' 'Los Angeles' 'Lebanon'\n",
      " 'Woodburn' 'Langford' 'West Covina' 'Cambridge' 'Newcastle upon Tyne'\n",
      " 'Billericay' 'Orleans' 'Oxon' 'Hannover' 'Clearwater' 'Sedro Woolley'\n",
      " 'Paris La Defense' 'Langley' 'Oak Bay' 'Port Orchard' 'Royal Oak'\n",
      " 'Grossmont' 'Roissy en Brie' 'Redwood City' 'Chula Vista'\n",
      " 'Woodland Hills' 'Marysville' 'Kirkby' 'Hof' 'Issaquah' 'Torrance'\n",
      " 'Fremont' 'Daly City' 'Novato' 'Chatou' 'Leipzig' 'Bobigny' 'Werne'\n",
      " 'Wokingham' 'Darmstadt' 'Bracknell' 'Sèvres' 'Stuttgart' 'Berks' 'Essen'\n",
      " 'Metchosin' 'Long Beach' 'North Ryde' 'Haney' 'Lake Oswego' 'Oakland'\n",
      " 'Kirkland' 'Boulogne-Billancourt' 'Westminster' 'Berkshire'\n",
      " 'San Francisco' 'Newport Beach' 'Walla Walla' 'Edmonds' 'Redmond'\n",
      " 'Springwood' 'Coffs Harbour' 'North Sydney' 'Yakima' 'Mill Valley'\n",
      " 'Maidenhead' 'West Sussex' 'Erlangen' 'Bell Gardens' 'Sulzbach Taunus'\n",
      " 'Münster' 'Milsons Point' 'Campbellsville' 'Carrollton' 'Branson'\n",
      " 'Ballard' 'Oxford' \"Villeneuve-d'Ascq\" 'Drancy' 'Braunschweig' 'Cergy'\n",
      " 'Verrieres Le Buisson' 'Lille' 'Kiel' 'Saarlouis' 'Bonn' 'Columbus'\n",
      " 'Central Valley' 'Reading' 'Dresden' 'W. York' 'Salzgitter'\n",
      " 'Gloucestershire' 'Bluffton' 'Birmingham' 'Orly' 'Findon' 'Clackamas'\n",
      " 'Calgary' 'Chalk Riber' 'Croix' 'Duesseldorf' 'Colomiers' 'High Wycombe'\n",
      " 'Basingstoke Hants' 'Boulogne-sur-Mer' 'Cedar Park' 'Clay' 'Bradenton'\n",
      " 'Bountiful' 'Chicago' 'Charlotte' 'Byron' 'Chehalis' 'Chantilly'\n",
      " 'Clarkston' 'City Of Commerce' 'Citrus Heights' 'Canoga Park' 'Bothell'\n",
      " 'Cincinnati' 'Casper' 'Cedar City' 'Billings' 'Camarillo' 'Cheektowaga'\n",
      " 'Branch' 'Cheyenne' 'College Station' 'Carol Stream' 'Baytown' 'Cerritos'\n",
      " 'Carson' 'Biloxi' 'Chandler' 'Bellevue' 'Braintree']\n"
     ]
    }
   ],
   "source": [
    "# As we can see many cities are ordering our product\n",
    "# Let's find out the top 15 cities\n",
    "\n",
    "object_check(df.customer_city)"
   ]
  },
  {
   "cell_type": "code",
   "execution_count": 42,
   "metadata": {},
   "outputs": [
    {
     "data": {
      "text/plain": [
       "London          1544\n",
       "Paris           1148\n",
       "Cliffside        901\n",
       "Berlin           572\n",
       "Chula Vista      567\n",
       "Burien           563\n",
       "Shawnee          549\n",
       "Bellingham       549\n",
       "Berkeley         546\n",
       "N. Vancouver     546\n",
       "Concord          540\n",
       "Beaverton        535\n",
       "Burlingame       516\n",
       "Bellflower       511\n",
       "Langley          511\n",
       "Name: customer_city, dtype: int64"
      ]
     },
     "execution_count": 42,
     "metadata": {},
     "output_type": "execute_result"
    }
   ],
   "source": [
    "df.customer_city.value_counts().head(15)"
   ]
  },
  {
   "cell_type": "markdown",
   "metadata": {},
   "source": [
    "### sales_amount"
   ]
  },
  {
   "cell_type": "code",
   "execution_count": 43,
   "metadata": {},
   "outputs": [
    {
     "name": "stdout",
     "output_type": "stream",
     "text": [
      "count    58168.000000\n",
      "mean       382.336169\n",
      "std        755.592295\n",
      "min          2.290000\n",
      "25%          7.950000\n",
      "50%         28.990000\n",
      "75%         69.990000\n",
      "max       2443.350000\n",
      "Name: sales_amount, dtype: float64\n"
     ]
    },
    {
     "data": {
      "image/png": "[encoded data removed]",
      "text/plain": [
       "<Figure size 432x288 with 1 Axes>"
      ]
     },
     "metadata": {
      "needs_background": "light"
     },
     "output_type": "display_data"
    }
   ],
   "source": [
    "float_check(df.sales_amount)"
   ]
  },
  {
   "cell_type": "code",
   "execution_count": 44,
   "metadata": {},
   "outputs": [
    {
     "data": {
      "text/html": [
       "<div>\n",
       "<style scoped>\n",
       "    .dataframe tbody tr th:only-of-type {\n",
       "        vertical-align: middle;\n",
       "    }\n",
       "\n",
       "    .dataframe tbody tr th {\n",
       "        vertical-align: top;\n",
       "    }\n",
       "\n",
       "    .dataframe thead th {\n",
       "        text-align: right;\n",
       "    }\n",
       "</style>\n",
       "<table border=\"1\" class=\"dataframe\">\n",
       "  <thead>\n",
       "    <tr style=\"text-align: right;\">\n",
       "      <th></th>\n",
       "      <th>sub_category</th>\n",
       "      <th>sales_amount</th>\n",
       "    </tr>\n",
       "    <tr>\n",
       "      <th>product_category</th>\n",
       "      <th></th>\n",
       "      <th></th>\n",
       "    </tr>\n",
       "  </thead>\n",
       "  <tbody>\n",
       "    <tr>\n",
       "      <th>Bikes</th>\n",
       "      <td>Touring Bikes</td>\n",
       "      <td>2443.35</td>\n",
       "    </tr>\n",
       "    <tr>\n",
       "      <th>Accessories</th>\n",
       "      <td>Tires and Tubes</td>\n",
       "      <td>159.00</td>\n",
       "    </tr>\n",
       "    <tr>\n",
       "      <th>Clothing</th>\n",
       "      <td>Vests</td>\n",
       "      <td>69.99</td>\n",
       "    </tr>\n",
       "  </tbody>\n",
       "</table>\n",
       "</div>"
      ],
      "text/plain": [
       "                     sub_category  sales_amount\n",
       "product_category                               \n",
       "Bikes               Touring Bikes       2443.35\n",
       "Accessories       Tires and Tubes        159.00\n",
       "Clothing                    Vests         69.99"
      ]
     },
     "execution_count": 44,
     "metadata": {},
     "output_type": "execute_result"
    }
   ],
   "source": [
    "# Let's check the sales volume\n",
    "# Let's check the product categories first\n",
    "# Bicycles are the most purchased category\n",
    "\n",
    "sales_amount = df.groupby('product_category')[['sub_category','sales_amount']].max().sort_values('sales_amount', ascending = False)\n",
    "sales_amount"
   ]
  },
  {
   "cell_type": "code",
   "execution_count": 45,
   "metadata": {},
   "outputs": [],
   "source": [
    "# Let's check now the best selling item by category\n",
    "\n",
    "product_per_category = df.groupby('product_name')[['product_name','sub_category','sales_amount','customer_city']\n",
    "                                                 ].max().sort_values('sales_amount', ascending = False)"
   ]
  },
  {
   "cell_type": "code",
   "execution_count": 46,
   "metadata": {},
   "outputs": [
    {
     "data": {
      "text/plain": [
       "('The best-selling product in the subcategory Mountain Bikes : Mountain-500 Silver, 52 in the city York',\n",
       " 'The best-selling product in the subcategory Fenders : Fender Set - Mountain in the city York',\n",
       " 'The best-selling product in the subcategory Touring Bikes : Touring-3000 Yellow, 62 in the city York',\n",
       " 'The best-selling product in the subcategory Tires and Tubes : Touring Tire Tube in the city York',\n",
       " 'The best-selling product in the subcategory Helmets : Sport-100 Helmet, Red in the city York',\n",
       " 'The best-selling product in the subcategory Jerseys : Short-Sleeve Classic Jersey, XL in the city York',\n",
       " 'The best-selling product in the subcategory Bottles and Cages : Water Bottle - 30 oz. in the city York',\n",
       " 'The best-selling product in the subcategory Caps : AWC Logo Cap in the city York',\n",
       " 'The best-selling product in the subcategory Road Bikes : Road-750 Black, 58 in the city York',\n",
       " 'The best-selling product in the subcategory Gloves : Half-Finger Gloves, S in the city York',\n",
       " 'The best-selling product in the subcategory Bike Stands : All-Purpose Bike Stand in the city Yakima',\n",
       " 'The best-selling product in the subcategory Socks : Racing Socks, M in the city York',\n",
       " 'The best-selling product in the subcategory Bike Racks : Hitch Rack - 4-Bike in the city Yakima',\n",
       " \"The best-selling product in the subcategory Shorts : Women's Mountain Shorts, S in the city York\",\n",
       " 'The best-selling product in the subcategory Hydration Packs : Hydration Pack - 70 oz. in the city York',\n",
       " 'The best-selling product in the subcategory Cleaners : Bike Wash - Dissolver in the city York',\n",
       " 'The best-selling product in the subcategory Vests : Classic Vest, S in the city York')"
      ]
     },
     "execution_count": 46,
     "metadata": {},
     "output_type": "execute_result"
    }
   ],
   "source": [
    "def cost(column):\n",
    "    sub_category = product_per_category[(product_per_category.sub_category == column)]['product_name'].max()\n",
    "    city = product_per_category[(product_per_category.sub_category == column)]['customer_city'].max()\n",
    "    return \"The best-selling product in the subcategory \" + column + ' : ' + sub_category + ' in the city ' + city\n",
    "\n",
    "(*map(cost, df.sub_category.unique()),)"
   ]
  },
  {
   "cell_type": "markdown",
   "metadata": {},
   "source": [
    "### product_name"
   ]
  },
  {
   "cell_type": "code",
   "execution_count": 47,
   "metadata": {},
   "outputs": [
    {
     "name": "stdout",
     "output_type": "stream",
     "text": [
      "Water Bottle - 30 oz.      4244\n",
      "Patch Kit/8 Patches        3191\n",
      "Mountain Tire Tube         3095\n",
      "Road Tire Tube             2376\n",
      "Sport-100 Helmet, Red      2230\n",
      "AWC Logo Cap               2190\n",
      "Sport-100 Helmet, Blue     2125\n",
      "Fender Set - Mountain      2121\n",
      "Sport-100 Helmet, Black    2085\n",
      "Mountain Bottle Cage       2025\n",
      "Road Bottle Cage           1712\n",
      "Touring Tire Tube          1488\n",
      "HL Mountain Tire           1396\n",
      "ML Mountain Tire           1161\n",
      "LL Road Tire               1044\n",
      "Name: product_name, dtype: int64\n"
     ]
    },
    {
     "data": {
      "image/png": "[encoded data removed]",
      "text/plain": [
       "<Figure size 720x720 with 1 Axes>"
      ]
     },
     "metadata": {
      "needs_background": "light"
     },
     "output_type": "display_data"
    }
   ],
   "source": [
    "# Let's repeat the action above and find out the best sellers:\n",
    "# Water Bottle - 30 oz.\n",
    "\n",
    "print(df['product_name'].value_counts().head(15))\n",
    "plt.rcParams['figure.figsize'] = (10,10)\n",
    "product_name = df['product_name'].value_counts().nlargest(15).plot(kind='barh')"
   ]
  },
  {
   "cell_type": "markdown",
   "metadata": {},
   "source": [
    "### standard_cost"
   ]
  },
  {
   "cell_type": "code",
   "execution_count": 48,
   "metadata": {},
   "outputs": [
    {
     "name": "stdout",
     "output_type": "stream",
     "text": [
      "count    58168.000000\n",
      "mean       223.847465\n",
      "std        447.200568\n",
      "min          0.856500\n",
      "25%          2.973300\n",
      "50%         10.842300\n",
      "75%         41.572300\n",
      "max       1554.947900\n",
      "Name: standard_cost, dtype: float64\n"
     ]
    },
    {
     "data": {
      "image/png": "[encoded data removed]",
      "text/plain": [
       "<Figure size 720x720 with 1 Axes>"
      ]
     },
     "metadata": {
      "needs_background": "light"
     },
     "output_type": "display_data"
    }
   ],
   "source": [
    "float_check(df.standard_cost)"
   ]
  },
  {
   "cell_type": "code",
   "execution_count": 49,
   "metadata": {},
   "outputs": [],
   "source": [
    "# Let's group the data to see the most expensive items by subgroups\n",
    "\n",
    "standard_cost = df.groupby('product_name')[['product_name','sub_category','standard_cost']].max().sort_values('standard_cost', ascending = False)"
   ]
  },
  {
   "cell_type": "code",
   "execution_count": 50,
   "metadata": {},
   "outputs": [
    {
     "data": {
      "text/plain": [
       "('Самый дорогостоящий товар в категории Mountain Bikes : Mountain-500 Silver, 52',\n",
       " 'Самый дорогостоящий товар в категории Fenders : Fender Set - Mountain',\n",
       " 'Самый дорогостоящий товар в категории Touring Bikes : Touring-3000 Yellow, 62',\n",
       " 'Самый дорогостоящий товар в категории Tires and Tubes : Touring Tire Tube',\n",
       " 'Самый дорогостоящий товар в категории Helmets : Sport-100 Helmet, Red',\n",
       " 'Самый дорогостоящий товар в категории Jerseys : Short-Sleeve Classic Jersey, XL',\n",
       " 'Самый дорогостоящий товар в категории Bottles and Cages : Water Bottle - 30 oz.',\n",
       " 'Самый дорогостоящий товар в категории Caps : AWC Logo Cap',\n",
       " 'Самый дорогостоящий товар в категории Road Bikes : Road-750 Black, 58',\n",
       " 'Самый дорогостоящий товар в категории Gloves : Half-Finger Gloves, S',\n",
       " 'Самый дорогостоящий товар в категории Bike Stands : All-Purpose Bike Stand',\n",
       " 'Самый дорогостоящий товар в категории Socks : Racing Socks, M',\n",
       " 'Самый дорогостоящий товар в категории Bike Racks : Hitch Rack - 4-Bike',\n",
       " \"Самый дорогостоящий товар в категории Shorts : Women's Mountain Shorts, S\",\n",
       " 'Самый дорогостоящий товар в категории Hydration Packs : Hydration Pack - 70 oz.',\n",
       " 'Самый дорогостоящий товар в категории Cleaners : Bike Wash - Dissolver',\n",
       " 'Самый дорогостоящий товар в категории Vests : Classic Vest, S')"
      ]
     },
     "execution_count": 50,
     "metadata": {},
     "output_type": "execute_result"
    }
   ],
   "source": [
    "def cost(column):\n",
    "    sub_category = standard_cost[(standard_cost.sub_category == column)]['product_name'].max()\n",
    "    return \"Самый дорогостоящий товар в категории \" + column + ' : ' + sub_category\n",
    "\n",
    "(*map(cost, df.sub_category.unique()),)"
   ]
  },
  {
   "cell_type": "code",
   "execution_count": null,
   "metadata": {},
   "outputs": [],
   "source": []
  }
 ],
 "metadata": {
  "kernelspec": {
   "display_name": "Python 3",
   "language": "python",
   "name": "python3"
  },
  "language_info": {
   "codemirror_mode": {
    "name": "ipython",
    "version": 3
   },
   "file_extension": ".py",
   "mimetype": "text/x-python",
   "name": "python",
   "nbconvert_exporter": "python",
   "pygments_lexer": "ipython3",
   "version": "3.8.8"
  }
 },
 "nbformat": 4,
 "nbformat_minor": 2
}
